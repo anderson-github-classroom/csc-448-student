{
 "cells": [
  {
   "cell_type": "markdown",
   "metadata": {},
   "source": [
    "# Before anyone begins\n",
    "\n",
    "We want this tutorial to have a bit for both CS and BIO students. It is inevitable that some parts of this tutorial will make less or more sense depending on your background. The goal of the tutorial is exposure. We and your colleagues are here to help with unfamiliar pieces. In our minds, I think a few things are important to state:\n",
    "\n",
    "1. As a computer scientist, it is easier to understand the computational structure of this notebook because we are more familiar and have more experience and knowledge of \"practical\" computational thinking. \n",
    "2. As a biolgist, it is easier to understand the biological structure and meaning of proteins and DNA because we are more familiar and have more experience and knowledge of biological processes and models.\n",
    "\n",
    "That shows a parallel and complementary nature we hope to explore in this tutorial."
   ]
  },
  {
   "cell_type": "markdown",
   "metadata": {},
   "source": [
    "# Introduction to Jupyter, Git, Command Line, and Blast\n",
    "So that is a lot in a single title... so it is important to consider what level of introduction can be accomplished. The goals of this tutorial are to pass the milestones of:\n",
    "* I've seen Jupyter notebooks before.\n",
    "* I've seen Git before and used it to get source (this notebook)\n",
    "* I ran blast locally\n",
    "* I connected blast (a program) to an interesting biological question\n",
    "\n",
    "We are going to narrowly approach and describe these technologies in a motivating example.\n",
    "\n",
    "**Motivating Example:** Let's say that you are a researcher study the novel corona virus. In your literature search and reading you have come across this paper: <br>\n",
    "\n",
    "<a href=\"https://www.sciencedirect.com/science/article/pii/S0166354220300528\">https://www.sciencedirect.com/science/article/pii/S0166354220300528</a>\n",
    "\n",
    "In reading this paper, you come across this alignment figure:\n",
    "<img src=\"https://ars.els-cdn.com/content/image/1-s2.0-S0166354220300528-gr2.jpg\">\n",
    "\n",
    "As a scientist, you may be curious about a number of different things. One of those may be that while the authors show a multiple sequence alignment produced by a specific alignment tool (see paper for more details but beyond scope of this tutorial), **you want to explore a pairwise sequence alignment between the SARS spike glycoprotein and the 2019-nCoV version**. In this notebook, you will walk through the commands and steps to use NCBI's blastp to perform this analysis. "
   ]
  },
  {
   "cell_type": "markdown",
   "metadata": {},
   "source": [
    "Here is a quick hit list to prepare yourself for the analysis. Further reading of the original paper and exploration of NCBI is recommended for those interested. \n",
    "\n",
    "NCBI has a large variety of resources available on SARS-COV-2 (2019-nCoV): https://www.ncbi.nlm.nih.gov/sars-cov-2/\n",
    "\n",
    "The paper mentioned above highlights the following findings:\n",
    "* The genomic sequence of 2019-nCoV indicates that the virus clusters with betacoronaviruses of lineage b.\n",
    "* 2019-nCoV S-protein sequence has a specific furin-like cleavage site absent in lineage b CoV including SARS-CoV sequences.\n",
    "* The furin-like cleavage site in the S-protein of 2019-nCoV may have implications for the viral life cycle and pathogenicity.\n",
    "* Campaigns to develop anti-2019-nCoV therapeutics should include the evaluation of furin inhibitors.\n",
    "\n",
    "A reference genome is available - https://www.ncbi.nlm.nih.gov/nuccore/NC_045512.2\n",
    "\n",
    "An annotation indicates the spike glycoprotein:\n",
    "\n",
    "<pre>\n",
    "21563..25384\n",
    "     /gene=\"S\"\n",
    "     /locus_tag=\"GU280_gp02\"\n",
    "     /gene_synonym=\"spike glycoprotein\"\n",
    "     /db_xref=\"GeneID:43740568\"\n",
    "</pre>"
   ]
  },
  {
   "cell_type": "markdown",
   "metadata": {},
   "source": [
    "## Tutorial Data\n",
    "While it is entirely reasonable to have folks find and download the data needed for this tutorial from NCBI, that is not our learning objective for this tutorial. We have prepared the data inside the student repository for CSC448 which is a public repository. Inside this repository, we have downloaded a version of the 2019-nCov genome. At this point in the tutorial we have not run any other type of cell than a **markdown cell**. Markdown cells are essentially notes/text. The beauty of these notebooks is that we can run a variety of commands without leaving and thus we can document what we do in an orderly manner. \n",
    "\n",
    "The first command we run is a command to show the first 10 lines of the fasta formatted file."
   ]
  },
  {
   "cell_type": "code",
   "execution_count": 5,
   "metadata": {},
   "outputs": [
    {
     "name": "stdout",
     "output_type": "stream",
     "text": [
      ">NC_045512.2 Severe acute respiratory syndrome coronavirus 2 isolate Wuhan-Hu-1, complete genome\r\n",
      "ATTAAAGGTTTATACCTTCCCAGGTAACAAACCAACCAACTTTCGATCTCTTGTAGATCTGTTCTCTAAA\r\n",
      "CGAACTTTAAAATCTGTGTGGCTGTCACTCGGCTGCATGCTTAGTGCACTCACGCAGTATAATTAATAAC\r\n",
      "TAATTACTGTCGTTGACAGGACACGAGTAACTCGTCTATCTTCTGCAGGCTGCTTACGGTTTCGTCCGTG\r\n",
      "TTGCAGCCGATCATCAGCACATCTAGGTTTCGTCCGGGTGTGACCGAAAGGTAAGATGGAGAGCCTTGTC\r\n",
      "CCTGGTTTCAACGAGAAAACACACGTCCAACTCAGTTTGCCTGTTTTACAGGTTCGCGACGTGCTCGTAC\r\n",
      "GTGGCTTTGGAGACTCCGTGGAGGAGGTCTTATCAGAGGCACGTCAACATCTTAAAGATGGCACTTGTGG\r\n",
      "CTTAGTAGAAGTTGAAAAAGGCGTTTTGCCTCAACTTGAACAGCCCTATGTGTTCATCAAACGTTCGGAT\r\n",
      "GCTCGAACTGCACCTCATGGTCATGTTATGGTTGAGCTGGTAGCAGAACTCGAAGGCATTCAGTACGGTC\r\n",
      "GTAGTGGTGAGACACTTGGTGTCCTTGTCCCTCATGTGGGCGAAATACCAGTGGCTTACCGCAAGGTTCT\r\n"
     ]
    }
   ],
   "source": [
    "!head $HOME/csc-448-student/data/corona2019.fasta"
   ]
  },
  {
   "cell_type": "markdown",
   "metadata": {},
   "source": [
    "**Looks great, but what about our spike protein?**\n",
    "\n",
    "**Is there a way for us to know how many lines are in this file?**"
   ]
  },
  {
   "cell_type": "code",
   "execution_count": 1,
   "metadata": {},
   "outputs": [
    {
     "name": "stdout",
     "output_type": "stream",
     "text": [
      "429 /home/jupyter-pander14/csc-448-student/data/corona2019.fasta\r\n"
     ]
    }
   ],
   "source": [
    "!wc -l $HOME/csc-448-student/data/corona2019.fasta"
   ]
  },
  {
   "cell_type": "markdown",
   "metadata": {},
   "source": [
    "Don't forget about our annotation from before:\n",
    "\n",
    "<pre>\n",
    "21563..25384\n",
    "     /gene=\"S\"\n",
    "     /locus_tag=\"GU280_gp02\"\n",
    "     /gene_synonym=\"spike glycoprotein\"\n",
    "     /db_xref=\"GeneID:43740568\"\n",
    "</pre>\n",
    "\n",
    "**Can we easily extract this from the file and take a look?**"
   ]
  },
  {
   "cell_type": "code",
   "execution_count": 4,
   "metadata": {},
   "outputs": [
    {
     "name": "stdout",
     "output_type": "stream",
     "text": [
      "NC_045512.2\n",
      "\n",
      "ATGTTTGTTTTTCTTGTTTTATTGCCACTAGTCTCTAGTCAGTGTGTTAATCTTACAACCAGAACTCAATTACCCCCTGCATACACTAATTCTTTCACACGTGGTGTTTATTACCCTGACAAAGTTTTCAGATCCTCAGTTTTACATTCAACTCAGGACTTGTTCTTACCTTTCTTTTCCAATGTTACTTGGTTCCATGCTATACATGTCTCTGGGACCAATGGTACTAAGAGGTTTGATAACCCTGTCCTACCATTTAATGATGGTGTTTATTTTGCTTCCACTGAGAAGTCTAACATAATAAGAGGCTGGATTTTTGGTACTACTTTAGATTCGAAGACCCAGTCCCTACTTATTGTTAATAACGCTACTAATGTTGTTATTAAAGTCTGTGAATTTCAATTTTGTAATGATCCATTTTTGGGTGTTTATTACCACAAAAACAACAAAAGTTGGATGGAAAGTGAGTTCAGAGTTTATTCTAGTGCGAATAATTGCACTTTTGAATATGTCTCTCAGCCTTTTCTTATGGACCTTGAAGGAAAACAGGGTAATTTCAAAAATCTTAGGGAATTTGTGTTTAAGAATATTGATGGTTATTTTAAAATATATTCTAAGCACACGCCTATTAATTTAGTGCGTGATCTCCCTCAGGGTTTTTCGGCTTTAGAACCATTGGTAGATTTGCCAATAGGTATTAACATCACTAGGTTTCAAACTTTACTTGCTTTACATAGAAGTTATTTGACTCCTGGTGATTCTTCTTCAGGTTGGACAGCTGGTGCTGCAGCTTATTATGTGGGTTATCTTCAACCTAGGACTTTTCTATTAAAATATAATGAAAATGGAACCATTACAGATGCTGTAGACTGTGCACTTGACCCTCTCTCAGAAACAAAGTGTACGTTGAAATCCTTCACTGTAGAAAAAGGAATCTATCAAACTTCTAACTTTAGAGTCCAACCAACAGAATCTATTGTTAGATTTCCTAATATTACAAACTTGTGCCCTTTTGGTGAAGTTTTTAACGCCACCAGATTTGCATCTGTTTATGCTTGGAACAGGAAGAGAATCAGCAACTGTGTTGCTGATTATTCTGTCCTATATAATTCCGCATCATTTTCCACTTTTAAGTGTTATGGAGTGTCTCCTACTAAATTAAATGATCTCTGCTTTACTAATGTCTATGCAGATTCATTTGTAATTAGAGGTGATGAAGTCAGACAAATCGCTCCAGGGCAAACTGGAAAGATTGCTGATTATAATTATAAATTACCAGATGATTTTACAGGCTGCGTTATAGCTTGGAATTCTAACAATCTTGATTCTAAGGTTGGTGGTAATTATAATTACCTGTATAGATTGTTTAGGAAGTCTAATCTCAAACCTTTTGAGAGAGATATTTCAACTGAAATCTATCAGGCCGGTAGCACACCTTGTAATGGTGTTGAAGGTTTTAATTGTTACTTTCCTTTACAATCATATGGTTTCCAACCCACTAATGGTGTTGGTTACCAACCATACAGAGTAGTAGTACTTTCTTTTGAACTTCTACATGCACCAGCAACTGTTTGTGGACCTAAAAAGTCTACTAATTTGGTTAAAAACAAATGTGTCAATTTCAACTTCAATGGTTTAACAGGCACAGGTGTTCTTACTGAGTCTAACAAAAAGTTTCTGCCTTTCCAACAATTTGGCAGAGACATTGCTGACACTACTGATGCTGTCCGTGATCCACAGACACTTGAGATTCTTGACATTACACCATGTTCTTTTGGTGGTGTCAGTGTTATAACACCAGGAACAAATACTTCTAACCAGGTTGCTGTTCTTTATCAGGATGTTAACTGCACAGAAGTCCCTGTTGCTATTCATGCAGATCAACTTACTCCTACTTGGCGTGTTTATTCTACAGGTTCTAATGTTTTTCAAACACGTGCAGGCTGTTTAATAGGGGCTGAACATGTCAACAACTCATATGAGTGTGACATACCCATTGGTGCAGGTATATGCGCTAGTTATCAGACTCAGACTAATTCTCCTCGGCGGGCACGTAGTGTAGCTAGTCAATCCATCATTGCCTACACTATGTCACTTGGTGCAGAAAATTCAGTTGCTTACTCTAATAACTCTATTGCCATACCCACAAATTTTACTATTAGTGTTACCACAGAAATTCTACCAGTGTCTATGACCAAGACATCAGTAGATTGTACAATGTACATTTGTGGTGATTCAACTGAATGCAGCAATCTTTTGTTGCAATATGGCAGTTTTTGTACACAATTAAACCGTGCTTTAACTGGAATAGCTGTTGAACAAGACAAAAACACCCAAGAAGTTTTTGCACAAGTCAAACAAATTTACAAAACACCACCAATTAAAGATTTTGGTGGTTTTAATTTTTCACAAATATTACCAGATCCATCAAAACCAAGCAAGAGGTCATTTATTGAAGATCTACTTTTCAACAAAGTGACACTTGCAGATGCTGGCTTCATCAAACAATATGGTGATTGCCTTGGTGATATTGCTGCTAGAGACCTCATTTGTGCACAAAAGTTTAACGGCCTTACTGTTTTGCCACCTTTGCTCACAGATGAAATGATTGCTCAATACACTTCTGCACTGTTAGCGGGTACAATCACTTCTGGTTGGACCTTTGGTGCAGGTGCTGCATTACAAATACCATTTGCTATGCAAATGGCTTATAGGTTTAATGGTATTGGAGTTACACAGAATGTTCTCTATGAGAACCAAAAATTGATTGCCAACCAATTTAATAGTGCTATTGGCAAAATTCAAGACTCACTTTCTTCCACAGCAAGTGCACTTGGAAAACTTCAAGATGTGGTCAACCAAAATGCACAAGCTTTAAACACGCTTGTTAAACAACTTAGCTCCAATTTTGGTGCAATTTCAAGTGTTTTAAATGATATCCTTTCACGTCTTGACAAAGTTGAGGCTGAAGTGCAAATTGATAGGTTGATCACAGGCAGACTTCAAAGTTTGCAGACATATGTGACTCAACAATTAATTAGAGCTGCAGAAATCAGAGCTTCTGCTAATCTTGCTGCTACTAAAATGTCAGAGTGTGTACTTGGACAATCAAAAAGAGTTGATTTTTGTGGAAAGGGCTATCATCTTATGTCCTTCCCTCAGTCAGCACCTCATGGTGTAGTCTTCTTGCATGTGACTTATGTCCCTGCACAAGAAAAGAACTTCACAACTGCTCCTGCCATTTGTCATGATGGAAAAGCACACTTTCCTCGTGAAGGTGTCTTTGTTTCAAATGGCACACACTGGTTTGTAACACAAAGGAATTTTTATGAACCACAAATCATTACTACAGACAACACATTTGTGTCTGGTAACTGTGATGTTGTAATAGGAATTGTCAACAACACAGTTTATGATCCTTTGCAACCTGAATTAGACTCATTCAAGGAGGAGTTAGATAAATATTTTAAGAATCATACATCACCAGATGTTGATTTAGGTGACATCTCTGGCATTAATGCTTCAGTTGTAAACATTCAAAAAGAAATTGACCGCCTCAATGAGGTTGCCAAGAATTTAAATGAATCTCTCATCGATCTCCAAGAACTTGGAAAGTATGAGCAGTATATAAAATGGCCATGGTACATTTGGCTAGGTTTTATAGCTGGCTTGATTGCCATAGTAATGGTGACAATTATGCTTTGCTGTATGACCAGTTGCTGTAGTTGTCTCAAGGGCTGTTGTTCTTGTGGATCCTGCTGCAAATTTGATGAAGACGACTCTGAGCCAGTGCTCAAAGGAGTCAAATTACATTACACATAA\n",
      "\n"
     ]
    }
   ],
   "source": [
    "from pathlib import Path\n",
    "from Bio import SeqIO\n",
    "\n",
    "home = str(Path.home())\n",
    "\n",
    "for seq_record in SeqIO.parse(\"%s/csc-448-student/data/corona2019.fasta\"%home, \"fasta\"):\n",
    "    print(str(seq_record.id) + \"\\n\")\n",
    "    print(str(seq_record.seq[(21563-1):25384]) + \"\\n\")"
   ]
  },
  {
   "cell_type": "markdown",
   "metadata": {},
   "source": [
    "**Stop and think:** Should we align the gene or the protein sequence? \n",
    "\n",
    "For this example, we are going to align the protein sequences which have also been downloaded for you."
   ]
  },
  {
   "cell_type": "markdown",
   "metadata": {},
   "source": [
    "### SARS spike glycoprotein"
   ]
  },
  {
   "cell_type": "code",
   "execution_count": 5,
   "metadata": {},
   "outputs": [
    {
     "name": "stdout",
     "output_type": "stream",
     "text": [
      ">AAP30030.1 spike glycoprotein S [SARS coronavirus BJ01]\r\n",
      "MFIFLLFLTLTSGSDLDRCTTFDDVQAPNYTQHTSSMRGVYYPDEIFRSDTLYLTQDLFLPFYSNVTGFH\r\n",
      "TINHTFDNPVIPFKDGIYFAATEKSNVVRGWVFGSTMNNKSQSVIIINNSTNVVIRACNFELCDNPFFAV\r\n",
      "SKPMGTQTHTMIFDNAFNCTFEYISDAFSLDVSEKSGNFKHLREFVFKNKDGFLYVYKGYQPIDVVRDLP\r\n",
      "SGFNTLKPIFKLPLGINITNFRAILTAFSPAQDTWGTSAAAYFVGYLKPTTFMLKYDENGTITDAVDCSQ\r\n",
      "NPLAELKCSVKSFEIDKGIYQTSNFRVVPSGDVVRFPNITNLCPFGEVFNATKFPSVYAWERKKISNCVA\r\n",
      "DYSVLYNSTFFSTFKCYGVSATKLNDLCFSNVYADSFVVKGDDVRQIAPGQTGVIADYNYKLPDDFMGCV\r\n",
      "LAWNTRNIDATSTGNYNYKYRYLRHGKLRPFERDISNVPFSPDGKPCTPPALNCYWPLNDYGFYTTTGIG\r\n",
      "YQPYRVVVLSFELLNAPATVCGPKLSTDLIKNQCVNFNFNGLTGTGVLTPSSKRFQPFQQFGRDVSDFTD\r\n",
      "SVRDPKTSEILDISPCSFGGVSVITPGTNASSEVAVLYQDVNCTDVSTAIHADQLTPAWRIYSTGNNVFQ\r\n"
     ]
    }
   ],
   "source": [
    "!head ../csc-448-student/data/spike_SARS.fasta"
   ]
  },
  {
   "cell_type": "markdown",
   "metadata": {},
   "source": [
    "### 2019-nCOV spike glycoprotein"
   ]
  },
  {
   "cell_type": "code",
   "execution_count": 6,
   "metadata": {},
   "outputs": [
    {
     "name": "stdout",
     "output_type": "stream",
     "text": [
      ">YP_009724390.1 surface glycoprotein [Severe acute respiratory syndrome coronavirus 2]\r\n",
      "MFVFLVLLPLVSSQCVNLTTRTQLPPAYTNSFTRGVYYPDKVFRSSVLHSTQDLFLPFFSNVTWFHAIHV\r\n",
      "SGTNGTKRFDNPVLPFNDGVYFASTEKSNIIRGWIFGTTLDSKTQSLLIVNNATNVVIKVCEFQFCNDPF\r\n",
      "LGVYYHKNNKSWMESEFRVYSSANNCTFEYVSQPFLMDLEGKQGNFKNLREFVFKNIDGYFKIYSKHTPI\r\n",
      "NLVRDLPQGFSALEPLVDLPIGINITRFQTLLALHRSYLTPGDSSSGWTAGAAAYYVGYLQPRTFLLKYN\r\n",
      "ENGTITDAVDCALDPLSETKCTLKSFTVEKGIYQTSNFRVQPTESIVRFPNITNLCPFGEVFNATRFASV\r\n",
      "YAWNRKRISNCVADYSVLYNSASFSTFKCYGVSPTKLNDLCFTNVYADSFVIRGDEVRQIAPGQTGKIAD\r\n",
      "YNYKLPDDFTGCVIAWNSNNLDSKVGGNYNYLYRLFRKSNLKPFERDISTEIYQAGSTPCNGVEGFNCYF\r\n",
      "PLQSYGFQPTNGVGYQPYRVVVLSFELLHAPATVCGPKKSTNLVKNKCVNFNFNGLTGTGVLTESNKKFL\r\n",
      "PFQQFGRDIADTTDAVRDPQTLEILDITPCSFGGVSVITPGTNTSNQVAVLYQDVNCTEVPVAIHADQLT\r\n"
     ]
    }
   ],
   "source": [
    "!head ../csc-448-student/data/spike_COVID.fasta"
   ]
  },
  {
   "cell_type": "markdown",
   "metadata": {},
   "source": [
    "## blastp\n",
    "The first step for local blast (assuming you have it installed), is to make a blastable database. For this we choose the SARS version of the protein and use the makeblastdb program. We first copy the data directory and then we create our database."
   ]
  },
  {
   "cell_type": "code",
   "execution_count": 9,
   "metadata": {},
   "outputs": [],
   "source": [
    "cp -R $HOME/csc-448-student/data ."
   ]
  },
  {
   "cell_type": "code",
   "execution_count": 10,
   "metadata": {},
   "outputs": [
    {
     "name": "stdout",
     "output_type": "stream",
     "text": [
      "\n",
      "\n",
      "Building a new DB, current time: 09/28/2020 19:21:38\n",
      "New DB name:   /home/jupyter-pander14/tutorial/data/spike_SARS.fasta\n",
      "New DB title:  ./data/spike_SARS.fasta\n",
      "Sequence type: Protein\n",
      "Deleted existing Protein BLAST database named /home/jupyter-pander14/tutorial/data/spike_SARS.fasta\n",
      "Keep MBits: T\n",
      "Maximum file size: 1000000000B\n",
      "Adding sequences from FASTA; added 1 sequences in 0.000139952 seconds.\n",
      "\n",
      "\n"
     ]
    }
   ],
   "source": [
    "%%bash\n",
    "/usr/local/ncbi-blast-2.10.1+/bin/makeblastdb -in ./data/spike_SARS.fasta -dbtype prot"
   ]
  },
  {
   "cell_type": "markdown",
   "metadata": {},
   "source": [
    "What did this do?"
   ]
  },
  {
   "cell_type": "code",
   "execution_count": 12,
   "metadata": {},
   "outputs": [
    {
     "name": "stdout",
     "output_type": "stream",
     "text": [
      "./data/spike_SARS.fasta      ./data/spike_SARS.fasta.pot\r\n",
      "./data/spike_SARS.fasta.pdb  ./data/spike_SARS.fasta.psq\r\n",
      "./data/spike_SARS.fasta.phr  ./data/spike_SARS.fasta.ptf\r\n",
      "./data/spike_SARS.fasta.pin  ./data/spike_SARS.fasta.pto\r\n"
     ]
    }
   ],
   "source": [
    "!ls ./data/spike_SARS.*"
   ]
  },
  {
   "cell_type": "markdown",
   "metadata": {},
   "source": [
    "Answer: Apart from the original .fasta file, makeblastdb created the other files. These are the db. "
   ]
  },
  {
   "cell_type": "markdown",
   "metadata": {},
   "source": [
    "**Now we run blastp, and we will store the results in a file called blast.txt**"
   ]
  },
  {
   "cell_type": "code",
   "execution_count": 13,
   "metadata": {},
   "outputs": [],
   "source": [
    "%%bash\n",
    "/usr/local/ncbi-blast-2.10.1+/bin/blastp -query ./data/spike_COVID.fasta -db ./data/spike_SARS.fasta -evalue 1e-6 -num_threads 4 -out blast.txt"
   ]
  },
  {
   "cell_type": "markdown",
   "metadata": {},
   "source": [
    "**Here is our blast output!**"
   ]
  },
  {
   "cell_type": "code",
   "execution_count": 14,
   "metadata": {},
   "outputs": [
    {
     "name": "stdout",
     "output_type": "stream",
     "text": [
      "BLASTP 2.10.1+\r\n",
      "\r\n",
      "\r\n",
      "Reference: Stephen F. Altschul, Thomas L. Madden, Alejandro A.\r\n",
      "Schaffer, Jinghui Zhang, Zheng Zhang, Webb Miller, and David J.\r\n",
      "Lipman (1997), \"Gapped BLAST and PSI-BLAST: a new generation of\r\n",
      "protein database search programs\", Nucleic Acids Res. 25:3389-3402.\r\n",
      "\r\n",
      "\r\n",
      "Reference for composition-based statistics: Alejandro A. Schaffer,\r\n",
      "L. Aravind, Thomas L. Madden, Sergei Shavirin, John L. Spouge, Yuri\r\n",
      "I. Wolf, Eugene V. Koonin, and Stephen F. Altschul (2001),\r\n",
      "\"Improving the accuracy of PSI-BLAST protein database searches with\r\n",
      "composition-based statistics and other refinements\", Nucleic Acids\r\n",
      "Res. 29:2994-3005.\r\n",
      "\r\n",
      "\r\n",
      "\r\n",
      "Database: ./data/spike_SARS.fasta\r\n",
      "           1 sequences; 1,255 total letters\r\n",
      "\r\n",
      "\r\n",
      "\r\n",
      "Query= YP_009724390.1 surface glycoprotein [Severe acute respiratory\r\n",
      "syndrome coronavirus 2]\r\n",
      "\r\n",
      "Length=1273\r\n",
      "                                                                      Score     E\r\n",
      "Sequences producing significant alignments:                          (Bits)  Value\r\n",
      "\r\n",
      "AAP30030.1 spike glycoprotein S [SARS coronavirus BJ01]               2042    0.0  \r\n",
      "\r\n",
      "\r\n",
      ">AAP30030.1 spike glycoprotein S [SARS coronavirus BJ01]\r\n",
      "Length=1255\r\n",
      "\r\n",
      " Score = 2042 bits (5291),  Expect = 0.0, Method: Compositional matrix adjust.\r\n",
      " Identities = 972/1277 (76%), Positives = 1111/1277 (87%), Gaps = 26/1277 (2%)\r\n",
      "\r\n",
      "Query  1     MFVFLVLLPLVSSQCVNLTTRTQ--LPPAYTN--SFTRGVYYPDKVFRSSVLHSTQDLFL  56\r\n",
      "             MF+FL+ L L S   ++  T       P YT   S  RGVYYPD++FRS  L+ TQDLFL\r\n",
      "Sbjct  1     MFIFLLFLTLTSGSDLDRCTTFDDVQAPNYTQHTSSMRGVYYPDEIFRSDTLYLTQDLFL  60\r\n",
      "\r\n",
      "Query  57    PFFSNVTWFHAIHVSGTNGTKRFDNPVLPFNDGVYFASTEKSNIIRGWIFGTTLDSKTQS  116\r\n",
      "             PF+SNVT FH I+         FDNPV+PF DG+YFA+TEKSN++RGW+FG+T+++K+QS\r\n",
      "Sbjct  61    PFYSNVTGFHTIN-------HTFDNPVIPFKDGIYFAATEKSNVVRGWVFGSTMNNKSQS  113\r\n",
      "\r\n",
      "Query  117   LLIVNNATNVVIKVCEFQFCNDPFLGVYYHKNNKSWMESEFRVYSSANNCTFEYVSQPFL  176\r\n",
      "             ++I+NN+TNVVI+ C F+ C++PF  V    +     ++   ++ +A NCTFEY+S  F \r\n",
      "Sbjct  114   VIIINNSTNVVIRACNFELCDNPFFAV----SKPMGTQTHTMIFDNAFNCTFEYISDAFS  169\r\n",
      "\r\n",
      "Query  177   MDLEGKQGNFKNLREFVFKNIDGYFKIYSKHTPINLVRDLPQGFSALEPLVDLPIGINIT  236\r\n",
      "             +D+  K GNFK+LREFVFKN DG+  +Y  + PI++VRDLP GF+ L+P+  LP+GINIT\r\n",
      "Sbjct  170   LDVSEKSGNFKHLREFVFKNKDGFLYVYKGYQPIDVVRDLPSGFNTLKPIFKLPLGINIT  229\r\n",
      "\r\n",
      "Query  237   RFQTLLALHRSYLTPGDSSSGWTAGAAAYYVGYLQPRTFLLKYNENGTITDAVDCALDPL  296\r\n",
      "              F+ +L    +  +P   +  W   AAAY+VGYL+P TF+LKY+ENGTITDAVDC+ +PL\r\n",
      "Sbjct  230   NFRAIL----TAFSPAQDT--WGTSAAAYFVGYLKPTTFMLKYDENGTITDAVDCSQNPL  283\r\n",
      "\r\n",
      "Query  297   SETKCTLKSFTVEKGIYQTSNFRVQPTESIVRFPNITNLCPFGEVFNATRFASVYAWNRK  356\r\n",
      "             +E KC++KSF ++KGIYQTSNFRV P+  +VRFPNITNLCPFGEVFNAT+F SVYAW RK\r\n",
      "Sbjct  284   AELKCSVKSFEIDKGIYQTSNFRVVPSGDVVRFPNITNLCPFGEVFNATKFPSVYAWERK  343\r\n",
      "\r\n",
      "Query  357   RISNCVADYSVLYNSASFSTFKCYGVSPTKLNDLCFTNVYADSFVIRGDEVRQIAPGQTG  416\r\n",
      "             +ISNCVADYSVLYNS  FSTFKCYGVS TKLNDLCF+NVYADSFV++GD+VRQIAPGQTG\r\n",
      "Sbjct  344   KISNCVADYSVLYNSTFFSTFKCYGVSATKLNDLCFSNVYADSFVVKGDDVRQIAPGQTG  403\r\n",
      "\r\n",
      "Query  417   KIADYNYKLPDDFTGCVIAWNSNNLDSKVGGNYNYLYRLFRKSNLKPFERDISTEIYQAG  476\r\n",
      "              IADYNYKLPDDF GCV+AWN+ N+D+   GNYNY YR  R   L+PFERDIS   +   \r\n",
      "Sbjct  404   VIADYNYKLPDDFMGCVLAWNTRNIDATSTGNYNYKYRYLRHGKLRPFERDISNVPFSPD  463\r\n",
      "\r\n",
      "Query  477   STPCNGVEGFNCYFPLQSYGFQPTNGVGYQPYRVVVLSFELLHAPATVCGPKKSTNLVKN  536\r\n",
      "               PC      NCY+PL  YGF  T G+GYQPYRVVVLSFELL+APATVCGPK ST+L+KN\r\n",
      "Sbjct  464   GKPCTP-PALNCYWPLNDYGFYTTTGIGYQPYRVVVLSFELLNAPATVCGPKLSTDLIKN  522\r\n",
      "\r\n",
      "Query  537   KCVNFNFNGLTGTGVLTESNKKFLPFQQFGRDIADTTDAVRDPQTLEILDITPCSFGGVS  596\r\n",
      "             +CVNFNFNGLTGTGVLT S+K+F PFQQFGRD++D TD+VRDP+T EILDI+PCSFGGVS\r\n",
      "Sbjct  523   QCVNFNFNGLTGTGVLTPSSKRFQPFQQFGRDVSDFTDSVRDPKTSEILDISPCSFGGVS  582\r\n",
      "\r\n",
      "Query  597   VITPGTNTSNQVAVLYQDVNCTEVPVAIHADQLTPTWRVYSTGSNVFQTRAGCLIGAEHV  656\r\n",
      "             VITPGTN S++VAVLYQDVNCT+V  AIHADQLTP WR+YSTG+NVFQT+AGCLIGAEHV\r\n",
      "Sbjct  583   VITPGTNASSEVAVLYQDVNCTDVSTAIHADQLTPAWRIYSTGNNVFQTQAGCLIGAEHV  642\r\n",
      "\r\n",
      "Query  657   NNSYECDIPIGAGICASYQTQTNSPRRARSVASQSIIAYTMSLGAENSVAYSNNSIAIPT  716\r\n",
      "             + SYECDIPIGAGICASY T +      RS + +SI+AYTMSLGA++S+AYSNN+IAIPT\r\n",
      "Sbjct  643   DTSYECDIPIGAGICASYHTVS----LLRSTSQKSIVAYTMSLGADSSIAYSNNTIAIPT  698\r\n",
      "\r\n",
      "Query  717   NFTISVTTEILPVSMTKTSVDCTMYICGDSTECSNLLLQYGSFCTQLNRALTGIAVEQDK  776\r\n",
      "             NF+IS+TTE++PVSM KTSVDC MYICGDSTEC+NLLLQYGSFCTQLNRAL+GIA EQD+\r\n",
      "Sbjct  699   NFSISITTEVMPVSMAKTSVDCNMYICGDSTECANLLLQYGSFCTQLNRALSGIAAEQDR  758\r\n",
      "\r\n",
      "Query  777   NTQEVFAQVKQIYKTPPIKDFGGFNFSQILPDPSKPSKRSFIEDLLFNKVTLADAGFIKQ  836\r\n",
      "             NT+EVFAQVKQ+YKTP +K FGGFNFSQILPDP KP+KRSFIEDLLFNKVTLADAGF+KQ\r\n",
      "Sbjct  759   NTREVFAQVKQMYKTPTLKYFGGFNFSQILPDPLKPTKRSFIEDLLFNKVTLADAGFMKQ  818\r\n",
      "\r\n",
      "Query  837   YGDCLGDIAARDLICAQKFNGLTVLPPLLTDEMIAQYTSALLAGTITSGWTFGAGAALQI  896\r\n",
      "             YG+CLGDI ARDLICAQKFNGLTVLPPLLTD+MIA YT+AL++GT T+GWTFGAGAALQI\r\n",
      "Sbjct  819   YGECLGDINARDLICAQKFNGLTVLPPLLTDDMIAAYTAALVSGTATAGWTFGAGAALQI  878\r\n",
      "\r\n",
      "Query  897   PFAMQMAYRFNGIGVTQNVLYENQKLIANQFNSAIGKIQDSLSSTASALGKLQDVVNQNA  956\r\n",
      "             PFAMQMAYRFNGIGVTQNVLYENQK IANQFN AI +IQ+SL++T++ALGKLQDVVNQNA\r\n",
      "Sbjct  879   PFAMQMAYRFNGIGVTQNVLYENQKQIANQFNKAISQIQESLTTTSTALGKLQDVVNQNA  938\r\n",
      "\r\n",
      "Query  957   QALNTLVKQLSSNFGAISSVLNDILSRLDKVEAEVQIDRLITGRLQSLQTYVTQQLIRAA  1016\r\n",
      "             QALNTLVKQLSSNFGAISSVLNDILSRLDKVEAEVQIDRLITGRLQSLQTYVTQQLIRAA\r\n",
      "Sbjct  939   QALNTLVKQLSSNFGAISSVLNDILSRLDKVEAEVQIDRLITGRLQSLQTYVTQQLIRAA  998\r\n",
      "\r\n",
      "Query  1017  EIRASANLAATKMSECVLGQSKRVDFCGKGYHLMSFPQSAPHGVVFLHVTYVPAQEKNFT  1076\r\n",
      "             EIRASANLAATKMSECVLGQSKRVDFCGKGYHLMSFPQ+APHGVVFLHVTYVP+QE+NFT\r\n",
      "Sbjct  999   EIRASANLAATKMSECVLGQSKRVDFCGKGYHLMSFPQAAPHGVVFLHVTYVPSQERNFT  1058\r\n",
      "\r\n",
      "Query  1077  TAPAICHDGKAHFPREGVFVSNGTHWFVTQRNFYEPQIITTDNTFVSGNCDVVIGIVNNT  1136\r\n",
      "             TAPAICH+GKA+FPREGVFV NGT WF+TQRNF+ PQIITTDNTFVSGNCDVVIGI+NNT\r\n",
      "Sbjct  1059  TAPAICHEGKAYFPREGVFVFNGTSWFITQRNFFSPQIITTDNTFVSGNCDVVIGIINNT  1118\r\n",
      "\r\n",
      "Query  1137  VYDPLQPELDSFKEELDKYFKNHTSPDVDLGDISGINASVVNIQKEIDRLNEVAKNLNES  1196\r\n",
      "             VYDPLQPELDSFKEELDKYFKNHTSPDVDLGDISGINASVVNIQKEIDRLNEVAKNLNES\r\n",
      "Sbjct  1119  VYDPLQPELDSFKEELDKYFKNHTSPDVDLGDISGINASVVNIQKEIDRLNEVAKNLNES  1178\r\n",
      "\r\n",
      "Query  1197  LIDLQELGKYEQYIKWPWYIWLGFIAGLIAIVMVTIMLCCMTSCCSCLKGCCSCGSCCKF  1256\r\n",
      "             LIDLQELGKYEQYIKWPWY+WLGFIAGLIAIVMVTI+LCCMTSCCSCLKG CSCGSCCKF\r\n",
      "Sbjct  1179  LIDLQELGKYEQYIKWPWYVWLGFIAGLIAIVMVTILLCCMTSCCSCLKGACSCGSCCKF  1238\r\n",
      "\r\n",
      "Query  1257  DEDDSEPVLKGVKLHYT  1273\r\n",
      "             DEDDSEPVLKGVKLHYT\r\n",
      "Sbjct  1239  DEDDSEPVLKGVKLHYT  1255\r\n",
      "\r\n",
      "\r\n",
      "\r\n",
      "Lambda      K        H        a         alpha\r\n",
      "   0.320    0.135    0.412    0.792     4.96 \r\n",
      "\r\n",
      "Gapped\r\n",
      "Lambda      K        H        a         alpha    sigma\r\n",
      "   0.267   0.0410    0.140     1.90     42.6     43.6 \r\n",
      "\r\n",
      "Effective search space used: 1478575\r\n",
      "\r\n",
      "\r\n",
      "  Database: ./data/spike_SARS.fasta\r\n",
      "    Posted date:  Sep 28, 2020  7:21 PM\r\n",
      "  Number of letters in database: 1,255\r\n",
      "  Number of sequences in database:  1\r\n",
      "\r\n",
      "\r\n",
      "\r\n",
      "Matrix: BLOSUM62\r\n",
      "Gap Penalties: Existence: 11, Extension: 1\r\n",
      "Neighboring words threshold: 11\r\n",
      "Window for multiple hits: 40\r\n"
     ]
    }
   ],
   "source": [
    "!cat blast.txt"
   ]
  },
  {
   "cell_type": "markdown",
   "metadata": {},
   "source": [
    "Please refer to <a href=\"https://docs.google.com/document/d/1mNJTb14aOckgRHDSRid66-_OFHpElIefAZu8IwnryUo/edit?usp=sharing\">https://docs.google.com/document/d/1mNJTb14aOckgRHDSRid66-_OFHpElIefAZu8IwnryUo/edit?usp=sharing</a> for questions to consider."
   ]
  },
  {
   "cell_type": "markdown",
   "metadata": {},
   "source": [
    "**CSC 448 students:** Place your answers in this cell and submit via the usual git add/commit/push mechanism."
   ]
  },
  {
   "cell_type": "code",
   "execution_count": null,
   "metadata": {},
   "outputs": [],
   "source": []
  }
 ],
 "metadata": {
  "kernelspec": {
   "display_name": "Python 3",
   "language": "python",
   "name": "python3"
  },
  "language_info": {
   "codemirror_mode": {
    "name": "ipython",
    "version": 3
   },
   "file_extension": ".py",
   "mimetype": "text/x-python",
   "name": "python",
   "nbconvert_exporter": "python",
   "pygments_lexer": "ipython3",
   "version": "3.7.3"
  }
 },
 "nbformat": 4,
 "nbformat_minor": 4
}
