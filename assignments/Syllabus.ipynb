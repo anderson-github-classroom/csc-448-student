{
 "cells": [
  {
   "cell_type": "markdown",
   "metadata": {
    "hideCode": true,
    "hidePrompt": true,
    "slideshow": {
     "slide_type": "slide"
    }
   },
   "source": [
    "# Name(s)\n",
    "Your name here"
   ]
  },
  {
   "cell_type": "markdown",
   "metadata": {
    "hideCode": true,
    "hidePrompt": true,
    "slideshow": {
     "slide_type": "subslide"
    }
   },
   "source": [
    "**Instructions:** This is an individual assignment. Complete the following code and push to officially get your score."
   ]
  },
  {
   "cell_type": "markdown",
   "metadata": {
    "hideCode": true,
    "hidePrompt": true,
    "slideshow": {
     "slide_type": "subslide"
    }
   },
   "source": [
    "I am providing the autograder answers locally so you may test your code before pushing. I will be reviewing your submissions, and if I find you are circumventing the autograder in any manner, you will receive a 0 on this assignment and your case will be reported to the honor board for review. i.e., approach the assignment in a genuine manner and you have nothing to worry about."
   ]
  },
  {
   "cell_type": "code",
   "execution_count": 1,
   "metadata": {
    "hideCode": true,
    "hidePrompt": true
   },
   "outputs": [
    {
     "data": {
      "text/plain": [
       "'Verifying you can use display'"
      ]
     },
     "metadata": {},
     "output_type": "display_data"
    },
    {
     "data": {
      "application/vnd.jupyter.widget-view+json": {
       "model_id": "19fcf7b0de724db3a6c64c63bc210321",
       "version_major": 2,
       "version_minor": 0
      },
      "text/plain": [
       "Button(description='Update your manually entered answers (this is not done automatically)!', layout=Layout(wid…"
      ]
     },
     "metadata": {},
     "output_type": "display_data"
    },
    {
     "data": {
      "application/vnd.jupyter.widget-view+json": {
       "model_id": "acc95d93acbb4487b833824a5553f3b2",
       "version_major": 2,
       "version_minor": 0
      },
      "text/plain": [
       "HTML(value='', placeholder='Nothing saved in this session')"
      ]
     },
     "metadata": {},
     "output_type": "display_data"
    }
   ],
   "source": [
    "#########################\n",
    "# DO NOT EDIT\n",
    "#########################\n",
    "\n",
    "import os\n",
    "if os.path.isdir('../src/'):\n",
    "    src_dir = '../src/'\n",
    "elif os.path.isdir('../csc-448-student/'):\n",
    "    src_dir = '../csc-448-student/src/'\n",
    "    \n",
    "exec(open('%s/header.py'%src_dir).read()) # instructor repo"
   ]
  },
  {
   "cell_type": "markdown",
   "metadata": {
    "hideCode": true,
    "hidePrompt": true,
    "slideshow": {
     "slide_type": "slide"
    }
   },
   "source": [
    "## Questions"
   ]
  },
  {
   "cell_type": "code",
   "execution_count": 2,
   "metadata": {
    "hideCode": true,
    "hidePrompt": true,
    "slideshow": {
     "slide_type": "subslide"
    }
   },
   "outputs": [
    {
     "data": {
      "application/vnd.jupyter.widget-view+json": {
       "model_id": "0aaadaa7b46e49c38cf92ea83fbb6058",
       "version_major": 2,
       "version_minor": 0
      },
      "text/plain": [
       "Box(children=(Label(value='Question 1: When will new material be available each week?'), RadioButtons(layout=L…"
      ]
     },
     "metadata": {},
     "output_type": "display_data"
    }
   ],
   "source": [
    "manual_answers[\"question_1\"] = widgets.RadioButtons(\n",
    "            options=[\n",
    "                'Monday morning',\n",
    "                'Shortly after they are recorded on Friday',\n",
    "                'Wednesday evening'\n",
    "            ],\n",
    "            layout={'width': 'max-content'},\n",
    "            value = None\n",
    "        )\n",
    "\n",
    "widgets.Box(\n",
    "    [\n",
    "        widgets.Label(value='Question 1: When will new material be available each week?'),\n",
    "        manual_answers[\"question_1\"]\n",
    "    ]\n",
    ")"
   ]
  },
  {
   "cell_type": "code",
   "execution_count": 3,
   "metadata": {
    "hideCode": true,
    "hidePrompt": true,
    "slideshow": {
     "slide_type": "subslide"
    },
    "tags": [
     "hide-input"
    ]
   },
   "outputs": [
    {
     "data": {
      "application/vnd.jupyter.widget-view+json": {
       "model_id": "0470f85713ca47f0819df0d4720b62e3",
       "version_major": 2,
       "version_minor": 0
      },
      "text/plain": [
       "Box(children=(Label(value='Question 2: Do I need to buy the textbook?'), RadioButtons(layout=Layout(width='max…"
      ]
     },
     "metadata": {},
     "output_type": "display_data"
    }
   ],
   "source": [
    "manual_answers[\"question_2\"] = widgets.RadioButtons(\n",
    "            options=[\n",
    "                'Yes',\n",
    "                'No. It is online and available.',\n",
    "                'Textbooks are not important.'\n",
    "            ],\n",
    "            layout={'width': 'max-content'},\n",
    "            value = None\n",
    "        )\n",
    "\n",
    "widgets.Box(\n",
    "    [\n",
    "        widgets.Label(value='Question 2: Do I need to buy the textbook?'),\n",
    "        manual_answers[\"question_2\"]\n",
    "    ]\n",
    ")"
   ]
  },
  {
   "cell_type": "code",
   "execution_count": 4,
   "metadata": {
    "hideCode": true,
    "hidePrompt": true,
    "slideshow": {
     "slide_type": "subslide"
    }
   },
   "outputs": [
    {
     "data": {
      "application/vnd.jupyter.widget-view+json": {
       "model_id": "dcccac48037f40588e286b8ef9f750bb",
       "version_major": 2,
       "version_minor": 0
      },
      "text/plain": [
       "Box(children=(Label(value='Question 3: Are there required times to be synchronous and online?'), RadioButtons(…"
      ]
     },
     "metadata": {},
     "output_type": "display_data"
    }
   ],
   "source": [
    "manual_answers[\"question_3\"] = widgets.RadioButtons(\n",
    "            options=[\n",
    "                'Yes. The exact times are scheduled for each student, but Friday is always synchronous',\n",
    "                'Yes. The exact times are scheduled for each student including Friday.',\n",
    "                'No.'\n",
    "            ],\n",
    "            layout={'width': 'max-content'},\n",
    "            value = None\n",
    "        )\n",
    "\n",
    "widgets.Box(\n",
    "    [\n",
    "        widgets.Label(value='Question 3: Are there required times to be synchronous and online?'),\n",
    "        manual_answers[\"question_3\"]\n",
    "    ]\n",
    ")"
   ]
  },
  {
   "cell_type": "code",
   "execution_count": 5,
   "metadata": {
    "hideCode": true,
    "hidePrompt": true,
    "slideshow": {
     "slide_type": "subslide"
    }
   },
   "outputs": [
    {
     "data": {
      "application/vnd.jupyter.widget-view+json": {
       "model_id": "12580fccf4624dbf9f81d281e02b3d0d",
       "version_major": 2,
       "version_minor": 0
      },
      "text/plain": [
       "Box(children=(Label(value='Question 4: What software will I use to complete the assignments'), RadioButtons(la…"
      ]
     },
     "metadata": {},
     "output_type": "display_data"
    }
   ],
   "source": [
    "manual_answers[\"question_4\"] = widgets.RadioButtons(\n",
    "            options=[\n",
    "                'Netbeans',\n",
    "                'Java',\n",
    "                'JupyterHub and Python'\n",
    "            ],\n",
    "            layout={'width': 'max-content'},\n",
    "            value = None\n",
    "        )\n",
    "\n",
    "widgets.Box(\n",
    "    [\n",
    "        widgets.Label(value='Question 4: What software will I use to complete the assignments'),\n",
    "        manual_answers[\"question_4\"]\n",
    "    ]\n",
    ")"
   ]
  },
  {
   "cell_type": "code",
   "execution_count": 6,
   "metadata": {
    "hideCode": true,
    "hidePrompt": true,
    "slideshow": {
     "slide_type": "subslide"
    }
   },
   "outputs": [
    {
     "data": {
      "application/vnd.jupyter.widget-view+json": {
       "model_id": "c3c8faa97c1549a5a9ce143e0303a49c",
       "version_major": 2,
       "version_minor": 0
      },
      "text/plain": [
       "Box(children=(Label(value='Question 5: Do I need to participate in this class?'), RadioButtons(layout=Layout(w…"
      ]
     },
     "metadata": {},
     "output_type": "display_data"
    }
   ],
   "source": [
    "manual_answers[\"question_5\"] = widgets.RadioButtons(\n",
    "            options=[\n",
    "                'If you want to get anything higher than a D, you\\'ll need to do more than the labs and assignments',\n",
    "                'No'\n",
    "            ],\n",
    "            layout={'width': 'max-content'},\n",
    "            value = None\n",
    "        )\n",
    "\n",
    "widgets.Box(\n",
    "    [\n",
    "        widgets.Label(value='Question 5: Do I need to participate in this class?'),\n",
    "        manual_answers[\"question_5\"]\n",
    "    ]\n",
    ")"
   ]
  },
  {
   "cell_type": "code",
   "execution_count": 7,
   "metadata": {
    "hideCode": true,
    "hidePrompt": true,
    "slideshow": {
     "slide_type": "slide"
    }
   },
   "outputs": [
    {
     "name": "stdout",
     "output_type": "stream",
     "text": [
      "\n",
      "1. If there are any manual answers in this notebook, scroll to the top and click the button labelled 'Update ...'.\n",
      "2. Save your notebook and do the standard git add, git commit, git push.\n",
      "3. Verify your score in GitHub classroom.\n",
      "\n"
     ]
    }
   ],
   "source": [
    "# SUBMISSION INSTRUCTIONS\n",
    "print(\"\"\"\n",
    "1. If there are any manual answers in this notebook, scroll to the top and click the button labelled 'Update ...'.\n",
    "2. Save your notebook and do the standard git add, git commit, git push.\n",
    "3. Verify your score in GitHub classroom.\n",
    "\"\"\")"
   ]
  }
 ],
 "metadata": {
  "celltoolbar": "Hide code",
  "hide_code_all_hidden": true,
  "jupytext": {
   "formats": "ipynb,md,py"
  },
  "kernelspec": {
   "display_name": "Python 3",
   "language": "python",
   "name": "python3"
  },
  "language_info": {
   "codemirror_mode": {
    "name": "ipython",
    "version": 3
   },
   "file_extension": ".py",
   "mimetype": "text/x-python",
   "name": "python",
   "nbconvert_exporter": "python",
   "pygments_lexer": "ipython3",
   "version": "3.7.3"
  }
 },
 "nbformat": 4,
 "nbformat_minor": 4
}
