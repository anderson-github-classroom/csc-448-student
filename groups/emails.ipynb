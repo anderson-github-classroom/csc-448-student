{
 "cells": [
  {
   "cell_type": "code",
   "execution_count": 2,
   "metadata": {},
   "outputs": [
    {
     "data": {
      "text/plain": [
       "'eagranof@calpoly.edu,nabishop@calpoly.edu,cbrow145@calpoly.edu,cpcampbe@calpoly.edu,ccromer@calpoly.edu,jdatecho@calpoly.edu,sellerts@calpoly.edu,acengel@calpoly.edu,awengel@calpoly.edu,sfrazee@calpoly.edu,rgadgil@calpoly.edu,mhowland@calpoly.edu,cilg@calpoly.edu,eainman@calpoly.edu,bfkwong@calpoly.edu,klabel@calpoly.edu,enewcome@calpoly.edu,wiobrien@calpoly.edu,ncpalmie@calpoly.edu,pamidi@calpoly.edu,spate136@calpoly.edu,npestes@calpoly.edu,arajiv@calpoly.edu,dsanch65@calpoly.edu,jsaya@calpoly.edu,altschop@calpoly.edu,cvtu@calpoly.edu,aveluru@calpoly.edu,zwinger@calpoly.edu,skurdogh@calpoly.edu,kdyson@calpoly.edu,lepopal@calpoly.edu'"
      ]
     },
     "execution_count": 2,
     "metadata": {},
     "output_type": "execute_result"
    }
   ],
   "source": [
    "import pandas as pd\n",
    "students = pd.read_table(\"students.tsv\",sep=\"\\t\")\n",
    "\",\".join(list(students.Email))"
   ]
  },
  {
   "cell_type": "code",
   "execution_count": 4,
   "metadata": {},
   "outputs": [
    {
     "name": "stdout",
     "output_type": "stream",
     "text": [
      "eagranof@calpoly.edu\n",
      "nabishop@calpoly.edu\n",
      "cbrow145@calpoly.edu\n",
      "cpcampbe@calpoly.edu\n",
      "ccromer@calpoly.edu\n",
      "jdatecho@calpoly.edu\n",
      "sellerts@calpoly.edu\n",
      "acengel@calpoly.edu\n",
      "awengel@calpoly.edu\n",
      "sfrazee@calpoly.edu\n",
      "rgadgil@calpoly.edu\n",
      "mhowland@calpoly.edu\n",
      "cilg@calpoly.edu\n",
      "eainman@calpoly.edu\n",
      "bfkwong@calpoly.edu\n",
      "klabel@calpoly.edu\n",
      "enewcome@calpoly.edu\n",
      "wiobrien@calpoly.edu\n",
      "ncpalmie@calpoly.edu\n",
      "pamidi@calpoly.edu\n",
      "spate136@calpoly.edu\n",
      "npestes@calpoly.edu\n",
      "arajiv@calpoly.edu\n",
      "dsanch65@calpoly.edu\n",
      "jsaya@calpoly.edu\n",
      "altschop@calpoly.edu\n",
      "cvtu@calpoly.edu\n",
      "aveluru@calpoly.edu\n",
      "zwinger@calpoly.edu\n",
      "skurdogh@calpoly.edu\n",
      "kdyson@calpoly.edu\n",
      "lepopal@calpoly.edu\n"
     ]
    }
   ],
   "source": [
    "print(\"\\n\".join(list(students.Email)))"
   ]
  },
  {
   "cell_type": "code",
   "execution_count": 4,
   "metadata": {},
   "outputs": [],
   "source": [
    "with_linked_zoom = \"nabishop@calpoly.edu, cbrow145@calpoly.edu, jdatecho@calpoly.edu, sellerts@calpoly.edu, acengel@calpoly.edu, sfrazee@calpoly.edu, rgadgil@calpoly.edu, mhowland@calpoly.edu, cilg@calpoly.edu, eainman@calpoly.edu, klabel@calpoly.edu, enewcome@calpoly.edu, wiobrien@calpoly.edu, ncpalmie@calpoly.edu, pamidi@calpoly.edu, spate136@calpoly.edu, arajiv@calpoly.edu, jsaya@calpoly.edu, altschop@calpoly.edu, cvtu@calpoly.edu, aveluru@calpoly.edu, zwinger@calpoly.edu, kdyson@calpoly.edu, lepopal@calpoly.edu\".split(\",\")"
   ]
  },
  {
   "cell_type": "code",
   "execution_count": 6,
   "metadata": {},
   "outputs": [],
   "source": [
    "with_linked_zoom = [s.strip() for s in with_linked_zoom]"
   ]
  },
  {
   "cell_type": "code",
   "execution_count": 7,
   "metadata": {},
   "outputs": [
    {
     "data": {
      "text/plain": [
       "['nabishop@calpoly.edu',\n",
       " 'cbrow145@calpoly.edu',\n",
       " 'jdatecho@calpoly.edu',\n",
       " 'sellerts@calpoly.edu',\n",
       " 'acengel@calpoly.edu',\n",
       " 'sfrazee@calpoly.edu',\n",
       " 'rgadgil@calpoly.edu',\n",
       " 'mhowland@calpoly.edu',\n",
       " 'cilg@calpoly.edu',\n",
       " 'eainman@calpoly.edu',\n",
       " 'klabel@calpoly.edu',\n",
       " 'enewcome@calpoly.edu',\n",
       " 'wiobrien@calpoly.edu',\n",
       " 'ncpalmie@calpoly.edu',\n",
       " 'pamidi@calpoly.edu',\n",
       " 'spate136@calpoly.edu',\n",
       " 'arajiv@calpoly.edu',\n",
       " 'jsaya@calpoly.edu',\n",
       " 'altschop@calpoly.edu',\n",
       " 'cvtu@calpoly.edu',\n",
       " 'aveluru@calpoly.edu',\n",
       " 'zwinger@calpoly.edu',\n",
       " 'kdyson@calpoly.edu',\n",
       " 'lepopal@calpoly.edu']"
      ]
     },
     "execution_count": 7,
     "metadata": {},
     "output_type": "execute_result"
    }
   ],
   "source": [
    "with_linked_zoom"
   ]
  },
  {
   "cell_type": "code",
   "execution_count": 9,
   "metadata": {},
   "outputs": [
    {
     "data": {
      "text/plain": [
       "['eagranof@calpoly.edu',\n",
       " 'nabishop@calpoly.edu',\n",
       " 'cbrow145@calpoly.edu',\n",
       " 'cpcampbe@calpoly.edu',\n",
       " 'ccromer@calpoly.edu',\n",
       " 'jdatecho@calpoly.edu',\n",
       " 'sellerts@calpoly.edu',\n",
       " 'acengel@calpoly.edu',\n",
       " 'awengel@calpoly.edu',\n",
       " 'sfrazee@calpoly.edu',\n",
       " 'rgadgil@calpoly.edu',\n",
       " 'mhowland@calpoly.edu',\n",
       " 'cilg@calpoly.edu',\n",
       " 'eainman@calpoly.edu',\n",
       " 'bfkwong@calpoly.edu',\n",
       " 'klabel@calpoly.edu',\n",
       " 'enewcome@calpoly.edu',\n",
       " 'wiobrien@calpoly.edu',\n",
       " 'ncpalmie@calpoly.edu',\n",
       " 'pamidi@calpoly.edu',\n",
       " 'spate136@calpoly.edu',\n",
       " 'npestes@calpoly.edu',\n",
       " 'arajiv@calpoly.edu',\n",
       " 'dsanch65@calpoly.edu',\n",
       " 'jsaya@calpoly.edu',\n",
       " 'altschop@calpoly.edu',\n",
       " 'cvtu@calpoly.edu',\n",
       " 'aveluru@calpoly.edu',\n",
       " 'zwinger@calpoly.edu',\n",
       " 'skurdogh@calpoly.edu',\n",
       " 'kdyson@calpoly.edu',\n",
       " 'lepopal@calpoly.edu']"
      ]
     },
     "execution_count": 9,
     "metadata": {},
     "output_type": "execute_result"
    }
   ],
   "source": [
    "all_emails = list(students.Email)\n",
    "all_emails"
   ]
  },
  {
   "cell_type": "code",
   "execution_count": 10,
   "metadata": {},
   "outputs": [
    {
     "data": {
      "text/plain": [
       "{'awengel@calpoly.edu',\n",
       " 'bfkwong@calpoly.edu',\n",
       " 'ccromer@calpoly.edu',\n",
       " 'cpcampbe@calpoly.edu',\n",
       " 'dsanch65@calpoly.edu',\n",
       " 'eagranof@calpoly.edu',\n",
       " 'npestes@calpoly.edu',\n",
       " 'skurdogh@calpoly.edu'}"
      ]
     },
     "execution_count": 10,
     "metadata": {},
     "output_type": "execute_result"
    }
   ],
   "source": [
    "set(all_emails) - set(with_linked_zoom)"
   ]
  },
  {
   "cell_type": "code",
   "execution_count": null,
   "metadata": {},
   "outputs": [],
   "source": []
  }
 ],
 "metadata": {
  "kernelspec": {
   "display_name": "Python 3",
   "language": "python",
   "name": "python3"
  },
  "language_info": {
   "codemirror_mode": {
    "name": "ipython",
    "version": 3
   },
   "file_extension": ".py",
   "mimetype": "text/x-python",
   "name": "python",
   "nbconvert_exporter": "python",
   "pygments_lexer": "ipython3",
   "version": "3.7.4"
  }
 },
 "nbformat": 4,
 "nbformat_minor": 4
}
