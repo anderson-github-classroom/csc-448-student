{
 "cells": [
  {
   "cell_type": "code",
   "execution_count": 1,
   "metadata": {},
   "outputs": [],
   "source": [
    "import pandas as pd"
   ]
  },
  {
   "cell_type": "code",
   "execution_count": 4,
   "metadata": {},
   "outputs": [
    {
     "data": {
      "text/html": [
       "<div>\n",
       "<style scoped>\n",
       "    .dataframe tbody tr th:only-of-type {\n",
       "        vertical-align: middle;\n",
       "    }\n",
       "\n",
       "    .dataframe tbody tr th {\n",
       "        vertical-align: top;\n",
       "    }\n",
       "\n",
       "    .dataframe thead th {\n",
       "        text-align: right;\n",
       "    }\n",
       "</style>\n",
       "<table border=\"1\" class=\"dataframe\">\n",
       "  <thead>\n",
       "    <tr style=\"text-align: right;\">\n",
       "      <th></th>\n",
       "      <th>Timestamp</th>\n",
       "      <th>First Name</th>\n",
       "      <th>Last Name</th>\n",
       "      <th>GitHub Username</th>\n",
       "      <th>Preferred Email Address</th>\n",
       "      <th>Cal Poly Email Address</th>\n",
       "      <th>What is the airspeed velocity of an unladen swallow?</th>\n",
       "    </tr>\n",
       "  </thead>\n",
       "  <tbody>\n",
       "    <tr>\n",
       "      <td>0</td>\n",
       "      <td>4/6/2020 16:39:51</td>\n",
       "      <td>Samuel</td>\n",
       "      <td>Frazee</td>\n",
       "      <td>Hydroptix</td>\n",
       "      <td>sfrazee@calpoly.edu</td>\n",
       "      <td>sfrazee@calpoly.edu</td>\n",
       "      <td>African or European swallow?</td>\n",
       "    </tr>\n",
       "    <tr>\n",
       "      <td>1</td>\n",
       "      <td>4/6/2020 16:40:55</td>\n",
       "      <td>Eric</td>\n",
       "      <td>enewcome</td>\n",
       "      <td>eric-newcomer</td>\n",
       "      <td>enewcome@calpoly.edu</td>\n",
       "      <td>enewcome@calpoly.edu</td>\n",
       "      <td>African or European?</td>\n",
       "    </tr>\n",
       "    <tr>\n",
       "      <td>2</td>\n",
       "      <td>4/6/2020 16:45:13</td>\n",
       "      <td>Andrew</td>\n",
       "      <td>Engel</td>\n",
       "      <td>awengel</td>\n",
       "      <td>awengel@calpoly.edu</td>\n",
       "      <td>awengel@calpoly.edu</td>\n",
       "      <td>What do you mean?  An African or European swal...</td>\n",
       "    </tr>\n",
       "    <tr>\n",
       "      <td>3</td>\n",
       "      <td>4/6/2020 16:52:08</td>\n",
       "      <td>Alexander</td>\n",
       "      <td>Engel</td>\n",
       "      <td>acengel</td>\n",
       "      <td>acengel@calpoly.edu</td>\n",
       "      <td>acengel@calpoly.edu</td>\n",
       "      <td>What do you mean, an African or European swallow?</td>\n",
       "    </tr>\n",
       "    <tr>\n",
       "      <td>4</td>\n",
       "      <td>4/6/2020 16:53:45</td>\n",
       "      <td>Chelsea Rose</td>\n",
       "      <td>Campbell</td>\n",
       "      <td>cpcampbe</td>\n",
       "      <td>choo2campbell@gmail.com</td>\n",
       "      <td>cpcampbe@calpoly.edu</td>\n",
       "      <td>24 mph or 11 m/s</td>\n",
       "    </tr>\n",
       "  </tbody>\n",
       "</table>\n",
       "</div>"
      ],
      "text/plain": [
       "           Timestamp    First Name Last Name GitHub Username  \\\n",
       "0  4/6/2020 16:39:51        Samuel    Frazee       Hydroptix   \n",
       "1  4/6/2020 16:40:55          Eric  enewcome   eric-newcomer   \n",
       "2  4/6/2020 16:45:13        Andrew     Engel         awengel   \n",
       "3  4/6/2020 16:52:08     Alexander     Engel         acengel   \n",
       "4  4/6/2020 16:53:45  Chelsea Rose  Campbell        cpcampbe   \n",
       "\n",
       "   Preferred Email Address Cal Poly Email Address  \\\n",
       "0      sfrazee@calpoly.edu    sfrazee@calpoly.edu   \n",
       "1     enewcome@calpoly.edu   enewcome@calpoly.edu   \n",
       "2      awengel@calpoly.edu    awengel@calpoly.edu   \n",
       "3      acengel@calpoly.edu    acengel@calpoly.edu   \n",
       "4  choo2campbell@gmail.com   cpcampbe@calpoly.edu   \n",
       "\n",
       "  What is the airspeed velocity of an unladen swallow?  \n",
       "0                       African or European swallow?    \n",
       "1                               African or European?    \n",
       "2  What do you mean?  An African or European swal...    \n",
       "3  What do you mean, an African or European swallow?    \n",
       "4                                   24 mph or 11 m/s    "
      ]
     },
     "execution_count": 4,
     "metadata": {},
     "output_type": "execute_result"
    }
   ],
   "source": [
    "roster = pd.read_table(\"CSC 448 Spring 2020 GitHub Usernames (Responses) - Form Responses 1.tsv\",sep=\"\\t\")\n",
    "roster.head()"
   ]
  },
  {
   "cell_type": "code",
   "execution_count": null,
   "metadata": {},
   "outputs": [],
   "source": [
    "identifier\tgithub_username"
   ]
  },
  {
   "cell_type": "code",
   "execution_count": 9,
   "metadata": {},
   "outputs": [],
   "source": [
    "out = roster[['Cal Poly Email Address','GitHub Username']]\n",
    "out.columns = ['identifier','github_username']\n",
    "out.to_csv('roster.csv',index=False)"
   ]
  },
  {
   "cell_type": "code",
   "execution_count": 11,
   "metadata": {},
   "outputs": [
    {
     "data": {
      "text/plain": [
       "'eagranof@calpoly.edu,nabishop@calpoly.edu,cbrow145@calpoly.edu,cpcampbe@calpoly.edu,ccromer@calpoly.edu,jdatecho@calpoly.edu,sellerts@calpoly.edu,acengel@calpoly.edu,awengel@calpoly.edu,sfrazee@calpoly.edu,rgadgil@calpoly.edu,mhowland@calpoly.edu,cilg@calpoly.edu,eainman@calpoly.edu,bfkwong@calpoly.edu,klabel@calpoly.edu,enewcome@calpoly.edu,wiobrien@calpoly.edu,ncpalmie@calpoly.edu,pamidi@calpoly.edu,spate136@calpoly.edu,npestes@calpoly.edu,arajiv@calpoly.edu,dsanch65@calpoly.edu,jsaya@calpoly.edu,altschop@calpoly.edu,cvtu@calpoly.edu,aveluru@calpoly.edu,zwinger@calpoly.edu,skurdogh@calpoly.edu,kdyson@calpoly.edu,lepopal@calpoly.edu'"
      ]
     },
     "execution_count": 11,
     "metadata": {},
     "output_type": "execute_result"
    }
   ],
   "source": [
    "students = pd.read_table(\"students.tsv\",sep=\"\\t\")\n",
    "\",\".join(list(students.Email))"
   ]
  },
  {
   "cell_type": "code",
   "execution_count": 12,
   "metadata": {},
   "outputs": [
    {
     "name": "stdout",
     "output_type": "stream",
     "text": [
      "eagranof@calpoly.edu\n",
      "nabishop@calpoly.edu\n",
      "cbrow145@calpoly.edu\n",
      "cpcampbe@calpoly.edu\n",
      "ccromer@calpoly.edu\n",
      "jdatecho@calpoly.edu\n",
      "sellerts@calpoly.edu\n",
      "acengel@calpoly.edu\n",
      "awengel@calpoly.edu\n",
      "sfrazee@calpoly.edu\n",
      "rgadgil@calpoly.edu\n",
      "mhowland@calpoly.edu\n",
      "cilg@calpoly.edu\n",
      "eainman@calpoly.edu\n",
      "bfkwong@calpoly.edu\n",
      "klabel@calpoly.edu\n",
      "enewcome@calpoly.edu\n",
      "wiobrien@calpoly.edu\n",
      "ncpalmie@calpoly.edu\n",
      "pamidi@calpoly.edu\n",
      "spate136@calpoly.edu\n",
      "npestes@calpoly.edu\n",
      "arajiv@calpoly.edu\n",
      "dsanch65@calpoly.edu\n",
      "jsaya@calpoly.edu\n",
      "altschop@calpoly.edu\n",
      "cvtu@calpoly.edu\n",
      "aveluru@calpoly.edu\n",
      "zwinger@calpoly.edu\n",
      "skurdogh@calpoly.edu\n",
      "kdyson@calpoly.edu\n",
      "lepopal@calpoly.edu\n"
     ]
    }
   ],
   "source": [
    "print(\"\\n\".join(list(students.Email)))"
   ]
  },
  {
   "cell_type": "code",
   "execution_count": 4,
   "metadata": {},
   "outputs": [],
   "source": [
    "with_linked_zoom = \"nabishop@calpoly.edu, cbrow145@calpoly.edu, jdatecho@calpoly.edu, sellerts@calpoly.edu, acengel@calpoly.edu, sfrazee@calpoly.edu, rgadgil@calpoly.edu, mhowland@calpoly.edu, cilg@calpoly.edu, eainman@calpoly.edu, klabel@calpoly.edu, enewcome@calpoly.edu, wiobrien@calpoly.edu, ncpalmie@calpoly.edu, pamidi@calpoly.edu, spate136@calpoly.edu, arajiv@calpoly.edu, jsaya@calpoly.edu, altschop@calpoly.edu, cvtu@calpoly.edu, aveluru@calpoly.edu, zwinger@calpoly.edu, kdyson@calpoly.edu, lepopal@calpoly.edu\".split(\",\")"
   ]
  },
  {
   "cell_type": "code",
   "execution_count": 6,
   "metadata": {},
   "outputs": [],
   "source": [
    "with_linked_zoom = [s.strip() for s in with_linked_zoom]"
   ]
  },
  {
   "cell_type": "code",
   "execution_count": 7,
   "metadata": {},
   "outputs": [
    {
     "data": {
      "text/plain": [
       "['nabishop@calpoly.edu',\n",
       " 'cbrow145@calpoly.edu',\n",
       " 'jdatecho@calpoly.edu',\n",
       " 'sellerts@calpoly.edu',\n",
       " 'acengel@calpoly.edu',\n",
       " 'sfrazee@calpoly.edu',\n",
       " 'rgadgil@calpoly.edu',\n",
       " 'mhowland@calpoly.edu',\n",
       " 'cilg@calpoly.edu',\n",
       " 'eainman@calpoly.edu',\n",
       " 'klabel@calpoly.edu',\n",
       " 'enewcome@calpoly.edu',\n",
       " 'wiobrien@calpoly.edu',\n",
       " 'ncpalmie@calpoly.edu',\n",
       " 'pamidi@calpoly.edu',\n",
       " 'spate136@calpoly.edu',\n",
       " 'arajiv@calpoly.edu',\n",
       " 'jsaya@calpoly.edu',\n",
       " 'altschop@calpoly.edu',\n",
       " 'cvtu@calpoly.edu',\n",
       " 'aveluru@calpoly.edu',\n",
       " 'zwinger@calpoly.edu',\n",
       " 'kdyson@calpoly.edu',\n",
       " 'lepopal@calpoly.edu']"
      ]
     },
     "execution_count": 7,
     "metadata": {},
     "output_type": "execute_result"
    }
   ],
   "source": [
    "with_linked_zoom"
   ]
  },
  {
   "cell_type": "code",
   "execution_count": 9,
   "metadata": {},
   "outputs": [
    {
     "data": {
      "text/plain": [
       "['eagranof@calpoly.edu',\n",
       " 'nabishop@calpoly.edu',\n",
       " 'cbrow145@calpoly.edu',\n",
       " 'cpcampbe@calpoly.edu',\n",
       " 'ccromer@calpoly.edu',\n",
       " 'jdatecho@calpoly.edu',\n",
       " 'sellerts@calpoly.edu',\n",
       " 'acengel@calpoly.edu',\n",
       " 'awengel@calpoly.edu',\n",
       " 'sfrazee@calpoly.edu',\n",
       " 'rgadgil@calpoly.edu',\n",
       " 'mhowland@calpoly.edu',\n",
       " 'cilg@calpoly.edu',\n",
       " 'eainman@calpoly.edu',\n",
       " 'bfkwong@calpoly.edu',\n",
       " 'klabel@calpoly.edu',\n",
       " 'enewcome@calpoly.edu',\n",
       " 'wiobrien@calpoly.edu',\n",
       " 'ncpalmie@calpoly.edu',\n",
       " 'pamidi@calpoly.edu',\n",
       " 'spate136@calpoly.edu',\n",
       " 'npestes@calpoly.edu',\n",
       " 'arajiv@calpoly.edu',\n",
       " 'dsanch65@calpoly.edu',\n",
       " 'jsaya@calpoly.edu',\n",
       " 'altschop@calpoly.edu',\n",
       " 'cvtu@calpoly.edu',\n",
       " 'aveluru@calpoly.edu',\n",
       " 'zwinger@calpoly.edu',\n",
       " 'skurdogh@calpoly.edu',\n",
       " 'kdyson@calpoly.edu',\n",
       " 'lepopal@calpoly.edu']"
      ]
     },
     "execution_count": 9,
     "metadata": {},
     "output_type": "execute_result"
    }
   ],
   "source": [
    "all_emails = list(students.Email)\n",
    "all_emails"
   ]
  },
  {
   "cell_type": "code",
   "execution_count": 10,
   "metadata": {},
   "outputs": [
    {
     "data": {
      "text/plain": [
       "{'awengel@calpoly.edu',\n",
       " 'bfkwong@calpoly.edu',\n",
       " 'ccromer@calpoly.edu',\n",
       " 'cpcampbe@calpoly.edu',\n",
       " 'dsanch65@calpoly.edu',\n",
       " 'eagranof@calpoly.edu',\n",
       " 'npestes@calpoly.edu',\n",
       " 'skurdogh@calpoly.edu'}"
      ]
     },
     "execution_count": 10,
     "metadata": {},
     "output_type": "execute_result"
    }
   ],
   "source": [
    "set(all_emails) - set(with_linked_zoom)"
   ]
  },
  {
   "cell_type": "code",
   "execution_count": null,
   "metadata": {},
   "outputs": [],
   "source": []
  }
 ],
 "metadata": {
  "kernelspec": {
   "display_name": "Python 3",
   "language": "python",
   "name": "python3"
  },
  "language_info": {
   "codemirror_mode": {
    "name": "ipython",
    "version": 3
   },
   "file_extension": ".py",
   "mimetype": "text/x-python",
   "name": "python",
   "nbconvert_exporter": "python",
   "pygments_lexer": "ipython3",
   "version": "3.7.4"
  }
 },
 "nbformat": 4,
 "nbformat_minor": 4
}
