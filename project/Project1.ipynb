{
 "cells": [
  {
   "cell_type": "markdown",
   "metadata": {},
   "source": [
    "## Project Part 1 (a.k.a. Project 1 on Schedule)\n",
    "We don't know enough bioinformatics yet, but we can start the project by cleaning up and improving your individual websites. For Project 1, I want you to read and summarize/synthesize/discuss the following links on your own pages within the main project repo. This is definitely less of a \"for grade\" assignment. There is a pandemic, and I believe we can contribute meaningful bioinformatics analysis. That starts with a review of currently available resources. Please use my links as a starting point, but post more links on Slack for others. Find more links. Together we can make a contribution. Here are the links that you should investigate at a minimum.\n",
    "\n",
    "1. I need your GitHub username, you should be able to pull, but I need to add you in order to have write permissions <a href=\"https://forms.gle/L3n2ytZiht11BXqU8\">https://forms.gle/L3n2ytZiht11BXqU8</a>\n",
    "2. https://www.gisaid.org/\n",
    "3. https://foldingathome.org/\n",
    "4. https://nextstrain.org/ncov\n",
    "5. https://mra.asm.org/content/9/11/e00169-20\n",
    "6. https://covid19.galaxyproject.org/"
   ]
  },
  {
   "cell_type": "markdown",
   "metadata": {},
   "source": [
    "### Link to clone the repo\n",
    "https://github.com/anderson-github-classroom/csc-448-project"
   ]
  },
  {
   "cell_type": "code",
   "execution_count": null,
   "metadata": {},
   "outputs": [],
   "source": []
  }
 ],
 "metadata": {
  "jupytext": {
   "formats": "ipynb,md,py"
  },
  "kernelspec": {
   "display_name": "Python 3",
   "language": "python",
   "name": "python3"
  },
  "language_info": {
   "codemirror_mode": {
    "name": "ipython",
    "version": 3
   },
   "file_extension": ".py",
   "mimetype": "text/x-python",
   "name": "python",
   "nbconvert_exporter": "python",
   "pygments_lexer": "ipython3",
   "version": "3.7.4"
  }
 },
 "nbformat": 4,
 "nbformat_minor": 4
}
