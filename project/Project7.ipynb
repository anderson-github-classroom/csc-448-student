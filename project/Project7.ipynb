{
 "cells": [
  {
   "cell_type": "markdown",
   "metadata": {},
   "source": [
    "## Project Part 7(a.k.a. Project 7 on Schedule)\n",
    "For project 7, we are into the final stretch with many things to do. I have put many comments in the document that should give you direction on what should be added/modified/etc. But you can of course use your own discretion as well. The general feedback from our exercise on Monday was that we should definitely narrow to the two questions. There were a few other suggestions that I've incorporated in my inline comments. I feel like we can pull this off, and I'm happy and proud to be part of this group effort. I hope you can feel the same as you continue to edit and add to our document."
   ]
  },
  {
   "cell_type": "markdown",
   "metadata": {},
   "source": [
    "### Link to clone the repository\n",
    "Here is a link to the project repository.\n",
    "\n",
    "https://github.com/anderson-github-classroom/csc-448-project\n",
    "\n",
    "The website can be viewed at https://anderson-github-classroom.github.io/csc-448-project/."
   ]
  }
 ],
 "metadata": {
  "jupytext": {
   "formats": "ipynb,md,py"
  },
  "kernelspec": {
   "display_name": "Python 3",
   "language": "python",
   "name": "python3"
  },
  "language_info": {
   "codemirror_mode": {
    "name": "ipython",
    "version": 3
   },
   "file_extension": ".py",
   "mimetype": "text/x-python",
   "name": "python",
   "nbconvert_exporter": "python",
   "pygments_lexer": "ipython3",
   "version": "3.7.4"
  }
 },
 "nbformat": 4,
 "nbformat_minor": 4
}
