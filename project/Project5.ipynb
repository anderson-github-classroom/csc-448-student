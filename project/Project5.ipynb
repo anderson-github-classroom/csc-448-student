{
 "cells": [
  {
   "cell_type": "markdown",
   "metadata": {},
   "source": [
    "## Project Part 5(a.k.a. Project 5 on Schedule)\n",
    "I first set out to get everyone contributing to a Latex document hosted on Overleaf. After spending a lot of (what would later become unnecessary) time coming up with an introduction to Latex, I realized the fatal flaw. I cannot easily figure out who made what contribution and thus grade your weekly effort. While not perfect for other presentation related reasons, I have settled on a Google Doc. Given our short week, here is your project assignment for the weekend:\n",
    "\n",
    "1. Examine the Google doc and take a look at the questions I've identified in the document.\n",
    "2. Take a look at the analyses of your classmates and those highlighted here: https://anderson-github-classroom.github.io/csc-448-project/wiobrien/, https://anderson-github-classroom.github.io/csc-448-project/mhowland/\n",
    "3. Contribute to the Google doc. Let's knock this into shape as a team\n",
    "    a. Formatting\n",
    "    b. Edits\n",
    "    c. Intro and lit review\n",
    "    d. Help importing figures\n",
    "    e. Moving your analysis and figures over\n",
    "    \n",
    "Google Doc Link: https://docs.google.com/document/d/1tqWJA8RtPVFxl3igQ3tsj6k1tl2mVeEFysbtsUVe_Z4/edit?usp=sharing\n",
    "* I'll need you to request access and then I'll add you. It doesn't like your Cal Poly email addresses.\n",
    "    \n",
    "IMPORTANT - Do not stress about making this document perfect before Monday. Honestly, let's make it a bit of a mess with contributions. Then we can start to sort things out. I mean... don't make things a mess on purpose, but don't stress about making what you contribute perfect. Just contribute something."
   ]
  },
  {
   "cell_type": "markdown",
   "metadata": {},
   "source": [
    "### Link to clone the repository\n",
    "Here is a link to the project repository.\n",
    "\n",
    "https://github.com/anderson-github-classroom/csc-448-project\n",
    "\n",
    "The website can be viewed at https://anderson-github-classroom.github.io/csc-448-project/."
   ]
  }
 ],
 "metadata": {
  "jupytext": {
   "formats": "ipynb,md,py"
  },
  "kernelspec": {
   "display_name": "Python 3",
   "language": "python",
   "name": "python3"
  },
  "language_info": {
   "codemirror_mode": {
    "name": "ipython",
    "version": 3
   },
   "file_extension": ".py",
   "mimetype": "text/x-python",
   "name": "python",
   "nbconvert_exporter": "python",
   "pygments_lexer": "ipython3",
   "version": "3.7.4"
  }
 },
 "nbformat": 4,
 "nbformat_minor": 4
}
