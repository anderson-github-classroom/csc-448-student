{
 "cells": [
  {
   "cell_type": "markdown",
   "metadata": {},
   "source": [
    "## Project Part 5(a.k.a. Project 5 on Schedule)\n",
    "For project 5, I would like you to focus your efforts on the questions identified in our Overleaf document. Use your individual pages as scratch work and exploration. Then when you feel like you can make an update to master latex document, please feel free to do so.\n",
    "\n",
    "The overleaf link is on Canvas."
   ]
  },
  {
   "cell_type": "markdown",
   "metadata": {},
   "source": [
    "### Link to clone the repository\n",
    "Here is a link to the project repository.\n",
    "\n",
    "https://github.com/anderson-github-classroom/csc-448-project\n",
    "\n",
    "The website can be viewed at https://anderson-github-classroom.github.io/csc-448-project/."
   ]
  }
 ],
 "metadata": {
  "jupytext": {
   "formats": "ipynb,md,py"
  },
  "kernelspec": {
   "display_name": "Python 3",
   "language": "python",
   "name": "python3"
  },
  "language_info": {
   "codemirror_mode": {
    "name": "ipython",
    "version": 3
   },
   "file_extension": ".py",
   "mimetype": "text/x-python",
   "name": "python",
   "nbconvert_exporter": "python",
   "pygments_lexer": "ipython3",
   "version": "3.7.4"
  }
 },
 "nbformat": 4,
 "nbformat_minor": 4
}
