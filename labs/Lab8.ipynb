{
 "cells": [
  {
   "cell_type": "markdown",
   "metadata": {
    "slideshow": {
     "slide_type": "slide"
    }
   },
   "source": [
    "# Lab 8 - Are there fragile regions in the human genome?\n",
    "\n",
    "## Combinatorial Algorithms - Chapter 6\n",
    "Material and embedded lab.\n",
    "\n",
    "Motivation and some exercises are variations on those available in Bioinformatics Algorithms: An Active-Learning Approach by Phillip Compeau & Pavel Pevzner."
   ]
  },
  {
   "cell_type": "code",
   "execution_count": 1,
   "metadata": {
    "slideshow": {
     "slide_type": "skip"
    }
   },
   "outputs": [
    {
     "data": {
      "text/plain": [
       "'Verifying you can use display'"
      ]
     },
     "metadata": {},
     "output_type": "display_data"
    }
   ],
   "source": [
    "debug = True # Set this to False before pushing to be graded\n",
    "display_available = True\n",
    "try:\n",
    "    display('Verifying you can use display')\n",
    "    from IPython.display import Image\n",
    "except:\n",
    "    display_available = False\n",
    "try:\n",
    "    import pygraphviz\n",
    "    graphviz_installed = True # Set this to False if you don't have graphviz\n",
    "except:\n",
    "    graphviz_installed = False"
   ]
  },
  {
   "cell_type": "markdown",
   "metadata": {
    "slideshow": {
     "slide_type": "slide"
    }
   },
   "source": [
    "# Of Mice and Men\n",
    "* Nearly every human gene has a mouse counterpart\n",
    "* We even have genes that make tails, but those are silenced\n",
    "\n",
    "So the question is:\n",
    "> What evolutionary forces have transformed the genome of the human-mouse ancestor into the present-day human and mouse genomes?\n",
    "\n"
   ]
  },
  {
   "cell_type": "markdown",
   "metadata": {
    "slideshow": {
     "slide_type": "subslide"
    }
   },
   "source": [
    "## Genome rearrangement\n",
    "* You can cut the 23 human chromosomes into 280 pieces, shuffle these DNA fragments and then glue the pieces together in a new order to form the 20 mouse chromosomes\n",
    "* In this chapter and lab we will work to understand the genome rearrangements that have separated the human and mouse genomes"
   ]
  },
  {
   "cell_type": "markdown",
   "metadata": {
    "slideshow": {
     "slide_type": "subslide"
    }
   },
   "source": [
    "## Quick word about the X chromosome\n",
    "* One of two sex-determining chromosomes in mammals\n",
    "* It's retained nearly all its genes throughout mammalian evolution\n",
    "* We can view it as a mini-genome because this chromosome's genes have not jumped onto different chromosomes"
   ]
  },
  {
   "cell_type": "markdown",
   "metadata": {
    "slideshow": {
     "slide_type": "subslide"
    }
   },
   "source": [
    "## Synteny blocks\n",
    "* Genes across species often appear in procession\n",
    "* This is known as a synteny block\n",
    "* Constructing these blocks simplifies our problem from 150 million base pairs on the X chromosome to only eleven units"
   ]
  },
  {
   "cell_type": "markdown",
   "metadata": {
    "slideshow": {
     "slide_type": "subslide"
    }
   },
   "source": [
    "<img src=\"http://bioinformaticsalgorithms.com/images/Rearrangements/mouse_and_human_synteny_blocks.png\">\n",
    "Color and shape indicate a block. Direction indicated by arrow head. Note that some blocks are longer than others."
   ]
  },
  {
   "cell_type": "markdown",
   "metadata": {
    "slideshow": {
     "slide_type": "subslide"
    }
   },
   "source": [
    "## Reversal Genome Rearrangment\n",
    "* Flips around an interval of a chromosome and inverts the directions of any synteny blocks within that interval\n",
    "* Genome rearrangements typically cause the death or sterility of the mutated organism\n",
    "* So they are pretty rare\n",
    "* A tiny fraction may have a positive effect on survival and propagate"
   ]
  },
  {
   "cell_type": "markdown",
   "metadata": {
    "slideshow": {
     "slide_type": "subslide"
    }
   },
   "source": [
    "How do we go from human to mouse (and is this the only way we can do so with 7 changes)? \n",
    "<img src=\"http://bioinformaticsalgorithms.com/images/Rearrangements/transforming_mouse_into_human_7_reversals.png\">"
   ]
  },
  {
   "cell_type": "markdown",
   "metadata": {
    "slideshow": {
     "slide_type": "slide"
    }
   },
   "source": [
    "## Random Breakage Model\n",
    "* 1973, Susumu Ohno proposed the Random Breakage Model of chromosome evolution\n",
    "* Hypothesizes that the breakage points of rearrangements are selected randomly\n",
    "* Implies that rearrangement hotspots in mammalian genomes do not exist\n",
    "* Yet Ohno's model lacked supporting evidence when it was introduced"
   ]
  },
  {
   "cell_type": "markdown",
   "metadata": {
    "slideshow": {
     "slide_type": "subslide"
    }
   },
   "source": [
    "*Replicating a computational experiment*\n",
    "\n",
    "> In 1984, Joseph Nadeau and Benjamin Taylor asked what the expected lengths of synteny blocks should be after N reversals occurring at random locations in the genome. If we rule out the unlikely event that two random reversals cut the chromosome in exactly the same position, then N random reversals cut the chromosome in 2N locations and produce 2N + 1 synteny blocks. The figure below depicts the result of a computational experiment in which 320 random reversals are applied to a simulated chromosome consisting of 25,000 genes, producing 2 · 320 + 1 = 641 synteny blocks. The average synteny block size is 25,000/641 ≈ 34 genes, but this does not mean that all synteny blocks should have approximately 34 genes. If we select random locations for breakage points, then some blocks may have only a few genes, whereas other blocks may contain over a hundred."
   ]
  },
  {
   "cell_type": "markdown",
   "metadata": {
    "slideshow": {
     "slide_type": "subslide"
    }
   },
   "source": [
    "**Exercise 1**: Simulating reversals\n",
    "\n",
    "Using the method descried above, I want you to write a simulation that cuts the chromosome into blocks. You should end up with 2N+1 blocks (N=320 below). The autograder is going to look at the distribution of the lengths of your blocks. This is a stochastic simulation, so the autograder has run this simulation many times, and it is aware of reasonable levels of variation. "
   ]
  },
  {
   "cell_type": "code",
   "execution_count": 2,
   "metadata": {
    "slideshow": {
     "slide_type": "subslide"
    }
   },
   "outputs": [
    {
     "data": {
      "text/plain": [
       "0            g0\n",
       "1            g1\n",
       "2            g2\n",
       "3            g3\n",
       "4            g4\n",
       "          ...  \n",
       "24995    g24995\n",
       "24996    g24996\n",
       "24997    g24997\n",
       "24998    g24998\n",
       "24999    g24999\n",
       "Length: 25000, dtype: object"
      ]
     },
     "execution_count": 2,
     "metadata": {},
     "output_type": "execute_result"
    }
   ],
   "source": [
    "import pandas as pd\n",
    "ngenes = 25000\n",
    "chromosome = [\"g%d\"%i for i in range(ngenes)]\n",
    "pd.Series(chromosome)"
   ]
  },
  {
   "cell_type": "code",
   "execution_count": 3,
   "metadata": {
    "slideshow": {
     "slide_type": "subslide"
    }
   },
   "outputs": [
    {
     "data": {
      "text/plain": [
       "<matplotlib.axes._subplots.AxesSubplot at 0x114858310>"
      ]
     },
     "metadata": {},
     "output_type": "display_data"
    },
    {
     "data": {
      "text/plain": [
       "array([340, 157,  61,  40,  19,  15,   4,   1,   2,   1])"
      ]
     },
     "execution_count": 3,
     "metadata": {},
     "output_type": "execute_result"
    },
    {
     "data": {
      "image/png": "[encoded data removed]",
      "text/plain": [
       "<Figure size 432x288 with 1 Axes>"
      ]
     },
     "metadata": {
      "needs_background": "light"
     },
     "output_type": "display_data"
    }
   ],
   "source": [
    "%matplotlib inline \n",
    "import random\n",
    "import numpy as np\n",
    "random.seed(0)\n",
    "random_reversals = 320\n",
    "\n",
    "bins = [0. ,  27.8,  55.6,  83.4, 111.2, 139. , 166.8, 194.6, 222.4, 250.2, 278.]\n",
    "lens = [] # FILLING THIS OUT WITH THE LENGTHS OF YOUR BLOCKS IS WHAT AUTOGRADER NEEDS\n",
    "# YOUR SOLUTION HERE\n",
    "if display_available:\n",
    "    display(pd.Series(lens).plot.hist());\n",
    "counts,centers = np.histogram(lens,bins=bins)\n",
    "counts"
   ]
  },
  {
   "cell_type": "markdown",
   "metadata": {
    "slideshow": {
     "slide_type": "slide"
    }
   },
   "source": [
    "## Why simulate and a greedy heuristic?\n",
    "I find it very useful to simulate my own data if for no other reason than to enhance my understanding. Since you've done a simulation, consider this:\n",
    "\n",
    "> If I gave you the blocks you arrived at in the end, can you tell me how we arrived at them?\n",
    "\n",
    "Consider the greedy heuristic next..."
   ]
  },
  {
   "cell_type": "markdown",
   "metadata": {
    "slideshow": {
     "slide_type": "subslide"
    }
   },
   "source": [
    "**Exercise 2**: Greedy heuristic for sorting by reversals\n",
    "\n",
    "For this exercise, I want you to implement the greedy heuristic as described in Chapter 6. \n",
    "\n",
    "Input: $P$ - signed permutation (pandas Series object)\n",
    "\n",
    "Output: $d_{rev}(P)$ - number of reversals"
   ]
  },
  {
   "cell_type": "code",
   "execution_count": 4,
   "metadata": {
    "slideshow": {
     "slide_type": "subslide"
    }
   },
   "outputs": [
    {
     "data": {
      "text/plain": [
       "0"
      ]
     },
     "execution_count": 4,
     "metadata": {},
     "output_type": "execute_result"
    }
   ],
   "source": [
    "def greedy_sorting(P):\n",
    "    approx_rev_distance = 0\n",
    "    # YOUR SOLUTION HERE\n",
    "    return approx_rev_distance\n",
    "            \n",
    "P_list = [1,-7,6,-10,9,-8,2,-11,-3,5,4]\n",
    "P = pd.Series([1,-7,6,-10,9,-8,2,-11,-3,5,4],index=list(range(1,len(P_list)+1)))\n",
    "\n",
    "greedy_sorting(P)"
   ]
  },
  {
   "cell_type": "markdown",
   "metadata": {
    "slideshow": {
     "slide_type": "subslide"
    }
   },
   "source": [
    "## Breakpoints\n",
    "Put simply breakpoints are located in between adjacent blocks that do not differ by 1.\n",
    "\n",
    "* Breakpoint exists between (5,7)\n",
    "* Breakpoint does not exist between (5,6)\n",
    "* Breakpoint does not exist between (-7,-6)"
   ]
  },
  {
   "cell_type": "markdown",
   "metadata": {
    "slideshow": {
     "slide_type": "subslide"
    }
   },
   "source": [
    "**Exercise 3**: Number of breakpoints problem\n",
    "\n",
    "For this exercise, I want you to find the number of breakpoints in a permutation. \n",
    "\n",
    "Input: $P$ - signed permutation (pandas Series object)\n",
    "\n",
    "Output: Number of breakpoints in this permutation"
   ]
  },
  {
   "cell_type": "code",
   "execution_count": 5,
   "metadata": {
    "slideshow": {
     "slide_type": "subslide"
    }
   },
   "outputs": [
    {
     "data": {
      "text/plain": [
       "(8, 10)"
      ]
     },
     "execution_count": 5,
     "metadata": {},
     "output_type": "execute_result"
    }
   ],
   "source": [
    "def count_breakpoints(P):\n",
    "    nbreakpoints = 0\n",
    "    # YOUR SOLUTION HERE\n",
    "    return nbreakpoints\n",
    "\n",
    "P_list2 = [3,4,5,-12,-8,-7,-6,1,2,10,9,-11,13,14]\n",
    "P2 = pd.Series(P_list2,index=list(range(1,len(P_list2)+1)))\n",
    "nbreakpoints_P2 = count_breakpoints(P2)\n",
    "P_list3 = [3,4,5,-12,-8,-7,-6,1,2,10,9,-11,14,13]\n",
    "P3 = pd.Series(P_list3,index=list(range(1,len(P_list2)+1)))\n",
    "nbreakpoints_P3 = count_breakpoints(P3)\n",
    "nbreakpoints_P2,nbreakpoints_P3"
   ]
  },
  {
   "cell_type": "markdown",
   "metadata": {
    "slideshow": {
     "slide_type": "slide"
    }
   },
   "source": [
    "## Rearrangements in Tumor Genomes\n",
    "### A win that shows why many of us work in bioinformatics...\n",
    "<img src=\"http://bioinformaticsalgorithms.com/images/Rearrangements/Philadelphia_chromosome.png\" width=400>\n",
    "\n",
    "> The figure above presents a rearrangement involving human chromosomes 9 and 22 in a rare form of cancer called chronic myeloid leukemia (CML). \n",
    "> Once scientists understood the root cause of CML, they started searching for a compound inhibiting ABL-BCR, which resulted in the introduction of a drug called Gleevec in 2001."
   ]
  },
  {
   "cell_type": "markdown",
   "metadata": {
    "slideshow": {
     "slide_type": "slide"
    }
   },
   "source": [
    "## From Unichromosomal to Multichromosomal Genomes\n",
    "Four types of rearrangements\n",
    " * reversals\n",
    " * translocations - exchanges segments of different chromosomes\n",
    " * fusions - fuse two chromosomes\n",
    " * fissions - split a chromosome into two"
   ]
  },
  {
   "cell_type": "markdown",
   "metadata": {
    "slideshow": {
     "slide_type": "subslide"
    }
   },
   "source": [
    "**Translocation example**"
   ]
  },
  {
   "cell_type": "code",
   "execution_count": 6,
   "metadata": {
    "slideshow": {
     "slide_type": "fragment"
    }
   },
   "outputs": [
    {
     "name": "stdout",
     "output_type": "stream",
     "text": [
      "(1, 2, 3, 4) (5, 6)\n",
      "(7, 8) (9, 10, 11)\n",
      "(1, 2, 3, 4, 9, 10, 11) (7, 8, 5, 6)\n"
     ]
    }
   ],
   "source": [
    "chromosome1 = [1,2,3,4,5,6]; chromosome2 = [7,8,9,10,11]\n",
    "cut1 = 4; cut2 = 2 # inclusive indices of the cuts\n",
    "chromosome1a = chromosome1[:cut1]\n",
    "chromosome1b = chromosome1[cut1:]\n",
    "chromosome2a = chromosome2[:cut2]\n",
    "chromosome2b = chromosome2[cut2:]\n",
    "new_chromosome1 = chromosome1a + chromosome2b\n",
    "new_chromosome2 = chromosome2a + chromosome1b\n",
    "print(tuple(chromosome1a),tuple(chromosome1b));print(tuple(chromosome2a),tuple(chromosome2b));print(tuple(new_chromosome1),tuple(new_chromosome2))"
   ]
  },
  {
   "cell_type": "markdown",
   "metadata": {
    "slideshow": {
     "slide_type": "subslide"
    }
   },
   "source": [
    "You guessed it... Now it is time for more graphs\n",
    "<img src=\"http://bioinformaticsalgorithms.com/images/Rearrangements/genome_graph.png\" width=400>\n",
    "\n",
    "> Figure: A genome with two circular chromosomes, (+a −b −c +d) and (+e +f +g +h +i +j). Black directed edges represent synteny blocks, and red undirected edges connect adjacent synteny blocks. A circular chromosome with n﻿ elements can be written in 2n different ways; the chromosome on the left can be written as (+a −b −c +d), (−b −c +d +a), (−c +d +a −b), (+d +a −b −c), (−a −d +c +b) (−d +c +b −a), (+c +b −a −d), and (+b −a −d +c)."
   ]
  },
  {
   "cell_type": "markdown",
   "metadata": {
    "slideshow": {
     "slide_type": "subslide"
    }
   },
   "source": [
    "**Exercise 4**: Representing a graph\n",
    "\n",
    "For this exercise, I want you to adopt a specific format for representing the genome graphs. We can't easily construct the arrow, but we can come up with a straightforward way to represent it.\n",
    "\n",
    "Input: genome - a list of signed permutation (pandas Series objects)\n",
    "\n",
    "Output: A networkx graph"
   ]
  },
  {
   "cell_type": "code",
   "execution_count": 7,
   "metadata": {
    "slideshow": {
     "slide_type": "skip"
    }
   },
   "outputs": [],
   "source": [
    "import networkx as nx\n",
    "import copy\n",
    "\n",
    "def to_adj(T):\n",
    "    df = pd.DataFrame(nx.adjacency_matrix(T).todense(),index=T.nodes(),columns=T.nodes())\n",
    "    return df\n",
    "\n",
    "def to_edge_list(T):\n",
    "    return list(T.edges())\n",
    "\n",
    "def show(G,G2=None,P_G=None):\n",
    "    if not display_available:\n",
    "        return\n",
    "    if display_available:\n",
    "        pos = nx.circular_layout(G)\n",
    "                \n",
    "        nx.draw_networkx_nodes(G, pos=pos,node_size=600,node_color='w')\n",
    "        nx.draw_networkx_labels(G, pos=pos)        \n",
    "        nodes = list(G.nodes())\n",
    "        edge_list_grey = []\n",
    "        edge_list_red = []\n",
    "        edge_list_blue = []\n",
    "        edge_list_purple = []\n",
    "        for i in range(len(nodes)):\n",
    "            n1 = nodes[i]\n",
    "            for j in range(i+1,len(nodes)):\n",
    "                n2 = nodes[j]\n",
    "                if n1 == -n2:\n",
    "                    edge_list_grey.append((n1,n2))\n",
    "                elif G2 is not None:\n",
    "                    if G.has_edge(n1,n2) and G2.has_edge(n1,n2):\n",
    "                        edge_list_purple.append((n1,n2))\n",
    "                    elif G.has_edge(n1,n2):\n",
    "                        edge_list_red.append((n1,n2))\n",
    "                    elif G2.has_edge(n1,n2):\n",
    "                        edge_list_blue.append((n1,n2))                        \n",
    "                elif G.has_edge(n1,n2):\n",
    "                    edge_list_red.append((n1,n2))\n",
    "        nx.draw_networkx_edges(G, pos=pos,edgelist=edge_list_grey,edge_color='grey')\n",
    "        nx.draw_networkx_edges(G, pos=pos,edgelist=edge_list_purple,edge_color='purple')\n",
    "        nx.draw_networkx_edges(G, pos=pos,edgelist=edge_list_blue,edge_color='blue')\n",
    "        nx.draw_networkx_edges(G, pos=pos,edgelist=edge_list_red,edge_color='red')\n",
    "    else:\n",
    "        print(to_adj(G))\n",
    "        \n",
    "def show_combined(Gcombined,show_grey=True):\n",
    "    if not display_available:\n",
    "        return\n",
    "    red_edges = get_color_edges_combined(Gcombined,color=\"red\")\n",
    "    blue_edges = get_color_edges_combined(Gcombined,color=\"blue\")\n",
    "    if show_grey:\n",
    "        grey_edges = get_color_edges_combined(Gcombined,color=\"grey\")\n",
    "    pos = nx.circular_layout(Gcombined)\n",
    "    nx.draw_networkx_nodes(Gcombined, pos=pos,node_size=600,node_color='w')\n",
    "    nx.draw_networkx_labels(Gcombined, pos=pos)        \n",
    "    nx.draw_networkx_edges(Gcombined, pos=pos,edgelist=blue_edges,edge_color='blue')\n",
    "    nx.draw_networkx_edges(Gcombined, pos=pos,edgelist=red_edges,edge_color='red') \n",
    "    if show_grey:\n",
    "        nx.draw_networkx_edges(Gcombined, pos=pos,edgelist=grey_edges,edge_color='grey') \n",
    "    \n",
    "def get_color_edges_combined(Gcombined,color=\"red\"):\n",
    "    color_edges = []\n",
    "    df = pd.DataFrame(nx.adjacency_matrix(Gcombined).todense(),index=Gcombined.nodes(),columns=Gcombined.nodes())\n",
    "    for i in range(len(df)):\n",
    "        for j in range(len(df)):\n",
    "            if df.iloc[i,j] == 1:\n",
    "                data = Gcombined.get_edge_data(df.index[i],df.columns[j])\n",
    "                if data['color'] == color:\n",
    "                    color_edges.append((df.index[i],df.columns[j]))\n",
    "    return color_edges"
   ]
  },
  {
   "cell_type": "code",
   "execution_count": 8,
   "metadata": {
    "slideshow": {
     "slide_type": "subslide"
    }
   },
   "outputs": [
    {
     "name": "stderr",
     "output_type": "stream",
     "text": [
      "/Users/panderson/opt/anaconda3/lib/python3.7/site-packages/networkx/drawing/nx_pylab.py:579: MatplotlibDeprecationWarning: \n",
      "The iterable function was deprecated in Matplotlib 3.1 and will be removed in 3.3. Use np.iterable instead.\n",
      "  if not cb.iterable(width):\n"
     ]
    },
    {
     "data": {
      "image/png": "[encoded data removed]",
      "text/plain": [
       "<Figure size 432x288 with 1 Axes>"
      ]
     },
     "metadata": {},
     "output_type": "display_data"
    }
   ],
   "source": [
    "def genome_to_graph(genome):\n",
    "    G = nx.Graph()\n",
    "    return G\n",
    "\n",
    "G = genome_to_graph([pd.Series([1,-2,-3,4]),pd.Series([5,6,7,8,9,10])])\n",
    "show(G)"
   ]
  },
  {
   "cell_type": "markdown",
   "metadata": {},
   "source": [
    "**Exercise 5**: Creating a breakpoint graph\n",
    "\n",
    "For this exercise, I want you to construct a breakpoint graph. Again, I use a slightly different notation than the one in the book, but the results are the same.\n",
    "\n",
    "Input: two genomes where a genome is a list of signed permutation (pandas Series objects)\n",
    "\n",
    "Output: A networkx graph"
   ]
  },
  {
   "cell_type": "code",
   "execution_count": 9,
   "metadata": {
    "slideshow": {
     "slide_type": "subslide"
    }
   },
   "outputs": [
    {
     "name": "stderr",
     "output_type": "stream",
     "text": [
      "/Users/panderson/opt/anaconda3/lib/python3.7/site-packages/networkx/drawing/nx_pylab.py:579: MatplotlibDeprecationWarning: \n",
      "The iterable function was deprecated in Matplotlib 3.1 and will be removed in 3.3. Use np.iterable instead.\n",
      "  if not cb.iterable(width):\n"
     ]
    },
    {
     "data": {
      "image/png": "[encoded data removed]",
      "text/plain": [
       "<Figure size 432x288 with 1 Axes>"
      ]
     },
     "metadata": {},
     "output_type": "display_data"
    }
   ],
   "source": [
    "def combine(G,G2):\n",
    "    Gcombined = nx.Graph()\n",
    "    return Gcombined\n",
    "\n",
    "P4_list = [1,-2,-3,4]\n",
    "P4 = pd.Series(P4_list)\n",
    "P5_list = [1,3,2,-4]\n",
    "P5 = pd.Series(P5_list)\n",
    "\n",
    "G_P4_P5 = combine(genome_to_graph([P4]),genome_to_graph([P5]))\n",
    "show_combined(G_P4_P5)"
   ]
  },
  {
   "cell_type": "markdown",
   "metadata": {
    "slideshow": {
     "slide_type": "subslide"
    }
   },
   "source": [
    "**Exercise 6**: Finding the number of cycles in a combined graph\n",
    "\n",
    "For this exercise, I want you to determine the number of alternating cycles in the combined graph if you remove the grey links (e.g., (-1,1)).\n",
    "\n",
    "Input: A combined breakpoint graph\n",
    "\n",
    "Output: Number of cycles as defined in the textbook as CYCLES(P,Q)."
   ]
  },
  {
   "cell_type": "code",
   "execution_count": 10,
   "metadata": {
    "slideshow": {
     "slide_type": "subslide"
    }
   },
   "outputs": [
    {
     "data": {
      "text/plain": [
       "2"
      ]
     },
     "execution_count": 10,
     "metadata": {},
     "output_type": "execute_result"
    }
   ],
   "source": [
    "def cycles(G,G2):\n",
    "    nalt_cycles = 0\n",
    "    return nalt_cycles\n",
    "\n",
    "ncycles = cycles(genome_to_graph([P4]),genome_to_graph([P5]))\n",
    "ncycles"
   ]
  },
  {
   "cell_type": "markdown",
   "metadata": {
    "slideshow": {
     "slide_type": "subslide"
    }
   },
   "source": [
    "**Exercise 7**: Find the number of blocks in a graph\n",
    "\n",
    "For this exercise, blocks is defined as referenced in the textbook.\n",
    "\n",
    "Input: G - A genome graph\n",
    "\n",
    "Output: Number of blocks in a genome graph."
   ]
  },
  {
   "cell_type": "code",
   "execution_count": 11,
   "metadata": {},
   "outputs": [
    {
     "data": {
      "text/plain": [
       "4"
      ]
     },
     "execution_count": 11,
     "metadata": {},
     "output_type": "execute_result"
    }
   ],
   "source": [
    "def blocks(G):\n",
    "    return 0\n",
    "\n",
    "nblocks = blocks(genome_to_graph([P5]))\n",
    "nblocks"
   ]
  },
  {
   "cell_type": "markdown",
   "metadata": {
    "slideshow": {
     "slide_type": "subslide"
    }
   },
   "source": [
    "**Exercise 7**: 2-Break Distance Problem\n",
    "\n",
    "For this exercise, find the 2-break distance between two genomes.\n",
    "\n",
    "Input: G - Two genomes\n",
    "\n",
    "Output: 2-break distance"
   ]
  },
  {
   "cell_type": "code",
   "execution_count": 12,
   "metadata": {},
   "outputs": [
    {
     "data": {
      "text/plain": [
       "3"
      ]
     },
     "execution_count": 12,
     "metadata": {},
     "output_type": "execute_result"
    }
   ],
   "source": [
    "def two_break_distance(G,G2):\n",
    "    # YOUR SOLUTION HERE\n",
    "    return 0\n",
    "\n",
    "P6_list = [1,2,3,4,5,6]\n",
    "P6 = pd.Series(P6_list)\n",
    "P7_list = [1,-3,-6,-5]\n",
    "P7 = pd.Series(P7_list)\n",
    "P8_list = [2,-4]\n",
    "P8 = pd.Series(P8_list)\n",
    "\n",
    "distance = two_break_distance(genome_to_graph([P6]),genome_to_graph([P7,P8]))\n",
    "distance"
   ]
  },
  {
   "cell_type": "code",
   "execution_count": 13,
   "metadata": {
    "slideshow": {
     "slide_type": "skip"
    }
   },
   "outputs": [],
   "source": [
    "import matplotlib.pyplot as plt\n",
    "\n",
    "def print_from_graph(G):\n",
    "    sub_graphs = nx.connected_component_subgraphs(G)\n",
    "    all_to_print = []\n",
    "    for sub_graph in sub_graphs:   \n",
    "        if len(list(sub_graph.nodes())) == 2:\n",
    "            cycle = list(sub_graph.edges())\n",
    "        else:\n",
    "            cycle = list(nx.find_cycle(sub_graph))\n",
    "        to_print = []\n",
    "        for i in range(0,len(cycle),2):\n",
    "            to_print.append(cycle[i][1])\n",
    "        all_to_print.append(to_print)\n",
    "    print(\"\".join([str(c) for c in all_to_print]))\n",
    "    return set([tuple(c) for c in all_to_print])\n",
    "    \n",
    "def get_color(sub_graph,edge):\n",
    "    data = sub_graph.get_edge_data(edge[0],edge[1])\n",
    "    return data['color']"
   ]
  },
  {
   "cell_type": "markdown",
   "metadata": {
    "slideshow": {
     "slide_type": "subslide"
    }
   },
   "source": [
    "**Exercise 8**: Check to see if a cycle alternates between red and blue\n",
    "\n",
    "For this exercise, blocks is defined as referenced in the textbook.\n",
    "\n",
    "Input: G - A genome graph\n",
    "\n",
    "Output: None,None if this is not a red/blue alternating cycle otherwise return the cycle and the colors"
   ]
  },
  {
   "cell_type": "code",
   "execution_count": 14,
   "metadata": {
    "slideshow": {
     "slide_type": "subslide"
    }
   },
   "outputs": [
    {
     "name": "stdout",
     "output_type": "stream",
     "text": [
      "[[1, -3], [-3, -4], [-4, -1], [-1, 4], [4, 2], [2, 1]]\n",
      "['blue', 'red', 'blue', 'red', 'blue', 'red']\n"
     ]
    }
   ],
   "source": [
    "def red_blue_cycle_check(sub_graph,cycle):\n",
    "    checked_cycle = None\n",
    "    colors = []\n",
    "    return checked_cycle,colors\n",
    "\n",
    "G_P4_P5 = combine(genome_to_graph([P4]),genome_to_graph([P5]))\n",
    "# Below is an example for how you can find all the cycles\n",
    "cycles = list(nx.simple_cycles(G_P4_P5.to_directed()))\n",
    "edge_cycles = [] # just a cycle listed as edges\n",
    "for cycle in cycles:\n",
    "    edge_cycle = []\n",
    "    a = cycle[0]\n",
    "    for b in cycle[1:]:\n",
    "        edge_cycle.append([a,b])\n",
    "        a = b\n",
    "    edge_cycle.append([b,cycle[0]])\n",
    "    edge_cycles.append(edge_cycle)\n",
    "# Running the code on all cycles\n",
    "for edge_cycle in edge_cycles:\n",
    "    #print(edge_cycle)\n",
    "    checked_cycle, colors = red_blue_cycle_check(G_P4_P5,edge_cycle)\n",
    "    #print(colors)\n",
    "    \n",
    "test_edge_cycle = [[1, -3], [-3, -4], [-4, -1], [-1, 4], [4, 2], [2, 1]]\n",
    "checked_cycle, colors = red_blue_cycle_check(G_P4_P5,test_edge_cycle)\n",
    "print(checked_cycle)\n",
    "print(colors)"
   ]
  },
  {
   "cell_type": "code",
   "execution_count": 15,
   "metadata": {
    "slideshow": {
     "slide_type": "skip"
    }
   },
   "outputs": [],
   "source": [
    "# More predefined functions for you to use\n",
    "def two_break_on_genome_graph(G,i1,i2,i3,i4,color='red'):\n",
    "    G.remove_edge(i1,i2)\n",
    "    G.remove_edge(i3,i4)\n",
    "    G.add_edge(i1,i4,color=color)\n",
    "    G.add_edge(i2,i3,color=color)"
   ]
  },
  {
   "cell_type": "markdown",
   "metadata": {
    "slideshow": {
     "slide_type": "subslide"
    }
   },
   "source": [
    "**Exercise 9**: 2-Break Sorting Problem\n",
    "\n",
    "Find a shortest transformation of one genome into another by 2-breaks.\n",
    "\n",
    "Input: Two genomes with circular chromosomes on the same set of synteny blocks (i.e., the usual)\n",
    "\n",
    "Output: The sequence of genomes resulting from applying a shortest sequence of 2-breaks transforming one genome into the other."
   ]
  },
  {
   "cell_type": "code",
   "execution_count": 16,
   "metadata": {
    "slideshow": {
     "slide_type": "subslide"
    }
   },
   "outputs": [
    {
     "name": "stdout",
     "output_type": "stream",
     "text": [
      "[1, -2, -3, 4]\n",
      "[1, 2, -3, 4]\n",
      "[1, 2, 3, 4]\n",
      "[1, 2, -4, -3]\n"
     ]
    },
    {
     "name": "stderr",
     "output_type": "stream",
     "text": [
      "/Users/panderson/opt/anaconda3/lib/python3.7/site-packages/networkx/drawing/nx_pylab.py:579: MatplotlibDeprecationWarning: \n",
      "The iterable function was deprecated in Matplotlib 3.1 and will be removed in 3.3. Use np.iterable instead.\n",
      "  if not cb.iterable(width):\n",
      "/Users/panderson/opt/anaconda3/lib/python3.7/site-packages/networkx/drawing/nx_pylab.py:579: MatplotlibDeprecationWarning: \n",
      "The iterable function was deprecated in Matplotlib 3.1 and will be removed in 3.3. Use np.iterable instead.\n",
      "  if not cb.iterable(width):\n",
      "/Users/panderson/opt/anaconda3/lib/python3.7/site-packages/networkx/drawing/nx_pylab.py:579: MatplotlibDeprecationWarning: \n",
      "The iterable function was deprecated in Matplotlib 3.1 and will be removed in 3.3. Use np.iterable instead.\n",
      "  if not cb.iterable(width):\n",
      "/Users/panderson/opt/anaconda3/lib/python3.7/site-packages/networkx/drawing/nx_pylab.py:579: MatplotlibDeprecationWarning: \n",
      "The iterable function was deprecated in Matplotlib 3.1 and will be removed in 3.3. Use np.iterable instead.\n",
      "  if not cb.iterable(width):\n"
     ]
    },
    {
     "data": {
      "text/plain": [
       "[{(1, -2, -3, 4)}, {(1, 2, -3, 4)}, {(1, 2, 3, 4)}, {(1, 2, -4, -3)}]"
      ]
     },
     "execution_count": 16,
     "metadata": {},
     "output_type": "execute_result"
    },
    {
     "data": {
      "image/png": "[encoded data removed]",
      "text/plain": [
       "<Figure size 432x288 with 1 Axes>"
      ]
     },
     "metadata": {},
     "output_type": "display_data"
    },
    {
     "data": {
      "image/png": "[encoded data removed]",
      "text/plain": [
       "<Figure size 432x288 with 1 Axes>"
      ]
     },
     "metadata": {},
     "output_type": "display_data"
    },
    {
     "data": {
      "image/png": "[encoded data removed]",
      "text/plain": [
       "<Figure size 432x288 with 1 Axes>"
      ]
     },
     "metadata": {},
     "output_type": "display_data"
    },
    {
     "data": {
      "image/png": "[encoded data removed]",
      "text/plain": [
       "<Figure size 432x288 with 1 Axes>"
      ]
     },
     "metadata": {},
     "output_type": "display_data"
    }
   ],
   "source": [
    "def shortest_rearrangement_scenario(P,Q):\n",
    "    G_P = genome_to_graph(P)\n",
    "    G_Q = genome_to_graph(Q)\n",
    "    Gcombined = combine(G_P,G_Q)\n",
    "    plt.figure(0)\n",
    "    steps = [print_from_graph(G_P)]\n",
    "    show_combined(Gcombined,show_grey=False)\n",
    "    return steps\n",
    "        \n",
    "steps = shortest_rearrangement_scenario([pd.Series([1,-2,-3,4])],[pd.Series([1,2,-4,-3])])\n",
    "steps"
   ]
  },
  {
   "cell_type": "code",
   "execution_count": 17,
   "metadata": {
    "slideshow": {
     "slide_type": "skip"
    }
   },
   "outputs": [],
   "source": [
    "# Don't forget to push!"
   ]
  },
  {
   "cell_type": "code",
   "execution_count": null,
   "metadata": {},
   "outputs": [],
   "source": []
  }
 ],
 "metadata": {
  "celltoolbar": "Slideshow",
  "jupytext": {
   "encoding": "# -*- coding: utf-8 -*-",
   "formats": "ipynb,md,py"
  },
  "kernelspec": {
   "display_name": "Python 3",
   "language": "python",
   "name": "python3"
  },
  "language_info": {
   "codemirror_mode": {
    "name": "ipython",
    "version": 3
   },
   "file_extension": ".py",
   "mimetype": "text/x-python",
   "name": "python",
   "nbconvert_exporter": "python",
   "pygments_lexer": "ipython3",
   "version": "3.7.4"
  }
 },
 "nbformat": 4,
 "nbformat_minor": 4
}
