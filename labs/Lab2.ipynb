{
 "cells": [
  {
   "cell_type": "markdown",
   "metadata": {
    "slideshow": {
     "slide_type": "slide"
    }
   },
   "source": [
    "# Lab 2 - How do we compare DNA sequences?\n",
    "## Dynamic Programming\n",
    "Material and embedded lab.\n",
    "\n",
    "Motivation and some exercises are variations on those available in Bioinformatics Algorithms: An Active-Learning Approach by Phillip Compeau & Pavel Pevzner."
   ]
  },
  {
   "cell_type": "code",
   "execution_count": 21,
   "metadata": {
    "slideshow": {
     "slide_type": "skip"
    }
   },
   "outputs": [],
   "source": [
   ]
  },
  {
   "cell_type": "markdown",
   "metadata": {
    "slideshow": {
     "slide_type": "subslide"
    }
   },
   "source": [
    "## Announcements\n",
    "GitHub Classroom and Canvas, Assignment on Canvas, etc\n",
    "\n",
    "Project update - I hope everyone is rocking and rolling. Please chime in now if you would like :)\n",
    "\n",
    "Data frames/signatures/etc - you may immediately translate the pandas structures that I uses into your own Python generic data structures. I find this to make the problems harder, but this could make the problems easier for you. It is up to you :) You must satisfy the autograder of course so don't change the input or output types.\n",
    "\n",
    "Assignments for week\n",
    "\n",
    "## Plans\n",
    "See headings on slide deck\n",
    "\n"
   ]
  },
  {
   "cell_type": "markdown",
   "metadata": {
    "slideshow": {
     "slide_type": "subslide"
    }
   },
   "source": [
    "Learning objectives for the week and lab:\n",
    "1. Build our mental model of biology by incorporating comparison as a framework for understanding biology\n",
    "2. Apply your dynamic programming experience from algorithms\n",
    "3. Gain experience translating a biological problem into a problem we can solve via code"
   ]
  },
  {
   "cell_type": "markdown",
   "metadata": {
    "slideshow": {
     "slide_type": "slide"
    }
   },
   "source": [
    "# History and motivation\n",
    "\n",
    "Searching all new sequences against sequence databases is now the first order of business in genomics!\n",
    "\n",
    "Why is it so important to us?"
   ]
  },
  {
   "cell_type": "markdown",
   "metadata": {
    "slideshow": {
     "slide_type": "subslide"
    }
   },
   "source": [
    "Mohamed Marahiel conjectured that since A-domains of protins (adenylation domains) have the same function (i.e., adding an amino acid to the growing peptide), different A-domains should have similar parts. Each A-domain is about 500 amino acids long and is responsible for adding a single amino acid."
   ]
  },
  {
   "cell_type": "markdown",
   "metadata": {
    "slideshow": {
     "slide_type": "subslide"
    }
   },
   "source": [
    "Taking 3 common A-domains and putting them down one after another, there are only three conserved columns (shown in red below) are common to the three sequences and have likely arisen by pure chance:\n",
    "\n",
    "<img src=\"http://bioinformaticsalgorithms.com/images/Alignment/A_domain_2.png\" width=2000>"
   ]
  },
  {
   "cell_type": "markdown",
   "metadata": {
    "slideshow": {
     "slide_type": "fragment"
    }
   },
   "source": [
    "Well that stinks..."
   ]
  },
  {
   "cell_type": "markdown",
   "metadata": {
    "slideshow": {
     "slide_type": "subslide"
    }
   },
   "source": [
    "If we slide the second sequence only one amino acid to the right, adding a space symbol (\"-\") to the beginning of the sequence, then we find 11 conserved columns!\n",
    "\n",
    "<img src=\"http://bioinformaticsalgorithms.com/images/Alignment/A_domain_3.png\" width=2000>"
   ]
  },
  {
   "cell_type": "markdown",
   "metadata": {
    "slideshow": {
     "slide_type": "subslide"
    }
   },
   "source": [
    "Adding a few more space symbols reveals 14 conserved columns:\n",
    "\n",
    "<img src=\"http://bioinformaticsalgorithms.com/images/Alignment/A_domain_4.png\" width=2000>"
   ]
  },
  {
   "cell_type": "markdown",
   "metadata": {
    "slideshow": {
     "slide_type": "fragment"
    }
   },
   "source": [
    "Now that is getting better, and the number of conserved columns is going up!"
   ]
  },
  {
   "cell_type": "markdown",
   "metadata": {
    "slideshow": {
     "slide_type": "subslide"
    }
   },
   "source": [
    "It turns out that the red columns represent the conserved core shared by many A-domains. Now that Marahiel knew how to correctly align the A-domains, he hypothesized that some of the remaining variable columns should code for Asp, Orn, and Val. He discovered that the non-ribosomal code is defined by 8 amino acid-long non-ribosomal signatures, which are shown as purple columns below.\n",
    "\n",
    "<img src=\"http://bioinformaticsalgorithms.com/images/Alignment/A_domain_6.png\" width=2000>"
   ]
  },
  {
   "cell_type": "markdown",
   "metadata": {
    "slideshow": {
     "slide_type": "subslide"
    }
   },
   "source": [
    "## Quick aside about the book chapter\n",
    "\n",
    "So the book has a very interesting introduction to this topic, but I would say that it requires more biology than currently within reach of this class in a single pass (i.e., one week). We will be layering in some of this biology this week and we'll build on it throughout the semester."
   ]
  },
  {
   "cell_type": "markdown",
   "metadata": {
    "slideshow": {
     "slide_type": "subslide"
    }
   },
   "source": [
    "## Identification of homologous genes\n",
    "* Two genes are homologous if they share a common ancestor\n",
    "* Living organisms share a large number of genes descended from common ancestors \n",
    "* Functionality is preserved but differences in sequence accumulate as they diverge from each other. \n",
    "* These differences may be due to mutations that change a symbol (nucleotide or amino acid) for another or insertions / deletions, indels, which insert or delete a symbol in the corresponding sequence."
   ]
  },
  {
   "cell_type": "markdown",
   "metadata": {
    "slideshow": {
     "slide_type": "subslide"
    }
   },
   "source": [
    "## Our life this lab/lecture\n",
    "\n",
    "<img src=\"https://raw.githubusercontent.com/gregcaporaso/An-Introduction-To-Applied-Bioinformatics/master/book/fundamentals/images/alignment.png\">"
   ]
  },
  {
   "cell_type": "markdown",
   "metadata": {
    "slideshow": {
     "slide_type": "subslide"
    }
   },
   "source": [
    "## An important distinction (and a biologist will correct you every time)\n",
    "* Homology is a dichotomous characteristic, i.e., given two genes are either homologous genes or not. It is binary.\n",
    "\n",
    "* However, given two sequences corresponding to two genes, can be said that there are different levels of similarity based on an alignment between them. \n",
    "* Our key question is to determine whether a good alignment between two sequences is significant enough to consider that both genes are homologous. \n",
    "    * This task is done through a hypothesis testing and the corresponding p-values are used to make a decision."
   ]
  },
  {
   "cell_type": "markdown",
   "metadata": {
    "slideshow": {
     "slide_type": "subslide"
    }
   },
   "source": [
    "## Two different forms of homology. \n",
    "Paralogs - When the origin of two homologous genes is due to a process of gene duplication within the same species\n",
    "\n",
    "Orthologous genes - origin is due to a speciation process resulting in homologous genes in these different species"
   ]
  },
  {
   "cell_type": "markdown",
   "metadata": {
    "slideshow": {
     "slide_type": "slide"
    }
   },
   "source": [
    "# Introduction to Sequence Alignment\n",
    "How do you align/match up ATGCTTA and TGCATTAA that have subtle similarities?\n",
    "<pre>\n",
    "ATGC-TTA-\n",
    "-TGCATTAA\n",
    "</pre>\n",
    "\n",
    "It's all a game. The goal is to maximize \"points\" which for us is matching nucleotides or amino acids.\n",
    "\n",
    "At each turn, you have two choices\n",
    "1. You can remove the first symbol from both sequences and align them. You'll earn a point if they match.\n",
    "2. You can remove the first symbol from either of the two sequences in which case you earn no points, but you may set yourself up to earn more points later. "
   ]
  },
  {
   "cell_type": "markdown",
   "metadata": {
    "slideshow": {
     "slide_type": "subslide"
    }
   },
   "source": [
    "### Greedy approach\n",
    "Let's say that we want to take a greedy approach to alignment. Meaning we will only consider the choice in front of us. Example:\n",
    "\n",
    "<pre>\n",
    "s1=AACCTTGG\n",
    "s2=ACACTGTGA\n",
    "</pre>\n",
    "\n",
    "For each move in the game: \n",
    "    * if s1[0] == s2[0], then add s1[0] to the longest common subsequence. \n",
    "    * else randomly choose to either remove s1[0], s2[0], or both s1[0] and s2[0]"
   ]
  },
  {
   "cell_type": "markdown",
   "metadata": {
    "slideshow": {
     "slide_type": "subslide"
    }
   },
   "source": [
    "**Exercise 1** Use a greedy approach to return suboptimal (or optimal) solutions to the longest common subsequence problem.\n",
    "\n",
    "Find a longest common subsequence of two strings\n",
    "\n",
    "Input: Two strings\n",
    "\n",
    "Output: A longest common subsequence of these strings"
   ]
  },
  {
   "cell_type": "code",
   "execution_count": 22,
   "metadata": {
    "slideshow": {
     "slide_type": "subslide"
    }
   },
   "outputs": [
    {
     "name": "stdout",
     "output_type": "stream",
     "text": [
      "AC\n",
      "ATG\n",
      "ACCT\n",
      "ACG\n"
     ]
    }
   ],
   "source": [
    "import random\n",
    "\n",
    "def random_action(s1,s2):\n",
    "    assert len(s1) > 0 and len(s2) > 0\n",
    "    choices = [(s1[1:],s2[1:]),(s1[1:],s2), (s1,s2[1:])]\n",
    "    return random.choice(choices)\n",
    "    \n",
    "def greedy_lcs(s1,s2,seed=0):\n",
    "    random.seed(seed)\n",
    "    lcs = \"\"\n",
    "    # YOUR SOLUTION HERE\n",
    "    return lcs\n",
    "\n",
    "\n",
    "print(greedy_lcs(\"AACCTTGG\",\"ACACTGTGA\",seed=0))\n",
    "print(greedy_lcs(\"AACCTTGG\",\"ACACTGTGA\",seed=100))\n",
    "print(greedy_lcs(\"AACCTTGG\",\"ACACTGTGA\",seed=1000))\n",
    "print(greedy_lcs(\"AACCTTGG\",\"ACACTGTGA\",seed=2000))"
   ]
  },
  {
   "cell_type": "markdown",
   "metadata": {
    "slideshow": {
     "slide_type": "subslide"
    }
   },
   "source": [
    "Well... That was easy to implement, but the longest common subsequence is AACTGG, so we did not really solve the problem. Before we move on though, let's modify our algorithm so it returns the alignment (i.e., with indels and mutations).\n",
    "\n",
    "**Exercise 2** Modify your solution to exercise 1 to return the alignment as two strings with \"-\" characters when there is a indel. Do not modify ``random_action`` as that is what the autograder is going to rely on you using. HINT: Just keep track of the strings before calling ``random_action``."
   ]
  },
  {
   "cell_type": "code",
   "execution_count": 23,
   "metadata": {
    "slideshow": {
     "slide_type": "subslide"
    }
   },
   "outputs": [
    {
     "name": "stdout",
     "output_type": "stream",
     "text": [
      "AACCTT-GG\n",
      "A-C-A-C--\n",
      "\n",
      "AACCT-TGG\n",
      "AC--ACTG-\n",
      "\n",
      "AAC-CTTGG\n",
      "A-CACTG--\n",
      "\n",
      "AACCTT-GG\n",
      "A-CA--CTG\n"
     ]
    }
   ],
   "source": [
    "def greedy_alignment(s1,s2,seed=0):\n",
    "    random.seed(seed)\n",
    "    s1_new = \"\"\n",
    "    s2_new = \"\"\n",
    "    return \"\\n\".join([s1_new,s2_new])\n",
    "\n",
    "\n",
    "print(greedy_alignment(\"AACCTTGG\",\"ACACTGTGA\",seed=0))\n",
    "print()\n",
    "print(greedy_alignment(\"AACCTTGG\",\"ACACTGTGA\",seed=100))\n",
    "print()\n",
    "print(greedy_alignment(\"AACCTTGG\",\"ACACTGTGA\",seed=1000))\n",
    "print()\n",
    "print(greedy_alignment(\"AACCTTGG\",\"ACACTGTGA\",seed=2000))"
   ]
  },
  {
   "cell_type": "markdown",
   "metadata": {
    "slideshow": {
     "slide_type": "subslide"
    }
   },
   "source": [
    "## Why do we have mismatches in our alignment? Why not just gaps?\n",
    "When consider both nucleotide sequences and amino acid sequences (different alphabets if you are a pure CS thinker), then sometimes you can achieve a better overall alignment if you allow for mismatches. In fact, some mismatches are actually neutral in certain ways when you consider their impact on the organism and its biology.\n",
    "\n",
    "**But how do we find the optimal solution which is by definition the longest common subsequence?** Let's not worry about that for a moment and remind ourselves of dynamic programming and recurrance relations."
   ]
  },
  {
   "cell_type": "markdown",
   "metadata": {
    "slideshow": {
     "slide_type": "slide"
    }
   },
   "source": [
    "I'll put you in breakout rooms. Watch this video and then take 5 minutes to come up with a list of questions comments. Share your document in csc448 channel on Slack. I'll ask for 3-5 volunteer groups (or call on folks).\n",
    "\n",
    "<a href=\"https://calpoly.zoom.us/rec/share/JJuZX1D7bafCY6c07TcoHrcsOU1qA1OZ2MtEsG3qjQafOWvZKPAplPUk0i4m3kZ2.AfbmDJm0Pn2EROgL\">Video from Dr. Davidson - Passcode: 7+bK*8Fv</a>"
   ]
  },
  {
   "cell_type": "markdown",
   "metadata": {
    "slideshow": {
     "slide_type": "slide"
    }
   },
   "source": [
    "# An Introduction to Dynamic Programming: The Change Problem\n",
    "\n",
    "**Change Problem:** Find the minimum number of coins needed to make change.\n",
    "\n",
    "Input: An integer ``money`` and an array ``coins`` of $d$ positive integers.\n",
    "\n",
    "Output: The minimum number of coins with denominations ``coins`` that changes ``money``."
   ]
  },
  {
   "cell_type": "markdown",
   "metadata": {
    "slideshow": {
     "slide_type": "subslide"
    }
   },
   "source": [
    "Consider the problem to change 76 cents in a country with only three denominations: ``coins=[6,5,1]``. A minimal colection of coins totaling 76 cents must be one of the following:\n",
    "* a minimal collection of coins totaling 75 cents, plus a 1-cent coin\n",
    "* a minimal collection of coins totaling 71 cents, plust a 5-cent coin\n",
    "* a minimal collection of coins totaling 70 cents, plus a 6-cent coin\n",
    "\n",
    "This illustrates a nice recurrence relation for us:\n",
    "$$\n",
    "\\mbox{MinNumCoins}(money) = min\n",
    "\\left\\{\n",
    "    \\begin{array}{l}\n",
    "      \\mbox{MinNumCoins}(money-coin_1) + 1\\\\\n",
    "      \\mbox{...}\\\\\n",
    "      \\mbox{MinNumCoins}(money-coin_d)+1\n",
    "    \\end{array}\n",
    "  \\right\\}\n",
    "$$"
   ]
  },
  {
   "cell_type": "markdown",
   "metadata": {
    "slideshow": {
     "slide_type": "subslide"
    }
   },
   "source": [
    "**Exercise 3** Solve the change problem using the recurance relation given above.\n",
    "\n",
    "Input: An integer ``money`` and an array ``coins`` of $d$ positive integers.\n",
    "\n",
    "Output: The minimum number of coins with denominations ``coins`` that changes ``money``."
   ]
  },
  {
   "cell_type": "code",
   "execution_count": 24,
   "metadata": {
    "slideshow": {
     "slide_type": "fragment"
    }
   },
   "outputs": [
    {
     "data": {
      "text/plain": [
       "5"
      ]
     },
     "execution_count": 24,
     "metadata": {},
     "output_type": "execute_result"
    }
   ],
   "source": [
    "import numpy as np\n",
    "\n",
    "def min_num_coins(money,coins):\n",
    "    min_coins = np.Inf\n",
    "    # YOUR SOLUTION HERE\n",
    "    return min_coins\n",
    "\n",
    "\n",
    "min_num_coins(27,[6,5,1])"
   ]
  },
  {
   "cell_type": "markdown",
   "metadata": {
    "slideshow": {
     "slide_type": "subslide"
    }
   },
   "source": [
    "## Let's time some results"
   ]
  },
  {
   "cell_type": "code",
   "execution_count": 25,
   "metadata": {
    "slideshow": {
     "slide_type": "fragment"
    }
   },
   "outputs": [
    {
     "name": "stdout",
     "output_type": "stream",
     "text": [
      "36.6 µs ± 122 ns per loop (mean ± std. dev. of 7 runs, 10000 loops each)\n"
     ]
    }
   ],
   "source": [
    "%%timeit\n",
    "min_num_coins(13,[6,5,1])"
   ]
  },
  {
   "cell_type": "code",
   "execution_count": 26,
   "metadata": {
    "slideshow": {
     "slide_type": "fragment"
    }
   },
   "outputs": [
    {
     "name": "stdout",
     "output_type": "stream",
     "text": [
      "4.96 ms ± 818 ns per loop (mean ± std. dev. of 7 runs, 100 loops each)\n"
     ]
    }
   ],
   "source": [
    "%%timeit\n",
    "min_num_coins(27,[6,5,1])"
   ]
  },
  {
   "cell_type": "code",
   "execution_count": 27,
   "metadata": {
    "slideshow": {
     "slide_type": "fragment"
    }
   },
   "outputs": [
    {
     "name": "stdout",
     "output_type": "stream",
     "text": [
      "81.8 ms ± 146 µs per loop (mean ± std. dev. of 7 runs, 10 loops each)\n"
     ]
    }
   ],
   "source": [
    "%%timeit\n",
    "min_num_coins(35,[6,5,1])"
   ]
  },
  {
   "cell_type": "code",
   "execution_count": null,
   "metadata": {
    "slideshow": {
     "slide_type": "fragment"
    }
   },
   "outputs": [],
   "source": [
    "%%timeit\n",
    "min_num_coins(47,[6,5,1])"
   ]
  },
  {
   "cell_type": "markdown",
   "metadata": {
    "slideshow": {
     "slide_type": "subslide"
    }
   },
   "source": [
    "That escalated quickly!"
   ]
  },
  {
   "cell_type": "code",
   "execution_count": null,
   "metadata": {
    "slideshow": {
     "slide_type": "fragment"
    }
   },
   "outputs": [],
   "source": [
    "%matplotlib inline\n",
    "import pandas as pd\n",
    "ax=pd.DataFrame({\"money\":[13,27,35,47],\"time\":[43.2e-6,5.59e-3,96.3e-3,6.24]}).plot.line(x=\"money\",y=\"time\")\n",
    "ax.set_xlabel('Money')\n",
    "ax.set_ylabel('Time');"
   ]
  },
  {
   "cell_type": "markdown",
   "metadata": {
    "slideshow": {
     "slide_type": "subslide"
    }
   },
   "source": [
    "## Is this efficient?\n",
    "Well. Of course not. It recomputes solutions to subproblems over and over again. We will solve this problem using dynamic programming. \n",
    "\n",
    "The book takes a practical approach to dynamic programming, but I would suggest everyone read this section at least on Dynamic programming (https://en.wikipedia.org/wiki/Dynamic_programming#Computer_programming). "
   ]
  },
  {
   "cell_type": "markdown",
   "metadata": {
    "slideshow": {
     "slide_type": "subslide"
    }
   },
   "source": [
    "## Bottom-up approach to coins problem\n",
    "Let's say you knew the following solution to the coins problem for money $\\le$ 12:"
   ]
  },
  {
   "cell_type": "code",
   "execution_count": null,
   "metadata": {
    "slideshow": {
     "slide_type": "fragment"
    }
   },
   "outputs": [],
   "source": [
    "pd.DataFrame({\"MinNumCoins(money)\":[0,1,2,3,1,1,2,3,2,2,2,3,3]},index=pd.Index([0,1,2,3,4,5,6,7,8,9,10,11,12],name=\"money\")).T"
   ]
  },
  {
   "cell_type": "markdown",
   "metadata": {
    "slideshow": {
     "slide_type": "subslide"
    }
   },
   "source": [
    "Could you easily compute MinNumCoins(13)? What about MinNumCoins(14)? Let's consider MinNumCoins(13). You only have three potential coins you could add at any given time: [6,5,1]. \n",
    "* You could try to add in a 6, which would mean that MinNumCoins(13) = MinNumCoins(13-6)+1 = MinNumCoins(7)+1 = 4. \n",
    "    * We subtract the 6 because we need to identify the optimal solution to the subproblem we need to examine. \n",
    "* We next try 5: MinNumCoins(13) = MinNumCoins(13-5)+1 = MinNumCoins(8)+1 = 3, which is our best solution so far.\n",
    "* We next try 1: MinNumCoins(13) = MinNumCoins(13-1)+1 = MinNumCoins(12)+1 = 4, which isn't as good.\n",
    "* We don't have anything else to try, so we know our answer is 3!\n",
    "* No recursion, and a simple thing to code up."
   ]
  },
  {
   "cell_type": "markdown",
   "metadata": {
    "slideshow": {
     "slide_type": "subslide"
    }
   },
   "source": [
    "**Exercise 4** Solve the change problem using a bottom-up dynamic programming strategy.\n",
    "\n",
    "Input: An integer ``money`` and an array ``coins`` of $d$ positive integers.\n",
    "\n",
    "Output: The minimum number of coins with denominations ``coins`` that changes ``money``."
   ]
  },
  {
   "cell_type": "code",
   "execution_count": null,
   "metadata": {
    "slideshow": {
     "slide_type": "fragment"
    }
   },
   "outputs": [],
   "source": [
    "def min_num_coins_dynamic(money,coins):\n",
    "    min_coins = {0:0} # Base case, no coins needed for no money\n",
    "    # YOUR SOLUTION HERE\n",
    "    return min_coins[m]\n",
    "\n",
    "\n",
    "min_num_coins_dynamic(27,[6,5,1])"
   ]
  },
  {
   "cell_type": "markdown",
   "metadata": {
    "slideshow": {
     "slide_type": "subslide"
    }
   },
   "source": [
    "Much better runtime!"
   ]
  },
  {
   "cell_type": "code",
   "execution_count": null,
   "metadata": {
    "slideshow": {
     "slide_type": "fragment"
    }
   },
   "outputs": [],
   "source": [
    "%%timeit\n",
    "min_num_coins_dynamic(47,[6,5,1])"
   ]
  },
  {
   "cell_type": "markdown",
   "metadata": {
    "slideshow": {
     "slide_type": "slide"
    }
   },
   "source": [
    "## Back to sequence alignment\n",
    "What is our recurence relation? Think top down. Remember our greedy actions that were available. We still only have those options available to us. For clarity, I've put our choices into a dataframe with some additional information including the part that would be added to the alignment for s1 and s2. The final column is the score that would be added to the total score."
   ]
  },
  {
   "cell_type": "code",
   "execution_count": null,
   "metadata": {
    "slideshow": {
     "slide_type": "fragment"
    }
   },
   "outputs": [],
   "source": [
    "s1 = \"ACGT\"\n",
    "s2 = \"AGCTA\"\n",
    "choices_df = pd.DataFrame({\"remainder(s1)\":[s1[1:],s1[1:],s1],\n",
    "              \"remainder(s2)\":[s2[1:],s2,s2[1:]],\n",
    "              \"s1_part\":[s1[0],s1[0],\"-\"],\n",
    "              \"s2_part\":[s2[0],\"-\",s2[0]],\n",
    "              \"score(s1_part,s2_part)\":[int(s1[0]==s2[0]),0,0]})\n",
    "choices_df"
   ]
  },
  {
   "cell_type": "code",
   "execution_count": null,
   "metadata": {
    "slideshow": {
     "slide_type": "subslide"
    }
   },
   "outputs": [],
   "source": [
    "s1 = \"GCGT\"\n",
    "s2 = \"AGCTA\"\n",
    "choices_df = pd.DataFrame({\"remainder(s1)\":[s1[1:],s1[1:],s1],\n",
    "              \"remainder(s2)\":[s2[1:],s2,s2[1:]],\n",
    "              \"s1_part\":[s1[0],s1[0],\"-\"],\n",
    "              \"s2_part\":[s2[0],\"-\",s2[0]],\n",
    "              \"score(s1_part,s2_part)\":[int(s1[0]==s2[0]),0,0]})\n",
    "choices_df"
   ]
  },
  {
   "cell_type": "markdown",
   "metadata": {
    "slideshow": {
     "slide_type": "subslide"
    }
   },
   "source": [
    "Now we can write our recurrance relationship for our specific example:\n",
    "\n",
    "$$\n",
    "align(\\mbox{ACGT},\\mbox{AGCTA}) = max\n",
    "\\left\\{\n",
    "    \\begin{array}{lll}\n",
    "      \\mbox{align}(\\mbox{CGT},\\mbox{GCTA}) & + & \\mbox{score}(\\mbox{A},\\mbox{A})\\\\\n",
    "      \\mbox{align}(\\mbox{CGT},\\mbox{AGCTA}) & + & \\mbox{score}(\\mbox{A},\\mbox{-})\\\\\n",
    "      \\mbox{align}(\\mbox{ACGT},\\mbox{GCTA}) & + & \\mbox{score}(\\mbox{-},\\mbox{A})\n",
    "    \\end{array}\n",
    "  \\right\\}\n",
    "$$\n",
    "General case:\n",
    "$$\n",
    "align(\\mbox{s1},\\mbox{s2}) = max\n",
    "\\left\\{\n",
    "    \\begin{array}{lll}\n",
    "      \\mbox{align}(\\mbox{s1[1:]},\\mbox{s2[1:]}) & + & \\mbox{score}(\\mbox{s1[0]},\\mbox{s2[0]})\\\\\n",
    "      \\mbox{align}(\\mbox{s1[1:]},\\mbox{s2}) & + & \\mbox{score}(\\mbox{s1[0]},\\mbox{-})\\\\\n",
    "      \\mbox{align}(\\mbox{s1},\\mbox{s2[1:]}) & + & \\mbox{score}(\\mbox{-},\\mbox{s2[0]})\n",
    "    \\end{array}\n",
    "  \\right\\}\n",
    "$$"
   ]
  },
  {
   "cell_type": "markdown",
   "metadata": {
    "slideshow": {
     "slide_type": "subslide"
    }
   },
   "source": [
    "**Exercise 5** Solve the longest common subsequence problem using the above recurrence relation\n",
    "\n",
    "Input: Two strings\n",
    "\n",
    "Output: A longest common subsequence of these strings represented as a tuple of a (score, aligned string 1, and aligned string 2).\n",
    "\n",
    "Suggestion: If you are struggling with the recursive solution, then proceed to the dynamic programming one and come back to this."
   ]
  },
  {
   "cell_type": "code",
   "execution_count": null,
   "metadata": {
    "slideshow": {
     "slide_type": "fragment"
    }
   },
   "outputs": [],
   "source": [
    "import pandas as pd\n",
    "import numpy as np\n",
    "def align(s1,s2):\n",
    "    # Below are the exact base cases that I want you to use\n",
    "    if len(s1) == 0:\n",
    "        aligned_s1 = \"\".join([\"-\" for i in range(len(s2))])\n",
    "        return 0,aligned_s1,s2\n",
    "    if len(s2) == 0: # no way to match\n",
    "        aligned_s2 = \"\".join([\"-\" for i in range(len(s1))])\n",
    "        return 0,s1,aligned_s2\n",
    "    \n",
    "    # You don't have to use my dataframe that helps with the choices, but ... I recommend it\n",
    "    choices_df = pd.DataFrame({\n",
    "        \"remainder(s1)\":[s1[1:],s1[1:],s1],\n",
    "        \"remainder(s2)\":[s2[1:],s2,s2[1:]],\n",
    "        \"s1_part\":[s1[0],s1[0],\"-\"],\n",
    "        \"s2_part\":[s2[0],\"-\",s2[0]],\n",
    "        \"score(s1_part,s2_part)\":[int(s1[0]==s2[0]),0,0]})\n",
    "    max_score = -np.Inf\n",
    "    aligned_s1 = None\n",
    "    aligned_s2 = None\n",
    "    for i,choice in choices_df.iterrows():\n",
    "        # here is how to get these values into base Python\n",
    "        rem_s1,rem_s2,s1_part,s2_part,score = choice.values\n",
    "        # YOUR SOLUTION HERE\n",
    "        # print(rem_s1,rem_s2)\n",
    "    return max_score,aligned_s1,aligned_s2\n",
    "\n",
    "\n",
    "score, aligned_s1, aligned_s2 = align(\"AACCT\",\"ACACTG\")\n",
    "print(score)\n",
    "print(aligned_s1)\n",
    "print(aligned_s2)"
   ]
  },
  {
   "cell_type": "markdown",
   "metadata": {
    "slideshow": {
     "slide_type": "subslide"
    }
   },
   "source": [
    "## What about a dynamic programming solution to the algorithm above?\n",
    "We can think about this the same way. We need a bottom-up approach for sequence alignment. What we need to understand the best is a good way to represent a partial solution. Consider the following matrix and what each cell might represent? What value would we like to know?"
   ]
  },
  {
   "cell_type": "code",
   "execution_count": null,
   "metadata": {
    "slideshow": {
     "slide_type": "fragment"
    }
   },
   "outputs": [],
   "source": [
    "s1,s2=\"AACCT\",\"ACACTG\"\n",
    "scores = pd.DataFrame(index=[\"-\"]+[s1[:i+1] for i in range(len(s1))],columns=[\"-\"]+[s2[:i+1] for i in range(len(s2))])\n",
    "scores"
   ]
  },
  {
   "cell_type": "markdown",
   "metadata": {
    "slideshow": {
     "slide_type": "subslide"
    }
   },
   "source": [
    "Let's now fill in some values that are obvious to us."
   ]
  },
  {
   "cell_type": "code",
   "execution_count": null,
   "metadata": {
    "slideshow": {
     "slide_type": "fragment"
    }
   },
   "outputs": [],
   "source": [
    "scores.loc[\"-\",\"-\"] = 0\n",
    "scores.loc[\"-\",\"A\"] = 0\n",
    "scores.loc[\"-\",\"AC\"] = 0\n",
    "# and so on... so let's do it automatically\n",
    "for s2_part in scores.columns:\n",
    "    scores.loc[\"-\",s2_part] = 0\n",
    "for s1_part in scores.index:\n",
    "    scores.loc[s1_part,\"-\"] = 0\n",
    "scores"
   ]
  },
  {
   "cell_type": "markdown",
   "metadata": {
    "slideshow": {
     "slide_type": "subslide"
    }
   },
   "source": [
    "Now how would you fill in scores.loc[\"A\",\"A\"]? Well... There are three options like always. These correspond to the three choices we always. We can match A to A which would obviously be good in this example. We could match the A in s1 to a gap '-' in s2. We could match A in s2 to a gap in s1. And those are our only options. If we fill out this table in a manner that moves from left to right and top to bottom, then we can figure out the max score without any issues."
   ]
  },
  {
   "cell_type": "markdown",
   "metadata": {
    "slideshow": {
     "slide_type": "subslide"
    }
   },
   "source": [
    "**Exercise 6** Solve the longest common subsequence problem using dynamic programming.\n",
    "\n",
    "Input: Two strings\n",
    "\n",
    "Output: The length of the longest common subsequence of these strings."
   ]
  },
  {
   "cell_type": "code",
   "execution_count": null,
   "metadata": {
    "slideshow": {
     "slide_type": "subslide"
    }
   },
   "outputs": [],
   "source": [
    "def align_dynamic(s1,s2):\n",
    "    scores = pd.DataFrame(index=[\"-\"]+[s1[:i+1] for i in range(len(s1))],columns=[\"-\"]+[s2[:i+1] for i in range(len(s2))])\n",
    "    for s2_part in scores.columns:\n",
    "        scores.loc[\"-\",s2_part] = 0\n",
    "    for s1_part in scores.index:\n",
    "        scores.loc[s1_part,\"-\"] = 0\n",
    "    \n",
    "    nrows,ncols = scores.shape\n",
    "    for i in range(1,nrows):\n",
    "        for j in range(1,ncols):\n",
    "            # What are our three options\n",
    "            opt1_s1 = scores.index[i-1] # remember the rows are representative of s1\n",
    "            opt1_s2 = scores.columns[j-1] # remember the columns are representative of s2\n",
    "            score_opt1 = -np.Inf # FIX THIS!\n",
    "            \n",
    "            opt2_s1 = scores.index[i-1]\n",
    "            opt2_s2 = scores.columns[j]\n",
    "            score_opt2 = -np.Inf # FIT THIS!\n",
    "            \n",
    "            opt3_s1 = scores.index[i]\n",
    "            opt3_s2 = scores.columns[j-1]\n",
    "            score_opt3 = -np.Inf # FIT THIS!\n",
    "            \n",
    "            scores.loc[scores.index[i],scores.columns[j]] = max(score_opt1,score_opt2,score_opt3)\n",
    "            \n",
    "    return scores.loc[s1,s2]\n",
    "\n",
    "\n",
    "score = align_dynamic(\"AACCT\",\"ACACTG\")\n",
    "score"
   ]
  },
  {
   "cell_type": "markdown",
   "metadata": {
    "slideshow": {
     "slide_type": "subslide"
    }
   },
   "source": [
    "We did it! Sort of... We don't know the alignment. Only the score. We need to add this history to our algorithm.\n",
    "\n",
    "**Exercise 7** Solve the longest common subsequence problem using dynamic programming.\n",
    "\n",
    "Input: Two strings\n",
    "\n",
    "Output: A longest common subsequence of these strings represented as a tuple of a (score, aligned string 1, and aligned string 2)."
   ]
  },
  {
   "cell_type": "code",
   "execution_count": null,
   "metadata": {
    "slideshow": {
     "slide_type": "subslide"
    }
   },
   "outputs": [],
   "source": [
    "def align_dynamic2(s1,s2,verbose=False):\n",
    "    scores = pd.DataFrame(index=[\"-\"]+[s1[:i+1] for i in range(len(s1))],columns=[\"-\"]+[s2[:i+1] for i in range(len(s2))])\n",
    "    aligned = pd.DataFrame(index=[\"-\"]+[s1[:i+1] for i in range(len(s1))],columns=[\"-\"]+[s2[:i+1] for i in range(len(s2))])\n",
    "    for s2_part in scores.columns:\n",
    "        scores.loc[\"-\",s2_part] = 0\n",
    "        if s2_part == \"-\":\n",
    "            aligned.loc[\"-\",\"-\"] = (\"\",\"\")\n",
    "        else:\n",
    "            aligned.loc[\"-\",s2_part] = (\"\".join([\"-\" for i in range(len(s2_part))]),s2_part)\n",
    "    for s1_part in scores.index:\n",
    "        scores.loc[s1_part,\"-\"] = 0\n",
    "        if s1_part == \"-\":\n",
    "            aligned.loc[\"-\",\"-\"] = (\"\",\"\")\n",
    "        else:\n",
    "            aligned.loc[s1_part,\"-\"] = (s1_part,\"\".join([\"-\" for i in range(len(s1_part))]))\n",
    "    if verbose:\n",
    "        display(aligned)\n",
    "    \n",
    "    nrows,ncols = scores.shape\n",
    "    for i in range(1,nrows):\n",
    "        for j in range(1,ncols):\n",
    "            # What are our three options\n",
    "            opt1_s1 = scores.index[i-1] # remember the rows are representative of s1\n",
    "            opt1_s2 = scores.columns[j-1] # remember the columns are representative of s2\n",
    "            score_opt1 = -np.Inf # FIX THIS!\n",
    "            s1_aligned_opt1 = \"\" # FIX THIS!\n",
    "            s2_aligned_opt1 = \"\" # FIX THIS!\n",
    "            \n",
    "            opt2_s1 = scores.index[i-1]\n",
    "            opt2_s2 = scores.columns[j]\n",
    "            score_opt2 = -np.Inf # FIT THIS!\n",
    "            s1_aligned_opt2 = \"\" # FIX THIS!\n",
    "            s2_aligned_opt2 = \"\" # FIX THIS!\n",
    "            \n",
    "            opt3_s1 = scores.index[i]\n",
    "            opt3_s2 = scores.columns[j-1]\n",
    "            score_opt3 = -np.Inf # FIT THIS!\n",
    "            s1_aligned_opt3 = \"\" # FIX THIS!\n",
    "            s2_aligned_opt3 = \"\" # FIX THIS!\n",
    "            \n",
    "            scores.loc[scores.index[i],scores.columns[j]] = max(score_opt1,score_opt2,score_opt3)\n",
    "            if max(score_opt1,score_opt2,score_opt3) == score_opt1:\n",
    "                aligned.loc[scores.index[i],scores.columns[j]] = (s1_aligned_opt1,s2_aligned_opt1)\n",
    "            elif max(score_opt1,score_opt2,score_opt3) == score_opt2:\n",
    "                aligned.loc[scores.index[i],scores.columns[j]] = (s1_aligned_opt2,s2_aligned_opt2)\n",
    "            else:\n",
    "                aligned.loc[scores.index[i],scores.columns[j]] = (s1_aligned_opt3,s2_aligned_opt3)\n",
    "    if verbose:\n",
    "        display(scores)\n",
    "        display(aligned)\n",
    "    return scores.loc[s1,s2],aligned.loc[s1,s2][0],aligned.loc[s1,s2][1]\n",
    "\n",
    "\n",
    "score,s1_aligned,s2_aligned = align_dynamic2(\"AACCT\",\"ACACTG\")\n",
    "print(score)\n",
    "print(s1_aligned)\n",
    "print(s2_aligned)"
   ]
  },
  {
   "cell_type": "markdown",
   "metadata": {
    "slideshow": {
     "slide_type": "subslide"
    }
   },
   "source": [
    "<img src=\"https://upload.wikimedia.org/wikipedia/commons/thumb/0/02/BLOSUM62.png/400px-BLOSUM62.png\" width=800>"
   ]
  },
  {
   "cell_type": "code",
   "execution_count": null,
   "metadata": {
    "slideshow": {
     "slide_type": "skip"
    }
   },
   "outputs": [],
   "source": [
    "# Don't forget to push!"
   ]
  },
  {
   "cell_type": "code",
   "execution_count": null,
   "metadata": {},
   "outputs": [],
   "source": []
  }
 ],
 "metadata": {
  "celltoolbar": "Slideshow",
  "jupytext": {
   "formats": "ipynb,md,py"
  },
  "kernelspec": {
   "display_name": "Python 3",
   "language": "python",
   "name": "python3"
  },
  "language_info": {
   "codemirror_mode": {
    "name": "ipython",
    "version": 3
   },
   "file_extension": ".py",
   "mimetype": "text/x-python",
   "name": "python",
   "nbconvert_exporter": "python",
   "pygments_lexer": "ipython3",
   "version": "3.7.3"
  }
 },
 "nbformat": 4,
 "nbformat_minor": 4
}
