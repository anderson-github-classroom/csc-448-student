{
 "cells": [
  {
   "cell_type": "markdown",
   "metadata": {
    "slideshow": {
     "slide_type": "slide"
    }
   },
   "source": [
    "# Lab 3 - Genome Assembly\n",
    "## Graph Algorithms\n",
    "Material and embedded lab.\n",
    "\n",
    "Motivation and some exercises are variations on those available in Bioinformatics Algorithms: An Active-Learning Approach by Phillip Compeau & Pavel Pevzner."
   ]
  },
  {
   "cell_type": "code",
   "execution_count": 1,
   "metadata": {
    "slideshow": {
     "slide_type": "skip"
    }
   },
   "outputs": [
    {
     "data": {
      "text/plain": [
       "['../tests/answers_Lab3.joblib']"
      ]
     },
     "execution_count": 1,
     "metadata": {},
     "output_type": "execute_result"
    }
   ],
   "source": [
   ]
  },
  {
   "cell_type": "markdown",
   "metadata": {
    "slideshow": {
     "slide_type": "slide"
    }
   },
   "source": [
    "# History and motivation"
   ]
  },
  {
   "cell_type": "markdown",
   "metadata": {
    "slideshow": {
     "slide_type": "subslide"
    }
   },
   "source": [
    "## Why do we sequence different species?\n",
    "\n",
    "<table>\n",
    "    <tr>\n",
    "                <td><img src=\"https://www.akcchf.org/assets/images/Dog-Genome-Nature.jpg\"></td>\n",
    "                <td><img src=\"http://www.scienceagainstevolution.org/images/v10i1g1.jpg\" width=300></td>\n",
    "                <td><img src=\"https://www.ncbi.nlm.nih.gov/genome/guide/bee/cover_nature.jpg\"></td>\n",
    "    </tr>\n",
    "    </table>\n",
    "Many applications in medicine, agriculture, biotechnology, etc begin with a sequenced and annotated genome."
   ]
  },
  {
   "cell_type": "markdown",
   "metadata": {
    "slideshow": {
     "slide_type": "subslide"
    }
   },
   "source": [
    "## Brief History of Genome Sequencing\n",
    "* 1977 - Walter Gilbert and Frederick Sanger develop independent DNA sequencing methods.\n",
    "* 1980 - They share the Nobel Prize.\n",
    "* Sequencing methods were too expensive ($3 billion to sequence the human genome)"
   ]
  },
  {
   "cell_type": "markdown",
   "metadata": {
    "slideshow": {
     "slide_type": "subslide"
    }
   },
   "source": [
    "## The Race to Sequence the Human Genome\n",
    "* 1990 - The public Human Genome Project, headed by Francis Collins, aims to sequence the human genome by 2005.\n",
    "* 1997 - Craig Venter founds Celera Genomics, a private firm with the same goal :)\n",
    "* Genome become available 5 years early in 2000"
   ]
  },
  {
   "cell_type": "markdown",
   "metadata": {
    "slideshow": {
     "slide_type": "subslide"
    }
   },
   "source": [
    "<img src=\"https://thumbs-prod.si-cdn.com/CZYSL1uFzN85JMfOk1XBKFSA9uI=/fit-in/1600x0/https://public-media.si-cdn.com/filer/f5/45/f545637b-13e4-42a8-927b-a1f59d326e0b/biogenome.jpg\">"
   ]
  },
  {
   "cell_type": "markdown",
   "metadata": {
    "slideshow": {
     "slide_type": "slide"
    }
   },
   "source": [
    "# Exploding Newspapers"
   ]
  },
  {
   "cell_type": "markdown",
   "metadata": {
    "slideshow": {
     "slide_type": "subslide"
    }
   },
   "source": [
    "## Consider a silly example\n",
    "<img src=\"http://bioinformaticsalgorithms.com/images/Assembly/newspaper_blowup.png\">"
   ]
  },
  {
   "cell_type": "markdown",
   "metadata": {
    "slideshow": {
     "slide_type": "notes"
    }
   },
   "source": [
    "\"Imagine that we stack a hundred copies of the June 27, 2000 edition of the New York Times on a pile of dynamite, and then we light the fuse. We ask you to further suspend your disbelief and assume that the newspapers are not all incinerated but instead explode cartoonishly into smoldering pieces of confetti. How could we use the tiny snippets of newspaper to figure out what the news was on June 27, 2000? We will call this crazy conundrum the Newspaper Problem.\" - Bioinformatics Chapter 3"
   ]
  },
  {
   "cell_type": "markdown",
   "metadata": {
    "slideshow": {
     "slide_type": "subslide"
    }
   },
   "source": [
    "<img src=\"http://bioinformaticsalgorithms.com/images/Assembly/overlapping_newspaper.png\" width=400>\n",
    "\n",
    "Use overlapping shreds of paper to figure out the news.\n",
    "\n",
    "\"Fine, you ask, but what do exploding newspapers have to do with biology? Determining the order of nucleotides in a genome, or genome sequencing, presents a fundamental task in bioinformatics. Genomes vary in length; your own genome is roughly 3 billion nucleotides long, whereas the genome of Amoeba dubia, an amorphous unicellular organism, is approximately 200 times longer! This unicellular organism competes with the rare Japanese flower Paris japonica for the title of species with the longest genome.\" - Bioinformatics Algorithms, Chapter 3."
   ]
  },
  {
   "cell_type": "markdown",
   "metadata": {
    "slideshow": {
     "slide_type": "subslide"
    }
   },
   "source": [
    "## Traditional Method for Genome Sequencing\n",
    "\n",
    "<img src=\"http://bioinformaticsalgorithms.com/images/Assembly/sequencing_overview.png\">"
   ]
  },
  {
   "attachments": {},
   "cell_type": "markdown",
   "metadata": {
    "slideshow": {
     "slide_type": "subslide"
    }
   },
   "source": [
    "## What makes genome sequencing difficult?\n",
    "* Modern sequencing machines cannot read an entire genome one nucleotide at a time from beginning to end (like we read a book)\n",
    "* They can only shred the genome and generate short  reads (though we can now mix longer reads with these shorter reads)\n",
    "* The genome assembly is not the same as a jigsaw puzzle: we must use overlapping reads to reconstruct the genome, a  giant overlap puzzle!"
   ]
  },
  {
   "cell_type": "markdown",
   "metadata": {
    "slideshow": {
     "slide_type": "slide"
    }
   },
   "source": [
    "## Into the language of computer scientists: String Reconstruction Problem"
   ]
  },
  {
   "cell_type": "markdown",
   "metadata": {
    "slideshow": {
     "slide_type": "subslide"
    }
   },
   "source": [
    "**Exercise 1** String composition problem: Generate the k-mer composition of a string.\n",
    "    \n",
    "Input: An integer $k$ and a string $text$.\n",
    "\n",
    "Output: The lexicographic ordered collection of all k-mer substrings in text (including repeated k-mers) ``composition(k,text)``, where the k-mers are arranged in lexicographic order.\n",
    "\n",
    "Example: ``composition(3,TATGGGGTGC)`` => [ATG, GGG, GGG, GGT, GTG, TAT, TGC, TGG]. Notice how there are two entries for GGG, so we keep duplicates.\n",
    "\n",
    "Learning objective: Build up the skills and vocabulary we need to solve the reconstruction problem."
   ]
  },
  {
   "cell_type": "code",
   "execution_count": 2,
   "metadata": {
    "slideshow": {
     "slide_type": "subslide"
    }
   },
   "outputs": [
    {
     "data": {
      "text/plain": [
       "['ATG', 'GGG', 'GGG', 'GGT', 'GTG', 'TAT', 'TGC', 'TGG']"
      ]
     },
     "execution_count": 2,
     "metadata": {},
     "output_type": "execute_result"
    }
   ],
   "source": [
    "def composition(k,text):\n",
    "    patterns = []\n",
    "    # YOUR SOLUTION HERE\n",
    "    return patterns\n",
    "\n",
    "composition(3,\"TATGGGGTGC\")"
   ]
  },
  {
   "cell_type": "markdown",
   "metadata": {
    "slideshow": {
     "slide_type": "subslide"
    }
   },
   "source": [
    "Well that's great and pretty straightfoward, but we need to solve the inverse problem...\n",
    "\n",
    "String Reconstruction Problem: Reconstruct a string from its k-mer composition.\n",
    "\n",
    "Input: An integer $k$ and a collection ``patterns`` of $k$-mers\n",
    "\n",
    "Output: A string ``text`` with $k$-mer composition equal to ``patterns`` if such a string exists."
   ]
  },
  {
   "cell_type": "markdown",
   "metadata": {
    "slideshow": {
     "slide_type": "subslide"
    }
   },
   "source": [
    "### Easy string reconstruction problem first\n",
    "Consider ``patterns`` = [AAT ATG GTT TAA TGT]\n",
    "\n",
    "Most straightfoward way to solve this is to \"connect\" a pair of $k$-mers if they overlap in $k$-1 symbols. Where should we start? Let's start with ``TAA`` because there is no 3-mer ending in ``TA``. The next $k$-mer has to be ``AAT`` because it is the only one that satisfies. We can continue with this pattern easily for this example:\n",
    "<pre>\n",
    "TAA    \n",
    " AAT   \n",
    "  ATG  \n",
    "   TGT \n",
    "    GTT\n",
    "TAATGTT\n",
    "</pre>\n",
    "Nice! We did it, so time to move on to another chapter..."
   ]
  },
  {
   "cell_type": "markdown",
   "metadata": {
    "slideshow": {
     "slide_type": "subslide"
    }
   },
   "source": [
    "### A harder string reconstruction problem\n",
    "\n",
    "AAT  ATG  ATG  ATG  CAT  CCA  GAT  GCC  GGA  GGG  GTT  TAA  TGC  TGG  TGT\n",
    "\n",
    "Let's start with ``TAA`` again:\n",
    "<pre>\n",
    "TAA  \n",
    " AAT \n",
    "  ATG\n",
    "</pre>\n",
    "So far so good! Let's try to continue. ``ATG`` can be extended by either ``TGC`` or ``TGG`` or ``TGT``. How do we choose? In other words, how good are you at chess because we need to be able to look ahead. For now, let's choose ``TGT``."
   ]
  },
  {
   "cell_type": "markdown",
   "metadata": {
    "slideshow": {
     "slide_type": "subslide"
    }
   },
   "source": [
    "After we choose ``TGT`` our only choose is ``GTT`` so we get:\n",
    "<pre>\n",
    "TAA   \n",
    " AAT  \n",
    "  ATG \n",
    "   TGT\n",
    "    GTT\n",
    "</pre>\n",
    "But we are now stuck! There is nothing that matches :(\n",
    "\n",
    "If you are good at looking ahead you could have extended ``ATG`` by ``TGC`` instead.\n"
   ]
  },
  {
   "cell_type": "markdown",
   "metadata": {
    "slideshow": {
     "slide_type": "subslide"
    }
   },
   "source": [
    "If we make that change, then we obtain the following assembly:\n",
    "<pre>\n",
    "TAA             \n",
    " AAT            \n",
    "  ATG           \n",
    "   TGC          \n",
    "    GCC         \n",
    "     CCA        \n",
    "      CAT       \n",
    "       ATG      \n",
    "        TGG     \n",
    "         GGA    \n",
    "          GAT   \n",
    "           ATG  \n",
    "            TGT \n",
    "             GTT\n",
    "TAATGCCATGGATGTT\n",
    "</pre>"
   ]
  },
  {
   "cell_type": "markdown",
   "metadata": {
    "slideshow": {
     "slide_type": "subslide"
    }
   },
   "source": [
    "## So what was the problem?\n",
    "Repeats complicate genome assembly!\n",
    "\n",
    "Our previous problem came from the fact that ``ATG`` is repeated three times which causes us to have the three choices by which to extend ``ATG``. This doesn't pose too much of a problem for small examples, but consider having this happen when we have millions of reads!"
   ]
  },
  {
   "cell_type": "markdown",
   "metadata": {
    "slideshow": {
     "slide_type": "slide"
    }
   },
   "source": [
    "## String Reconstruction: A reverse approach/order from the book\n",
    "The book builds up from walking overlap graphs to an *Algorithm for Finding Eulerian Cycles* (wait what are those words!).\n",
    "\n",
    "We are going to work our way backwards because it is a good thing to have different complementary approaches. Please please read the book and listen to the textbook online lectures.\n",
    "\n",
    "Our big goal is the following..."
   ]
  },
  {
   "cell_type": "markdown",
   "metadata": {
    "slideshow": {
     "slide_type": "subslide"
    }
   },
   "source": [
    "**Solve the string reconstruction problem** using the algorithm for finding Eulerian Cycles. Our approach is as follows:\n",
    "<pre>\n",
    "def string_reconstruction(patterns):\n",
    "    dB = de_bruijn(patterns)\n",
    "    path = eulerian_path(dB)\n",
    "    text = path_to_genome(path)\n",
    "    return text\n",
    "</pre>"
   ]
  },
  {
   "cell_type": "markdown",
   "metadata": {
    "slideshow": {
     "slide_type": "subslide"
    }
   },
   "source": [
    "## Constructing de Bruijn graphs from $k$-mer composition\n",
    "Given a collection of $k$-mers Patterns, the nodes of de_bruijn(k,patterns) are simply all unique (k−1)-mers occurring as a prefix or suffix in Patterns. For example, say we are given the following collection of 3-mers:\n",
    "<pre>\n",
    "AAT   ATG   ATG   ATG    CAT   CCA   GAT   GCC   GGA   GGG   GTT   TAA   TGC   TGG   TGT\n",
    "</pre>\n",
    "Then the set of eleven unique 2-mers is:\n",
    "<pre>\n",
    "AA   AT   CA   CC   GA   GC   GG   GT   TA   TG   TT\n",
    "</pre>"
   ]
  },
  {
   "cell_type": "markdown",
   "metadata": {
    "slideshow": {
     "slide_type": "subslide"
    }
   },
   "source": [
    "For every $k$-mer in ``patterns`` we will connect its prefix node to its suffix node by a directed edge in order to produce our final graph.\n",
    "\n",
    "<img src=\"http://bioinformaticsalgorithms.com/images/Assembly/debruijn_graph_alternate_rendering.png\">"
   ]
  },
  {
   "cell_type": "markdown",
   "metadata": {
    "slideshow": {
     "slide_type": "subslide"
    }
   },
   "source": [
    "**Exercise 2** Construct the de Bruijn graph from a set of k-mers.\n",
    "\n",
    "Input: a collection of $k$-mers ``patterns``.\n",
    "\n",
    "Output: NetworkX directed graph that corresponds to the adjacency list of the de Bruijn graph. \n",
    "\n",
    "Now that you know how to use ``networkx``... use it to make your life easier for representing your graph."
   ]
  },
  {
   "cell_type": "code",
   "execution_count": 3,
   "metadata": {
    "slideshow": {
     "slide_type": "skip"
    }
   },
   "outputs": [],
   "source": [
    "# Just code to help you out here\n",
    "%matplotlib inline\n",
    "\n",
    "import networkx as nx\n",
    "import pandas as pd\n",
    "import copy\n",
    "from collections import Counter\n",
    "\n",
    "def to_adj(T):\n",
    "    return pd.DataFrame(nx.adjacency_matrix(T).todense(),index=T.nodes(),columns=T.nodes())\n",
    "\n",
    "def show(T):\n",
    "    T = copy.deepcopy(T)\n",
    "    width_dict = Counter(T.edges())\n",
    "    edge_width = [ (u, v, {'width': value}) \n",
    "                  for ((u, v), value) in width_dict.items()]\n",
    "    \n",
    "    G_new = nx.DiGraph()\n",
    "    G_new.add_edges_from(edge_width)\n",
    "    pos=nx.kamada_kawai_layout(G_new)\n",
    "    #pos=nx.spring_layout(G_new)\n",
    "    nx.draw(G_new, pos)\n",
    "    edge_labels=dict([((u,v,),d['width'])\n",
    "                 for u,v,d in G_new.edges(data=True)])\n",
    "    \n",
    "    nx.draw(G_new,pos,with_labels=True)\n",
    "    nx.draw_networkx_edges(G_new, pos=pos)\n",
    "    nx.draw_networkx_edge_labels(G_new, pos, edge_labels=edge_labels,\n",
    "                                 label_pos=0.55, font_size=10)"
   ]
  },
  {
   "cell_type": "code",
   "execution_count": 4,
   "metadata": {
    "slideshow": {
     "slide_type": "subslide"
    }
   },
   "outputs": [
    {
     "name": "stderr",
     "output_type": "stream",
     "text": [
      "/Users/panderson/opt/anaconda3/lib/python3.7/site-packages/networkx/drawing/nx_pylab.py:579: MatplotlibDeprecationWarning: \n",
      "The iterable function was deprecated in Matplotlib 3.1 and will be removed in 3.3. Use np.iterable instead.\n",
      "  if not cb.iterable(width):\n",
      "/Users/panderson/opt/anaconda3/lib/python3.7/site-packages/networkx/drawing/nx_pylab.py:676: MatplotlibDeprecationWarning: \n",
      "The iterable function was deprecated in Matplotlib 3.1 and will be removed in 3.3. Use np.iterable instead.\n",
      "  if cb.iterable(node_size):  # many node sizes\n"
     ]
    },
    {
     "data": {
      "image/png": "[encoded data removed]",
      "text/plain": [
       "<Figure size 432x288 with 1 Axes>"
      ]
     },
     "metadata": {},
     "output_type": "display_data"
    }
   ],
   "source": [
    "def de_bruijn(patterns):\n",
    "    dB = nx.MultiDiGraph()\n",
    "    # dB.add_edge(\"AA\",\"AT\") # sample edge in case you want to run the code without implementing your solution\n",
    "    # YOUR SOLUTION HERE\n",
    "    return dB\n",
    "\n",
    "dB = de_bruijn([\"AAT\",\"ATG\",\"ATG\",\"ATG\",\"CAT\",\"CCA\",\"GAT\",\"GCC\",\"GGA\",\"GGG\",\"GTT\",\"TAA\",\"TGC\",\"TGG\",\"TGT\"])\n",
    "show(dB)"
   ]
  },
  {
   "cell_type": "code",
   "execution_count": 5,
   "metadata": {
    "slideshow": {
     "slide_type": "subslide"
    }
   },
   "outputs": [
    {
     "data": {
      "text/html": [
       "<div>\n",
       "<style scoped>\n",
       "    .dataframe tbody tr th:only-of-type {\n",
       "        vertical-align: middle;\n",
       "    }\n",
       "\n",
       "    .dataframe tbody tr th {\n",
       "        vertical-align: top;\n",
       "    }\n",
       "\n",
       "    .dataframe thead th {\n",
       "        text-align: right;\n",
       "    }\n",
       "</style>\n",
       "<table border=\"1\" class=\"dataframe\">\n",
       "  <thead>\n",
       "    <tr style=\"text-align: right;\">\n",
       "      <th></th>\n",
       "      <th>AA</th>\n",
       "      <th>AT</th>\n",
       "      <th>TG</th>\n",
       "      <th>CA</th>\n",
       "      <th>CC</th>\n",
       "      <th>GA</th>\n",
       "      <th>GC</th>\n",
       "      <th>GG</th>\n",
       "      <th>GT</th>\n",
       "      <th>TT</th>\n",
       "      <th>TA</th>\n",
       "    </tr>\n",
       "  </thead>\n",
       "  <tbody>\n",
       "    <tr>\n",
       "      <td>AA</td>\n",
       "      <td>0</td>\n",
       "      <td>1</td>\n",
       "      <td>0</td>\n",
       "      <td>0</td>\n",
       "      <td>0</td>\n",
       "      <td>0</td>\n",
       "      <td>0</td>\n",
       "      <td>0</td>\n",
       "      <td>0</td>\n",
       "      <td>0</td>\n",
       "      <td>0</td>\n",
       "    </tr>\n",
       "    <tr>\n",
       "      <td>AT</td>\n",
       "      <td>0</td>\n",
       "      <td>0</td>\n",
       "      <td>3</td>\n",
       "      <td>0</td>\n",
       "      <td>0</td>\n",
       "      <td>0</td>\n",
       "      <td>0</td>\n",
       "      <td>0</td>\n",
       "      <td>0</td>\n",
       "      <td>0</td>\n",
       "      <td>0</td>\n",
       "    </tr>\n",
       "    <tr>\n",
       "      <td>TG</td>\n",
       "      <td>0</td>\n",
       "      <td>0</td>\n",
       "      <td>0</td>\n",
       "      <td>0</td>\n",
       "      <td>0</td>\n",
       "      <td>0</td>\n",
       "      <td>1</td>\n",
       "      <td>1</td>\n",
       "      <td>1</td>\n",
       "      <td>0</td>\n",
       "      <td>0</td>\n",
       "    </tr>\n",
       "    <tr>\n",
       "      <td>CA</td>\n",
       "      <td>0</td>\n",
       "      <td>1</td>\n",
       "      <td>0</td>\n",
       "      <td>0</td>\n",
       "      <td>0</td>\n",
       "      <td>0</td>\n",
       "      <td>0</td>\n",
       "      <td>0</td>\n",
       "      <td>0</td>\n",
       "      <td>0</td>\n",
       "      <td>0</td>\n",
       "    </tr>\n",
       "    <tr>\n",
       "      <td>CC</td>\n",
       "      <td>0</td>\n",
       "      <td>0</td>\n",
       "      <td>0</td>\n",
       "      <td>1</td>\n",
       "      <td>0</td>\n",
       "      <td>0</td>\n",
       "      <td>0</td>\n",
       "      <td>0</td>\n",
       "      <td>0</td>\n",
       "      <td>0</td>\n",
       "      <td>0</td>\n",
       "    </tr>\n",
       "    <tr>\n",
       "      <td>GA</td>\n",
       "      <td>0</td>\n",
       "      <td>1</td>\n",
       "      <td>0</td>\n",
       "      <td>0</td>\n",
       "      <td>0</td>\n",
       "      <td>0</td>\n",
       "      <td>0</td>\n",
       "      <td>0</td>\n",
       "      <td>0</td>\n",
       "      <td>0</td>\n",
       "      <td>0</td>\n",
       "    </tr>\n",
       "    <tr>\n",
       "      <td>GC</td>\n",
       "      <td>0</td>\n",
       "      <td>0</td>\n",
       "      <td>0</td>\n",
       "      <td>0</td>\n",
       "      <td>1</td>\n",
       "      <td>0</td>\n",
       "      <td>0</td>\n",
       "      <td>0</td>\n",
       "      <td>0</td>\n",
       "      <td>0</td>\n",
       "      <td>0</td>\n",
       "    </tr>\n",
       "    <tr>\n",
       "      <td>GG</td>\n",
       "      <td>0</td>\n",
       "      <td>0</td>\n",
       "      <td>0</td>\n",
       "      <td>0</td>\n",
       "      <td>0</td>\n",
       "      <td>1</td>\n",
       "      <td>0</td>\n",
       "      <td>1</td>\n",
       "      <td>0</td>\n",
       "      <td>0</td>\n",
       "      <td>0</td>\n",
       "    </tr>\n",
       "    <tr>\n",
       "      <td>GT</td>\n",
       "      <td>0</td>\n",
       "      <td>0</td>\n",
       "      <td>0</td>\n",
       "      <td>0</td>\n",
       "      <td>0</td>\n",
       "      <td>0</td>\n",
       "      <td>0</td>\n",
       "      <td>0</td>\n",
       "      <td>0</td>\n",
       "      <td>1</td>\n",
       "      <td>0</td>\n",
       "    </tr>\n",
       "    <tr>\n",
       "      <td>TT</td>\n",
       "      <td>0</td>\n",
       "      <td>0</td>\n",
       "      <td>0</td>\n",
       "      <td>0</td>\n",
       "      <td>0</td>\n",
       "      <td>0</td>\n",
       "      <td>0</td>\n",
       "      <td>0</td>\n",
       "      <td>0</td>\n",
       "      <td>0</td>\n",
       "      <td>0</td>\n",
       "    </tr>\n",
       "    <tr>\n",
       "      <td>TA</td>\n",
       "      <td>1</td>\n",
       "      <td>0</td>\n",
       "      <td>0</td>\n",
       "      <td>0</td>\n",
       "      <td>0</td>\n",
       "      <td>0</td>\n",
       "      <td>0</td>\n",
       "      <td>0</td>\n",
       "      <td>0</td>\n",
       "      <td>0</td>\n",
       "      <td>0</td>\n",
       "    </tr>\n",
       "  </tbody>\n",
       "</table>\n",
       "</div>"
      ],
      "text/plain": [
       "    AA  AT  TG  CA  CC  GA  GC  GG  GT  TT  TA\n",
       "AA   0   1   0   0   0   0   0   0   0   0   0\n",
       "AT   0   0   3   0   0   0   0   0   0   0   0\n",
       "TG   0   0   0   0   0   0   1   1   1   0   0\n",
       "CA   0   1   0   0   0   0   0   0   0   0   0\n",
       "CC   0   0   0   1   0   0   0   0   0   0   0\n",
       "GA   0   1   0   0   0   0   0   0   0   0   0\n",
       "GC   0   0   0   0   1   0   0   0   0   0   0\n",
       "GG   0   0   0   0   0   1   0   1   0   0   0\n",
       "GT   0   0   0   0   0   0   0   0   0   1   0\n",
       "TT   0   0   0   0   0   0   0   0   0   0   0\n",
       "TA   1   0   0   0   0   0   0   0   0   0   0"
      ]
     },
     "execution_count": 5,
     "metadata": {},
     "output_type": "execute_result"
    }
   ],
   "source": [
    "to_adj(dB)"
   ]
  },
  {
   "cell_type": "markdown",
   "metadata": {
    "slideshow": {
     "slide_type": "subslide"
    }
   },
   "source": [
    "We now have step 1 completed. The next step is to find the Eulerian path, but we will start by talking about and finding Eulerian cycles. More undefined words! Don't forget. For a different bottom up approach (we are taking top down in this lab), then see the textbook. \n",
    "\n",
    "A Eulerian path is a path in a graph traversing each edge of a graph exactly once. A cycle that traverses each edge of a graph exactly once is called an Eulerian cycle.\n",
    "\n",
    "The book works in a lot more detail, but if we assume an arbitrary directed graph is balanced (in-degree of each node is equal to out-degree) and it is strongly connected, then we can find the Eulerian cycle by just walking around! We just need to make sure we always leave out of a different edge.\n"
   ]
  },
  {
   "cell_type": "markdown",
   "metadata": {
    "slideshow": {
     "slide_type": "subslide"
    }
   },
   "source": [
    "**Exercise 3** Given a Eulerian directed graph, find the Eulerian cycle.\n",
    "\n",
    "Given: An Eulerian directed graph, in the form of a MultiDiGraph networkx object.\n",
    "\n",
    "Return: An Eulerian cycle in this graph returned as a list."
   ]
  },
  {
   "cell_type": "code",
   "execution_count": 6,
   "metadata": {
    "slideshow": {
     "slide_type": "skip"
    }
   },
   "outputs": [
    {
     "name": "stderr",
     "output_type": "stream",
     "text": [
      "/Users/panderson/opt/anaconda3/lib/python3.7/site-packages/networkx/drawing/nx_pylab.py:579: MatplotlibDeprecationWarning: \n",
      "The iterable function was deprecated in Matplotlib 3.1 and will be removed in 3.3. Use np.iterable instead.\n",
      "  if not cb.iterable(width):\n",
      "/Users/panderson/opt/anaconda3/lib/python3.7/site-packages/networkx/drawing/nx_pylab.py:676: MatplotlibDeprecationWarning: \n",
      "The iterable function was deprecated in Matplotlib 3.1 and will be removed in 3.3. Use np.iterable instead.\n",
      "  if cb.iterable(node_size):  # many node sizes\n"
     ]
    },
    {
     "name": "stdout",
     "output_type": "stream",
     "text": [
      "[0, 3, 2, 6, 8, 7, 9, 6, 5, 4, 2, 1, 0]\n",
      "[2, 6, 8, 7, 9, 6, 5, 4, 2, 1, 0, 3, 2]\n"
     ]
    },
    {
     "data": {
      "image/png": "[encoded data removed]",
      "text/plain": [
       "<Figure size 432x288 with 1 Axes>"
      ]
     },
     "metadata": {},
     "output_type": "display_data"
    }
   ],
   "source": [
    "def eulerian_cycle(G,start=None):\n",
    "    # YOUR SOLUTION HERE\n",
    "    return cycle\n",
    "    \n",
    "G = nx.MultiDiGraph()\n",
    "G.add_edge(0,3)\n",
    "G.add_edge(1,0)\n",
    "G.add_edge(2,1)\n",
    "G.add_edge(2,6)\n",
    "G.add_edge(3,2)\n",
    "G.add_edge(4,2)\n",
    "G.add_edge(5,4)\n",
    "G.add_edge(6,5)\n",
    "G.add_edge(6,8)\n",
    "G.add_edge(7,9)\n",
    "G.add_edge(8,7)\n",
    "G.add_edge(9,6)\n",
    "\n",
    "\n",
    "show(G)\n",
    "print(eulerian_cycle(G))\n",
    "\n",
    "\n",
    "print(eulerian_cycle(G,start=6)) # Should also result in a shifted but equivalent answer. \n",
    "# If your code isn't working, please carefully read the section on the ant moving around the graph and getting stuck :)"
   ]
  },
  {
   "cell_type": "markdown",
   "metadata": {
    "slideshow": {
     "slide_type": "subslide"
    }
   },
   "source": [
    "## Eulerian path\n",
    "Consider the following graph that does not contain a Eulerian cycle."
   ]
  },
  {
   "cell_type": "code",
   "execution_count": 7,
   "metadata": {
    "slideshow": {
     "slide_type": "fragment"
    }
   },
   "outputs": [
    {
     "data": {
      "image/png": "[encoded data removed]",
      "text/plain": [
       "<Figure size 432x288 with 1 Axes>"
      ]
     },
     "metadata": {},
     "output_type": "display_data"
    }
   ],
   "source": [
    "G2 = nx.MultiDiGraph()\n",
    "G2.add_edge(0,2);G2.add_edge(1,3);G2.add_edge(2,1);G2.add_edge(3,0);G2.add_edge(3,4);G2.add_edge(6,3);G2.add_edge(6,7);G2.add_edge(7,8);G2.add_edge(8,9);G2.add_edge(9,6)\n",
    "show(G2)"
   ]
  },
  {
   "cell_type": "markdown",
   "metadata": {
    "slideshow": {
     "slide_type": "subslide"
    }
   },
   "source": [
    "Consider the following function that finds the in and out degree of every node."
   ]
  },
  {
   "cell_type": "code",
   "execution_count": 8,
   "metadata": {
    "slideshow": {
     "slide_type": "skip"
    }
   },
   "outputs": [],
   "source": [
    "def calc_in_out(G):\n",
    "    in_deg = {}\n",
    "    out_deg = {}\n",
    "    for u,v in G.edges():\n",
    "        if v not in in_deg:\n",
    "            in_deg[v] = 0\n",
    "        if u not in out_deg:\n",
    "            out_deg[u] = 0\n",
    "        in_deg[v] += 1\n",
    "        out_deg[u] += 1\n",
    "    in_out = pd.Series(in_deg,name=\"in\").to_frame().join(pd.Series(out_deg,name=\"out\").to_frame(),how='outer')\n",
    "    return in_out.fillna(0).astype(int)"
   ]
  },
  {
   "cell_type": "code",
   "execution_count": 9,
   "metadata": {
    "slideshow": {
     "slide_type": "fragment"
    }
   },
   "outputs": [
    {
     "data": {
      "text/html": [
       "<div>\n",
       "<style scoped>\n",
       "    .dataframe tbody tr th:only-of-type {\n",
       "        vertical-align: middle;\n",
       "    }\n",
       "\n",
       "    .dataframe tbody tr th {\n",
       "        vertical-align: top;\n",
       "    }\n",
       "\n",
       "    .dataframe thead th {\n",
       "        text-align: right;\n",
       "    }\n",
       "</style>\n",
       "<table border=\"1\" class=\"dataframe\">\n",
       "  <thead>\n",
       "    <tr style=\"text-align: right;\">\n",
       "      <th></th>\n",
       "      <th>in</th>\n",
       "      <th>out</th>\n",
       "    </tr>\n",
       "  </thead>\n",
       "  <tbody>\n",
       "    <tr>\n",
       "      <td>0</td>\n",
       "      <td>1</td>\n",
       "      <td>1</td>\n",
       "    </tr>\n",
       "    <tr>\n",
       "      <td>1</td>\n",
       "      <td>1</td>\n",
       "      <td>1</td>\n",
       "    </tr>\n",
       "    <tr>\n",
       "      <td>2</td>\n",
       "      <td>1</td>\n",
       "      <td>1</td>\n",
       "    </tr>\n",
       "    <tr>\n",
       "      <td>3</td>\n",
       "      <td>2</td>\n",
       "      <td>2</td>\n",
       "    </tr>\n",
       "    <tr>\n",
       "      <td>4</td>\n",
       "      <td>1</td>\n",
       "      <td>0</td>\n",
       "    </tr>\n",
       "    <tr>\n",
       "      <td>6</td>\n",
       "      <td>1</td>\n",
       "      <td>2</td>\n",
       "    </tr>\n",
       "    <tr>\n",
       "      <td>7</td>\n",
       "      <td>1</td>\n",
       "      <td>1</td>\n",
       "    </tr>\n",
       "    <tr>\n",
       "      <td>8</td>\n",
       "      <td>1</td>\n",
       "      <td>1</td>\n",
       "    </tr>\n",
       "    <tr>\n",
       "      <td>9</td>\n",
       "      <td>1</td>\n",
       "      <td>1</td>\n",
       "    </tr>\n",
       "  </tbody>\n",
       "</table>\n",
       "</div>"
      ],
      "text/plain": [
       "   in  out\n",
       "0   1    1\n",
       "1   1    1\n",
       "2   1    1\n",
       "3   2    2\n",
       "4   1    0\n",
       "6   1    2\n",
       "7   1    1\n",
       "8   1    1\n",
       "9   1    1"
      ]
     },
     "execution_count": 9,
     "metadata": {},
     "output_type": "execute_result"
    }
   ],
   "source": [
    "calc_in_out(G2)"
   ]
  },
  {
   "cell_type": "markdown",
   "metadata": {
    "slideshow": {
     "slide_type": "subslide"
    }
   },
   "source": [
    "Is there \"nearly\" a cycle? If so, how would you find it? What two nodes would you connect?"
   ]
  },
  {
   "cell_type": "markdown",
   "metadata": {
    "slideshow": {
     "slide_type": "subslide"
    }
   },
   "source": [
    "**Exercise 4** Given a Eulerian directed graph, find the Eulerian path.\n",
    "\n",
    "Given: An Eulerian directed graph, in the form of a MultiDiGraph networkx object.\n",
    "\n",
    "Return: An Eulerian cycle in this graph returned as a list.\n",
    "\n",
    "Hint: Can you find the correct starting node from the output of ``in_out``?"
   ]
  },
  {
   "cell_type": "code",
   "execution_count": 10,
   "metadata": {
    "slideshow": {
     "slide_type": "subslide"
    }
   },
   "outputs": [
    {
     "data": {
      "text/plain": [
       "[6, 7, 8, 9, 6, 3, 0, 2, 1, 3, 4]"
      ]
     },
     "execution_count": 10,
     "metadata": {},
     "output_type": "execute_result"
    }
   ],
   "source": [
    "def eulerian_path(G):\n",
    "    # YOUR SOLUTION HERE\n",
    "    path = []\n",
    "    return path\n",
    "\n",
    "eulerian_path(G2)"
   ]
  },
  {
   "cell_type": "markdown",
   "metadata": {
    "slideshow": {
     "slide_type": "subslide"
    }
   },
   "source": [
    "We can finally put everything together!\n",
    "\n",
    "**Exercise 5:** Reconstruct a string from its k-mer composition.\n",
    "\n",
    "Given: Given a list of $k$-mers patterns.\n",
    "\n",
    "Return: A string ``text`` with $k$-mer composition equal to patterns."
   ]
  },
  {
   "cell_type": "code",
   "execution_count": 11,
   "metadata": {
    "slideshow": {
     "slide_type": "subslide"
    }
   },
   "outputs": [
    {
     "data": {
      "text/plain": [
       "'GGCTTACCA'"
      ]
     },
     "execution_count": 11,
     "metadata": {},
     "output_type": "execute_result"
    }
   ],
   "source": [
    "def reconstruct(kmers):\n",
    "    dB = de_bruijn(kmers)\n",
    "    path = eulerian_path(dB)\n",
    "    text = \"\"\n",
    "    # YOUR SOLUTION HERE\n",
    "    return text\n",
    "    \n",
    "kmers = [\"CTTA\",\"ACCA\",\"TACC\",\"GGCT\",\"GCTT\",\"TTAC\"]\n",
    "reconstruct(kmers)"
   ]
  },
  {
   "cell_type": "code",
   "execution_count": 12,
   "metadata": {
    "slideshow": {
     "slide_type": "skip"
    }
   },
   "outputs": [
    {
     "data": {
      "text/plain": [
       "['../tests/answers_Lab3.joblib']"
      ]
     },
     "execution_count": 12,
     "metadata": {},
     "output_type": "execute_result"
    }
   ],
   "source": [
    "# Don't forget to push!"
   ]
  }
 ],
 "metadata": {
  "celltoolbar": "Slideshow",
  "jupytext": {
   "formats": "ipynb,md,py"
  },
  "kernelspec": {
   "display_name": "Python 3",
   "language": "python",
   "name": "python3"
  },
  "language_info": {
   "codemirror_mode": {
    "name": "ipython",
    "version": 3
   },
   "file_extension": ".py",
   "mimetype": "text/x-python",
   "name": "python",
   "nbconvert_exporter": "python",
   "pygments_lexer": "ipython3",
   "version": "3.7.4"
  }
 },
 "nbformat": 4,
 "nbformat_minor": 4
}
