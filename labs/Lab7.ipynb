{
 "cells": [
  {
   "cell_type": "markdown",
   "metadata": {
    "slideshow": {
     "slide_type": "slide"
    }
   },
   "source": [
    "# Lab 7 - Are there fragile regions in the human genome?\n",
    "\n",
    "## Combinatorial Algorithms - Chapter 6\n",
    "Material and embedded lab.\n",
    "\n",
    "Motivation and some exercises are variations on those available in Bioinformatics Algorithms: An Active-Learning Approach by Phillip Compeau & Pavel Pevzner."
   ]
  },
  {
   "cell_type": "code",
   "execution_count": 1,
   "metadata": {
    "slideshow": {
     "slide_type": "skip"
    }
   },
   "outputs": [
    {
     "data": {
      "text/plain": [
       "'Verifying you can use display'"
      ]
     },
     "metadata": {},
     "output_type": "display_data"
    }
   ],
   "source": [
    "debug = True # Set this to False before pushing to be graded\n",
    "display_available = True\n",
    "try:\n",
    "    display('Verifying you can use display')\n",
    "    from IPython.display import Image\n",
    "except:\n",
    "    display_available = False\n",
    "try:\n",
    "    import pygraphviz\n",
    "    graphviz_installed = True # Set this to False if you don't have graphviz\n",
    "except:\n",
    "    graphviz_installed = False"
   ]
  },
  {
   "cell_type": "markdown",
   "metadata": {
    "slideshow": {
     "slide_type": "subslide"
    }
   },
   "source": [
    "## Announcements/updates\n",
    "Flipgrids are looking pretty good! I'll do another update grading pass over them approximately week 8.\n",
    "\n",
    "<img src=\"./grade_summary.png\">"
   ]
  },
  {
   "cell_type": "markdown",
   "metadata": {
    "slideshow": {
     "slide_type": "subslide"
    }
   },
   "source": [
    "## Assignments for week\n",
    "* Labs and keep on making progress on the project (keep up the good work)!\n",
    "\n",
    "## Other announcements\n",
    "* Schedule specifics:\n",
    "    * Monday at 2:10 Dr. Davidson and I will give a presentation on deliverables and schedule for project\n",
    "    * Galaxy Bioinformatics Platform Tutorial\n",
    "    * Move from small group meetings to more project time. Great job! I have enjoyed these. Thank you.\n",
    "* Extension labs are coming Week 10, so don't cut corners on these strength building labs\n",
    "\n",
    "## Plans for today\n",
    "See headings on slide deck"
   ]
  },
  {
   "cell_type": "markdown",
   "metadata": {
    "slideshow": {
     "slide_type": "subslide"
    }
   },
   "source": [
    "## Slack ice breaker\n",
    "What is your favorite show on Netflix right now (or Prime or Apple TV or PBS :)?"
   ]
  },
  {
   "cell_type": "markdown",
   "metadata": {
    "slideshow": {
     "slide_type": "slide"
    }
   },
   "source": [
    "## Background and terminology\n",
    "What is a genomic rearrangement?\n",
    "* You can think of it as a \"genomic earthquake\" that dramatically changes the chromosomal architecture of an organism\n",
    "\n",
    "What other changes have we been talking about before in this class?"
   ]
  },
  {
   "cell_type": "markdown",
   "metadata": {
    "slideshow": {
     "slide_type": "fragment"
    }
   },
   "source": [
    "* Point mutations - work slowly and are analogous to \"genomic erosion\""
   ]
  },
  {
   "cell_type": "markdown",
   "metadata": {
    "slideshow": {
     "slide_type": "subslide"
    }
   },
   "source": [
    "What is a central theme when studying genomic rearrangement?\n",
    "* We would like to know if just like earthquakes that occur more frequently along fault lines, we want to know if a similar principal holds for genomic regions\n",
    "\n",
    "We call these potential fault lines in the genome **rearrangement hotspots**. If these hotspots exist, we want to locate them and determine how they might relate to genetic disorders.\n",
    "\n",
    "Because the true rearrangement scenario is unknown, it is not immediately clear how we could determine whether rearrangement hotspots exist."
   ]
  },
  {
   "cell_type": "markdown",
   "metadata": {
    "slideshow": {
     "slide_type": "slide"
    }
   },
   "source": [
    "# Of Mice and Men\n",
    "* Nearly every human gene has a mouse counterpart\n",
    "* We even have genes that make tails, but those are silenced\n",
    "\n",
    "So the question is:\n",
    "> What evolutionary forces have transformed the genome of the human-mouse ancestor into the present-day human and mouse genomes?\n",
    "\n"
   ]
  },
  {
   "cell_type": "markdown",
   "metadata": {
    "slideshow": {
     "slide_type": "subslide"
    }
   },
   "source": [
    "## Genome rearrangement\n",
    "* You can cut the 23 human chromosomes into 280 pieces, shuffle these DNA fragments and then glue the pieces together in a new order to form the 20 mouse chromosomes\n",
    "* In this chapter and lab we will work to understand the genome rearrangements that have separated the human and mouse genomes"
   ]
  },
  {
   "cell_type": "markdown",
   "metadata": {
    "slideshow": {
     "slide_type": "subslide"
    }
   },
   "source": [
    "## Quick word about the X chromosome\n",
    "* One of two sex-determining chromosomes in mammals\n",
    "* It's retained nearly all its genes throughout mammalian evolution\n",
    "* We can view it as a mini-genome because this chromosome's genes have not jumped onto different chromosomes"
   ]
  },
  {
   "cell_type": "markdown",
   "metadata": {
    "slideshow": {
     "slide_type": "subslide"
    }
   },
   "source": [
    "## Synteny blocks\n",
    "* Genes across species often appear in procession\n",
    "* This is known as a synteny block\n",
    "* Constructing these blocks simplifies our problem from 150 million base pairs on the X chromosome to only eleven units"
   ]
  },
  {
   "cell_type": "markdown",
   "metadata": {
    "slideshow": {
     "slide_type": "subslide"
    }
   },
   "source": [
    "<img src=\"http://bioinformaticsalgorithms.com/images/Rearrangements/mouse_and_human_synteny_blocks.png\">\n",
    "Color and shape indicate a block. Direction indicated by arrow head. Note that some blocks are longer than others."
   ]
  },
  {
   "cell_type": "markdown",
   "metadata": {
    "slideshow": {
     "slide_type": "subslide"
    }
   },
   "source": [
    "## Reversal Genome Rearrangment\n",
    "* Flips around an interval of a chromosome and inverts the directions of any synteny blocks within that interval\n",
    "* Genome rearrangements typically cause the death or sterility of the mutated organism\n",
    "* So they are pretty rare\n",
    "* A tiny fraction may have a positive effect on survival and propagate"
   ]
  },
  {
   "cell_type": "markdown",
   "metadata": {
    "slideshow": {
     "slide_type": "subslide"
    }
   },
   "source": [
    "How do we go from human to mouse (and is this the only way we can do so with 7 changes)? \n",
    "<img src=\"http://bioinformaticsalgorithms.com/images/Rearrangements/transforming_mouse_into_human_7_reversals.png\">"
   ]
  },
  {
   "cell_type": "markdown",
   "metadata": {
    "slideshow": {
     "slide_type": "slide"
    }
   },
   "source": [
    "## Random Breakage Model\n",
    "* 1973, Susumu Ohno proposed the Random Breakage Model of chromosome evolution\n",
    "* Hypothesizes that the breakage points of rearrangements are selected randomly\n",
    "* Implies that rearrangement hotspots in mammalian genomes do not exist\n",
    "* Yet Ohno's model lacked supporting evidence when it was introduced"
   ]
  },
  {
   "cell_type": "markdown",
   "metadata": {
    "slideshow": {
     "slide_type": "subslide"
    }
   },
   "source": [
    "*Replicating a computational experiment*\n",
    "\n",
    "> In 1984, Joseph Nadeau and Benjamin Taylor asked **what the expected lengths of synteny blocks** should be after N reversals occurring at random locations in the genome. If we rule out the unlikely event that two random reversals cut the chromosome in exactly the same position, then N random reversals cut the chromosome in 2N locations and produce 2N + 1 synteny blocks. The figure below depicts the result of a computational experiment in which 320 random reversals are applied to a simulated chromosome consisting of 25,000 genes, producing 2 · 320 + 1 = 641 synteny blocks. The average synteny block size is 25,000/641 ≈ 34 genes, but this does not mean that all synteny blocks should have approximately 34 genes. If we select random locations for breakage points, then some blocks may have only a few genes, whereas other blocks may contain over a hundred."
   ]
  },
  {
   "cell_type": "markdown",
   "metadata": {
    "slideshow": {
     "slide_type": "subslide"
    }
   },
   "source": [
    "**Exercise 1**: Simulating reversals\n",
    "\n",
    "Using the method descried above, I want you to write a simulation that cuts the chromosome into blocks. You should end up with 2N+1 blocks (N=320 below). The autograder is going to look at the distribution of the lengths of your blocks. This is a stochastic simulation, so the autograder has run this simulation many times, and it is aware of reasonable levels of variation. "
   ]
  },
  {
   "cell_type": "code",
   "execution_count": 2,
   "metadata": {
    "slideshow": {
     "slide_type": "subslide"
    }
   },
   "outputs": [
    {
     "data": {
      "text/plain": [
       "0            g0\n",
       "1            g1\n",
       "2            g2\n",
       "3            g3\n",
       "4            g4\n",
       "          ...  \n",
       "24995    g24995\n",
       "24996    g24996\n",
       "24997    g24997\n",
       "24998    g24998\n",
       "24999    g24999\n",
       "Length: 25000, dtype: object"
      ]
     },
     "execution_count": 2,
     "metadata": {},
     "output_type": "execute_result"
    }
   ],
   "source": [
    "import pandas as pd\n",
    "ngenes = 25000\n",
    "chromosome = [\"g%d\"%i for i in range(ngenes)]\n",
    "pd.Series(chromosome)"
   ]
  },
  {
   "cell_type": "code",
   "execution_count": 3,
   "metadata": {
    "slideshow": {
     "slide_type": "subslide"
    }
   },
   "outputs": [
    {
     "data": {
      "text/plain": [
       "<AxesSubplot:ylabel='Frequency'>"
      ]
     },
     "metadata": {},
     "output_type": "display_data"
    },
    {
     "data": {
      "text/plain": [
       "array([340, 157,  61,  40,  19,  15,   4,   1,   2,   1])"
      ]
     },
     "execution_count": 3,
     "metadata": {},
     "output_type": "execute_result"
    },
    {
     "data": {
      "image/png": "[encoded data removed]",
      "text/plain": [
       "<Figure size 432x288 with 1 Axes>"
      ]
     },
     "metadata": {
      "needs_background": "light"
     },
     "output_type": "display_data"
    }
   ],
   "source": [
    "%matplotlib inline \n",
    "import random\n",
    "import numpy as np\n",
    "random.seed(0)\n",
    "random_reversals = 320\n",
    "\n",
    "bins = [0. ,  27.8,  55.6,  83.4, 111.2, 139. , 166.8, 194.6, 222.4, 250.2, 278.]\n",
    "lens = [] # FILLING THIS OUT WITH THE LENGTHS OF YOUR BLOCKS IS WHAT AUTOGRADER NEEDS\n",
    "# YOUR SOLUTION HERE\n",
    "if display_available:\n",
    "    display(pd.Series(lens).plot.hist());\n",
    "counts,centers = np.histogram(lens,bins=bins)\n",
    "counts"
   ]
  },
  {
   "cell_type": "markdown",
   "metadata": {
    "slideshow": {
     "slide_type": "slide"
    }
   },
   "source": [
    "## Why simulate and a greedy heuristic?\n",
    "I find it very useful to simulate my own data if for no other reason than to enhance my understanding. Since you've done a simulation, consider this:\n",
    "\n",
    "> If I gave you the blocks you arrived at in the end, can you tell me how we arrived at them?\n",
    "\n",
    "Consider the greedy heuristic next..."
   ]
  },
  {
   "cell_type": "markdown",
   "metadata": {
    "slideshow": {
     "slide_type": "subslide"
    }
   },
   "source": [
    "### Greedy Heuristic\n",
    "Simple idea that says to perform reversals that fix +1 in the first position. Followed by reversals that fix +2 in the second position and so on. By iterating we can move larger and larger elements into their correct positions.\n",
    "<pre>\n",
    "(+1 −7 +6 −10 +9 −8 +2 −11 −3 +5 +4)\n",
    "(+1 −2 +8 −9 +10 −6 +7 −11 −3 +5 +4)\n",
    "(+1 +2 +8 −9 +10 −6 +7 −11 −3 +5 +4)\n",
    "(+1 +2 +3 +11 −7 +6 −10 +9 −8 +5 +4)\n",
    "</pre>\n",
    "Take a moment on paper and try to finish. I'll put you into breakout rooms to discuss more easily. See you back in 3-5 minutes."
   ]
  },
  {
   "cell_type": "markdown",
   "metadata": {
    "slideshow": {
     "slide_type": "subslide"
    }
   },
   "source": [
    "Rest of the greedy solution:\n",
    "<pre>\n",
    "(+1 +2 +3 −4 −5 +8 −9 +10 −6 +7 −11)\n",
    "(+1 +2 +3 +4 −5 +8 −9 +10 −6 +7 −11)\n",
    "(+1 +2 +3 +4 +5 +8 −9 +10 −6 +7 −11)\n",
    "(+1 +2 +3 +4 +5 +6 −10 +9 −8 +7 −11)\n",
    "(+1 +2 +3 +4 +5 +6 −7 +8 −9 +10 −11)\n",
    "(+1 +2 +3 +4 +5 +6 +7 +8 −9 +10 −11)\n",
    "(+1 +2 +3 +4 +5 +6 +7 +8 +9 +10 −11)\n",
    "(+1 +2 +3 +4 +5 +6 +7 +8 +9 +10 +11)\n",
    "</pre>"
   ]
  },
  {
   "cell_type": "markdown",
   "metadata": {
    "slideshow": {
     "slide_type": "subslide"
    }
   },
   "source": [
    "**Exercise 2**: Greedy heuristic for sorting by reversals\n",
    "\n",
    "For this exercise, I want you to implement the greedy heuristic as described here and in Chapter 6. \n",
    "\n",
    "Input: $P$ - signed permutation (pandas Series object)\n",
    "\n",
    "Output: $d_{rev}(P)$ - number of reversals"
   ]
  },
  {
   "cell_type": "code",
   "execution_count": 4,
   "metadata": {
    "slideshow": {
     "slide_type": "subslide"
    }
   },
   "outputs": [
    {
     "data": {
      "text/plain": [
       "11"
      ]
     },
     "execution_count": 4,
     "metadata": {},
     "output_type": "execute_result"
    }
   ],
   "source": [
    "def greedy_sorting(P):\n",
    "    P = P.copy()\n",
    "    approx_rev_distance = 0\n",
    "    # YOUR SOLUTION HERE\n",
    "    return approx_rev_distance\n",
    "            \n",
    "P_list = [1,-7,6,-10,9,-8,2,-11,-3,5,4]\n",
    "P = pd.Series([1,-7,6,-10,9,-8,2,-11,-3,5,4],index=list(range(1,len(P_list)+1)))\n",
    "\n",
    "greedy_sorting(P)"
   ]
  },
  {
   "cell_type": "markdown",
   "metadata": {
    "slideshow": {
     "slide_type": "slide"
    }
   },
   "source": [
    "## Rearrangements in Tumor Genomes\n",
    "Before we go forward with better algorithms, let's take a look at a success story.\n",
    "### A win that shows why many of us work in bioinformatics...\n",
    "<img src=\"http://bioinformaticsalgorithms.com/images/Rearrangements/Philadelphia_chromosome.png\" width=600>\n",
    "\n",
    "> The figure above presents a rearrangement involving human chromosomes 9 and 22 in a rare form of cancer called chronic myeloid leukemia (CML). \n",
    "> Once scientists understood the root cause of CML, they started searching for a compound inhibiting ABL-BCR, which resulted in the introduction of a drug called Gleevec in 2001."
   ]
  },
  {
   "cell_type": "markdown",
   "metadata": {
    "slideshow": {
     "slide_type": "slide"
    }
   },
   "source": [
    "## Biology from a biologist\n",
    "\n",
    "<a href=\"https://calpoly.zoom.us/rec/play/YinWd3BobMxBvJbqeaMCN2N6Kaw5F727LRq-v11FUVNnnZQelFvrV7WKQL5k1bhmkIrBlCpo6g-K00at.l4FBAbDaeHjjGVhW?continueMode=true\">Dr. Jean Davidson</a>\n",
    "\n",
    "Please watch the entire video of course, but for our in-class portion, please skip to minute 4 and watch till minute 7. This is where she discusses the tumor example we just mentioned and consider the following while watching.\n",
    "\n",
    "1. What is the translocation event she talks about? \n",
    "2. What is the analogy she uses about a go pedal hooking up with a oncogene that makes lots of cells?\n",
    "3. What other genetic disorder did she mention?\n",
    "\n",
    "Once you watch the whole thing (at a later time), watch for her discussion on the hypothesis that we are watching evolution driven by multiple copies of genes (towards the end)."
   ]
  },
  {
   "cell_type": "markdown",
   "metadata": {
    "slideshow": {
     "slide_type": "slide"
    }
   },
   "source": [
    "## Moving past our greedy solution\n",
    "We are going to move towards creating what are known as breakpoint graphs. A natural question then is \"What is a breakpoint?\" My favorite way to understanding the world... If I can code it, I understand it (probably :)"
   ]
  },
  {
   "cell_type": "markdown",
   "metadata": {
    "slideshow": {
     "slide_type": "subslide"
    }
   },
   "source": [
    "## Breakpoints\n",
    "Put simply breakpoints are located in between adjacent blocks that do not differ by 1.\n",
    "\n",
    "* Breakpoint exists between (5,7)\n",
    "* Breakpoint does not exist between (5,6)\n",
    "* Breakpoint does not exist between (-7,-6)"
   ]
  },
  {
   "cell_type": "markdown",
   "metadata": {
    "slideshow": {
     "slide_type": "subslide"
    }
   },
   "source": [
    "Now back into breakpoint rooms really quickly, take 2-3 minutes and see if your group can work out the number of breakpoints in:\n",
    "<pre>\n",
    "(3 4 5 -12 -8 -7 -6 1 2 10 9 -11 13 14)\n",
    "</pre>"
   ]
  },
  {
   "cell_type": "markdown",
   "metadata": {
    "slideshow": {
     "slide_type": "subslide"
    }
   },
   "source": [
    "Does a breakpoint exist between (10,9)?"
   ]
  },
  {
   "cell_type": "markdown",
   "metadata": {
    "slideshow": {
     "slide_type": "fragment"
    }
   },
   "source": [
    "Yes. Consider if you just rearranged it without breaking. You would get (-9,-10). The only way this can be fixed so that it is (9,10) is if there is at least point breakpoint between 9 and 10."
   ]
  },
  {
   "cell_type": "markdown",
   "metadata": {
    "slideshow": {
     "slide_type": "subslide"
    }
   },
   "source": [
    "**Exercise 3**: Number of breakpoints problem\n",
    "\n",
    "For this exercise, I want you to find the number of breakpoints in a permutation. \n",
    "\n",
    "Input: $P$ - signed permutation (pandas Series object)\n",
    "\n",
    "Output: Number of breakpoints in this permutation"
   ]
  },
  {
   "cell_type": "code",
   "execution_count": 5,
   "metadata": {
    "slideshow": {
     "slide_type": "subslide"
    }
   },
   "outputs": [
    {
     "data": {
      "text/plain": [
       "(8, 10)"
      ]
     },
     "execution_count": 5,
     "metadata": {},
     "output_type": "execute_result"
    }
   ],
   "source": [
    "def count_breakpoints(P):\n",
    "    nbreakpoints = 0\n",
    "    # YOUR SOLUTION HERE\n",
    "    return nbreakpoints\n",
    "\n",
    "P_list2 = [3,4,5,-12,-8,-7,-6,1,2,10,9,-11,13,14]\n",
    "P2 = pd.Series(P_list2,index=list(range(1,len(P_list2)+1)))\n",
    "nbreakpoints_P2 = count_breakpoints(P2)\n",
    "P_list3 = [3,4,5,-12,-8,-7,-6,1,2,10,9,-11,14,13]\n",
    "P3 = pd.Series(P_list3,index=list(range(1,len(P_list2)+1)))\n",
    "nbreakpoints_P3 = count_breakpoints(P3)\n",
    "nbreakpoints_P2,nbreakpoints_P3"
   ]
  },
  {
   "cell_type": "markdown",
   "metadata": {
    "slideshow": {
     "slide_type": "slide"
    }
   },
   "source": [
    "## From Unichromosomal to Multichromosomal Genomes\n",
    "Four types of rearrangements\n",
    " * reversals\n",
    " * translocations - exchanges segments of different chromosomes\n",
    " * fusions - fuse two chromosomes\n",
    " * fissions - split a chromosome into two"
   ]
  },
  {
   "cell_type": "markdown",
   "metadata": {
    "slideshow": {
     "slide_type": "subslide"
    }
   },
   "source": [
    "**Translocation example**"
   ]
  },
  {
   "cell_type": "code",
   "execution_count": 6,
   "metadata": {
    "slideshow": {
     "slide_type": "fragment"
    }
   },
   "outputs": [
    {
     "name": "stdout",
     "output_type": "stream",
     "text": [
      "(1, 2, 3, 4) (5, 6)\n",
      "(7, 8) (9, 10, 11)\n",
      "(1, 2, 3, 4, 9, 10, 11) (7, 8, 5, 6)\n"
     ]
    }
   ],
   "source": [
    "chromosome1 = [1,2,3,4,5,6]; chromosome2 = [7,8,9,10,11]\n",
    "cut1 = 4; cut2 = 2 # inclusive indices of the cuts\n",
    "chromosome1a = chromosome1[:cut1]\n",
    "chromosome1b = chromosome1[cut1:]\n",
    "chromosome2a = chromosome2[:cut2]\n",
    "chromosome2b = chromosome2[cut2:]\n",
    "new_chromosome1 = chromosome1a + chromosome2b\n",
    "new_chromosome2 = chromosome2a + chromosome1b\n",
    "print(tuple(chromosome1a),tuple(chromosome1b));print(tuple(chromosome2a),tuple(chromosome2b));print(tuple(new_chromosome1),tuple(new_chromosome2))"
   ]
  },
  {
   "cell_type": "markdown",
   "metadata": {
    "slideshow": {
     "slide_type": "subslide"
    }
   },
   "source": [
    "You guessed it... Now it is time for more graphs\n",
    "<img src=\"http://bioinformaticsalgorithms.com/images/Rearrangements/genome_graph.png\" width=400>\n",
    "\n",
    "> Figure: A genome with two circular chromosomes, (+a −b −c +d) and (+e +f +g +h +i +j). Grey directed edges represent synteny blocks, and red undirected edges connect adjacent synteny blocks. A circular chromosome with n﻿ elements can be written in 2n different ways; the chromosome on the left can be written as (+a −b −c +d), (−b −c +d +a), (−c +d +a −b), (+d +a −b −c), (−a −d +c +b) (−d +c +b −a), (+c +b −a −d), and (+b −a −d +c)."
   ]
  },
  {
   "cell_type": "markdown",
   "metadata": {
    "slideshow": {
     "slide_type": "subslide"
    }
   },
   "source": [
    "**Some notes on our graphs this week**\n",
    "* Color is going to be meaningful\n",
    "* Positive and negative is going to be meaningful\n",
    "* Our graphs are going to be undirected networkx graphs, but we will put +/- on the vertices to show the direction like the last slide.\n",
    "\n",
    "Grey is going to mean exactly what is shown above.\n",
    "\n",
    "We will also use red, blue, and purple. Why... red + blue makes purple.\n",
    "\n",
    "I've included different functions in the notebook that assumes you are using these colors."
   ]
  },
  {
   "cell_type": "markdown",
   "metadata": {
    "slideshow": {
     "slide_type": "subslide"
    }
   },
   "source": [
    "**Exercise 4**: Representing a graph\n",
    "\n",
    "For this exercise, I want you to adopt a specific format for representing the genome graphs. We can't easily construct the arrow (directed and undirected), but we can come up with a straightforward way to represent it.\n",
    "\n",
    "Input: genome - a list of signed permutation (pandas Series objects)\n",
    "\n",
    "Output: A networkx graph"
   ]
  },
  {
   "cell_type": "code",
   "execution_count": 7,
   "metadata": {
    "slideshow": {
     "slide_type": "skip"
    }
   },
   "outputs": [],
   "source": [
    "import networkx as nx\n",
    "import copy\n",
    "\n",
    "def connected_component_subgraphs(G):\n",
    "    for c in nx.connected_components(G):\n",
    "        yield G.subgraph(c)\n",
    "\n",
    "def to_adj(T):\n",
    "    df = pd.DataFrame(nx.adjacency_matrix(T).todense(),index=T.nodes(),columns=T.nodes())\n",
    "    return df\n",
    "\n",
    "def to_edge_list(T):\n",
    "    return list(T.edges())\n",
    "\n",
    "def show(G,G2=None,P_G=None,red_blue=True):\n",
    "    if not display_available:\n",
    "        return\n",
    "    if display_available:\n",
    "        if P_G is None:\n",
    "            pos = nx.circular_layout(G)\n",
    "        else:\n",
    "            pos = nx.circular_layout(P_G)            \n",
    "                \n",
    "        nx.draw_networkx_nodes(G, pos=pos,node_size=600,node_color='w')\n",
    "        nx.draw_networkx_labels(G, pos=pos)        \n",
    "        nodes = list(G.nodes())\n",
    "        edge_list_grey = []\n",
    "        edge_list_red = []\n",
    "        edge_list_blue = []\n",
    "        edge_list_purple = []\n",
    "        for i in range(len(nodes)):\n",
    "            n1 = nodes[i]\n",
    "            for j in range(i+1,len(nodes)):\n",
    "                n2 = nodes[j]\n",
    "                if n1 == -n2:\n",
    "                    edge_list_grey.append((n1,n2))\n",
    "                elif G2 is not None:\n",
    "                    if G.has_edge(n1,n2) and G2.has_edge(n1,n2):\n",
    "                        edge_list_purple.append((n1,n2))\n",
    "                    elif G.has_edge(n1,n2):\n",
    "                        edge_list_red.append((n1,n2))\n",
    "                    elif G2.has_edge(n1,n2):\n",
    "                        edge_list_blue.append((n1,n2))                        \n",
    "                elif G.has_edge(n1,n2):\n",
    "                    edge_list_red.append((n1,n2))\n",
    "        nx.draw_networkx_edges(G, pos=pos,edgelist=edge_list_grey,edge_color='grey')\n",
    "        nx.draw_networkx_edges(G, pos=pos,edgelist=edge_list_purple,edge_color='purple')\n",
    "        if red_blue:\n",
    "            nx.draw_networkx_edges(G, pos=pos,edgelist=edge_list_blue,edge_color='blue')\n",
    "            nx.draw_networkx_edges(G, pos=pos,edgelist=edge_list_red,edge_color='red')\n",
    "        else:\n",
    "            nx.draw_networkx_edges(G, pos=pos,edgelist=edge_list_blue,edge_color='red')\n",
    "            nx.draw_networkx_edges(G, pos=pos,edgelist=edge_list_red,edge_color='blue')\n",
    "    else:\n",
    "        print(to_adj(G))\n",
    "        \n",
    "def show_combined(Gcombined,show_grey=True):\n",
    "    if not display_available:\n",
    "        return\n",
    "    red_edges = get_color_edges_combined(Gcombined,color=\"red\")\n",
    "    blue_edges = get_color_edges_combined(Gcombined,color=\"blue\")\n",
    "    purple_edges = get_color_edges_combined(Gcombined,color=\"purple\")\n",
    "    if show_grey:\n",
    "        grey_edges = get_color_edges_combined(Gcombined,color=\"grey\")\n",
    "    pos = nx.circular_layout(Gcombined)\n",
    "    nx.draw_networkx_nodes(Gcombined, pos=pos,node_size=600,node_color='w')\n",
    "    nx.draw_networkx_labels(Gcombined, pos=pos)\n",
    "            \n",
    "    nx.draw_networkx_edges(Gcombined, pos=pos,edgelist=blue_edges,edge_color='blue')\n",
    "    nx.draw_networkx_edges(Gcombined, pos=pos,edgelist=red_edges,edge_color='red') \n",
    "    nx.draw_networkx_edges(Gcombined, pos=pos,edgelist=purple_edges,edge_color='purple')\n",
    "\n",
    "    if show_grey:\n",
    "        nx.draw_networkx_edges(Gcombined, pos=pos,edgelist=grey_edges,edge_color='grey') \n",
    "    \n",
    "def get_color_edges_combined(Gcombined,color=\"red\"):\n",
    "    color_edges = []\n",
    "    df = pd.DataFrame(nx.adjacency_matrix(Gcombined).todense(),index=Gcombined.nodes(),columns=Gcombined.nodes())\n",
    "    for i in range(len(df)):\n",
    "        for j in range(len(df)):\n",
    "            if df.iloc[i,j] == 1:\n",
    "                data = Gcombined.get_edge_data(df.index[i],df.columns[j])\n",
    "                if data['color'] == color:\n",
    "                    color_edges.append((df.index[i],df.columns[j]))\n",
    "    return color_edges"
   ]
  },
  {
   "cell_type": "code",
   "execution_count": 8,
   "metadata": {
    "slideshow": {
     "slide_type": "subslide"
    }
   },
   "outputs": [
    {
     "data": {
      "image/png": "[encoded data removed]",
      "text/plain": [
       "<Figure size 432x288 with 1 Axes>"
      ]
     },
     "metadata": {},
     "output_type": "display_data"
    }
   ],
   "source": [
    "def genome_to_graph(genome):\n",
    "    G = nx.Graph()\n",
    "    return G\n",
    "\n",
    "G = genome_to_graph([pd.Series([1,-2,-3,4]),pd.Series([5,6,7,8,9,10])])\n",
    "show(G)"
   ]
  },
  {
   "cell_type": "markdown",
   "metadata": {
    "slideshow": {
     "slide_type": "subslide"
    }
   },
   "source": [
    "## What is a breakpoint graph and why make one?\n",
    "We can take two graphs like the one above, and combine them to make a breakpoint graph. Our algorithms can then work on the breakpoint graph (to come a bit later). Skip paste exercise 5 to see examples of the breakpoint graphs."
   ]
  },
  {
   "cell_type": "markdown",
   "metadata": {
    "slideshow": {
     "slide_type": "subslide"
    }
   },
   "source": [
    "**Exercise 5**: Creating a breakpoint graph\n",
    "\n",
    "For this exercise, I want you to construct a breakpoint graph. Again, I use a slightly different notation than the one in the book, but the results are the same.\n",
    "\n",
    "Input: two genomes where a genome is a list of signed permutation (pandas Series objects)\n",
    "\n",
    "Output: A networkx graph"
   ]
  },
  {
   "cell_type": "code",
   "execution_count": 9,
   "metadata": {
    "slideshow": {
     "slide_type": "subslide"
    }
   },
   "outputs": [
    {
     "data": {
      "image/png": "[encoded data removed]",
      "text/plain": [
       "<Figure size 432x288 with 1 Axes>"
      ]
     },
     "metadata": {},
     "output_type": "display_data"
    }
   ],
   "source": [
    "def combine(G,G2):\n",
    "    Gcombined = nx.Graph()\n",
    "    return Gcombined\n",
    "\n",
    "P4_list = [1,-2,-3,4]\n",
    "P4 = pd.Series(P4_list)\n",
    "P5_list = [1,3,2,-4]\n",
    "P5 = pd.Series(P5_list)\n",
    "\n",
    "G_P4_P5 = combine(genome_to_graph([P4]),genome_to_graph([P5]))\n",
    "show_combined(G_P4_P5)"
   ]
  },
  {
   "cell_type": "markdown",
   "metadata": {
    "slideshow": {
     "slide_type": "subslide"
    }
   },
   "source": [
    "## Example breakpoint graph\n",
    "And the different ways you can visualize them\n",
    "\n",
    "Consider what the purple means?"
   ]
  },
  {
   "cell_type": "code",
   "execution_count": 10,
   "metadata": {
    "slideshow": {
     "slide_type": "subslide"
    }
   },
   "outputs": [
    {
     "data": {
      "image/png": "[encoded data removed]",
      "text/plain": [
       "<Figure size 1080x216 with 4 Axes>"
      ]
     },
     "metadata": {},
     "output_type": "display_data"
    }
   ],
   "source": [
    "G4 = genome_to_graph([P4])\n",
    "G5 = genome_to_graph([P5])\n",
    "import matplotlib.pyplot as plt\n",
    "f,axs=plt.subplots(1,4,figsize=(15,3))\n",
    "plt.subplot(141)\n",
    "show(G4)\n",
    "plt.subplot(142)\n",
    "show(G5,red_blue=False)\n",
    "plt.subplot(143)\n",
    "show_combined(combine(G4,G5))\n",
    "plt.subplot(144)\n",
    "show(G4,G5,P_G=combine(G4,G5))"
   ]
  },
  {
   "cell_type": "markdown",
   "metadata": {
    "slideshow": {
     "slide_type": "subslide"
    }
   },
   "source": [
    "You have now made the graphs and the combined graphs. It is this combined graphs that we need to study in order to solve the problem of determine the minimum rearrangement steps. We can see the cycles in the rightmost graph. They alternate between red and blue. Start at a node and do some walking around for a second. Now let's look at the trivial example of combining two of the same graphs together."
   ]
  },
  {
   "cell_type": "code",
   "execution_count": 11,
   "metadata": {
    "slideshow": {
     "slide_type": "subslide"
    }
   },
   "outputs": [
    {
     "data": {
      "image/png": "[encoded data removed]",
      "text/plain": [
       "<Figure size 1080x216 with 4 Axes>"
      ]
     },
     "metadata": {},
     "output_type": "display_data"
    }
   ],
   "source": [
    "G4 = genome_to_graph([P4])\n",
    "G5 = genome_to_graph([P4])\n",
    "import matplotlib.pyplot as plt\n",
    "f,axs=plt.subplots(1,4,figsize=(15,3))\n",
    "plt.subplot(141)\n",
    "show(G4)\n",
    "plt.subplot(142)\n",
    "show(G5,red_blue=False)\n",
    "plt.subplot(143)\n",
    "show_combined(combine(G4,G5))\n",
    "plt.subplot(144)\n",
    "show(G4,G5,P_G=G4)"
   ]
  },
  {
   "cell_type": "markdown",
   "metadata": {
    "slideshow": {
     "slide_type": "subslide"
    }
   },
   "source": [
    "So ... what is the number of red-blue alternating cycles in this best case scenario?"
   ]
  },
  {
   "cell_type": "markdown",
   "metadata": {
    "slideshow": {
     "slide_type": "fragment"
    }
   },
   "source": [
    "4... or the number of blocks. \n",
    "\n",
    "**It follows that if we can break each non-trivial cycle in such a way that each time we generate one new \"purple\" or trivial cycle, then we have our algorithm.**\n",
    "\n",
    "Let's pause and make sure we believe that..."
   ]
  },
  {
   "cell_type": "markdown",
   "metadata": {
    "slideshow": {
     "slide_type": "subslide"
    }
   },
   "source": [
    "Once you've convinced yourself of that, our approach is to find a blue link and break our graph on either side. This is known as the two break distance. A picture from the textbook shows this, and we call this a 2-break.\n",
    "<img src=\"http://bioinformaticsalgorithms.com/images/Rearrangements/2-break_breakpoint_graph.png\">"
   ]
  },
  {
   "cell_type": "markdown",
   "metadata": {
    "slideshow": {
     "slide_type": "subslide"
    }
   },
   "source": [
    "If we know how many 2-breaks we need such that all we are left with are trivial cycles, we know the minimum number of reversals. We also know the reversals. Let's talk about how to build that!"
   ]
  },
  {
   "cell_type": "markdown",
   "metadata": {
    "slideshow": {
     "slide_type": "subslide"
    }
   },
   "source": [
    "**Exercise 6**: Finding the number of cycles in a combined graph\n",
    "\n",
    "For this exercise, I want you to determine the number of alternating cycles (red/blue) in the combined graph if you remove the grey links (e.g., (-1,1)).\n",
    "\n",
    "Input: A combined breakpoint graph\n",
    "\n",
    "Output: Number of cycles as defined in the textbook as CYCLES(P,Q)."
   ]
  },
  {
   "cell_type": "code",
   "execution_count": 12,
   "metadata": {
    "slideshow": {
     "slide_type": "subslide"
    }
   },
   "outputs": [
    {
     "data": {
      "text/plain": [
       "2"
      ]
     },
     "execution_count": 12,
     "metadata": {},
     "output_type": "execute_result"
    }
   ],
   "source": [
    "def cycles(G,G2):\n",
    "    nalt_cycles = 0\n",
    "    return nalt_cycles\n",
    "\n",
    "ncycles = cycles(genome_to_graph([P4]),genome_to_graph([P5]))\n",
    "ncycles"
   ]
  },
  {
   "cell_type": "markdown",
   "metadata": {
    "slideshow": {
     "slide_type": "subslide"
    }
   },
   "source": [
    "**Exercise 7**: Find the number of blocks in a graph\n",
    "\n",
    "For this exercise, blocks is defined as referenced in the textbook.\n",
    "\n",
    "Input: G - A genome graph\n",
    "\n",
    "Output: Number of blocks in a genome graph."
   ]
  },
  {
   "cell_type": "code",
   "execution_count": 13,
   "metadata": {
    "slideshow": {
     "slide_type": "subslide"
    }
   },
   "outputs": [
    {
     "data": {
      "text/plain": [
       "4"
      ]
     },
     "execution_count": 13,
     "metadata": {},
     "output_type": "execute_result"
    }
   ],
   "source": [
    "def blocks(G):\n",
    "    return 0\n",
    "\n",
    "nblocks = blocks(genome_to_graph([P5]))\n",
    "nblocks"
   ]
  },
  {
   "cell_type": "markdown",
   "metadata": {
    "slideshow": {
     "slide_type": "subslide"
    }
   },
   "source": [
    "**Exercise 7**: 2-Break Distance Problem\n",
    "\n",
    "For this exercise, find the 2-break distance between two genomes.\n",
    "\n",
    "Input: G - Two genomes\n",
    "\n",
    "Output: 2-break distance"
   ]
  },
  {
   "cell_type": "code",
   "execution_count": 14,
   "metadata": {
    "slideshow": {
     "slide_type": "subslide"
    }
   },
   "outputs": [
    {
     "data": {
      "text/plain": [
       "3"
      ]
     },
     "execution_count": 14,
     "metadata": {},
     "output_type": "execute_result"
    }
   ],
   "source": [
    "def two_break_distance(G,G2):\n",
    "    # YOUR SOLUTION HERE\n",
    "    return 0\n",
    "\n",
    "P6_list = [1,2,3,4,5,6]\n",
    "P6 = pd.Series(P6_list)\n",
    "P7_list = [1,-3,-6,-5]\n",
    "P7 = pd.Series(P7_list)\n",
    "P8_list = [2,-4]\n",
    "P8 = pd.Series(P8_list)\n",
    "\n",
    "distance = two_break_distance(genome_to_graph([P6]),genome_to_graph([P7,P8]))\n",
    "distance"
   ]
  },
  {
   "cell_type": "code",
   "execution_count": 15,
   "metadata": {
    "slideshow": {
     "slide_type": "skip"
    }
   },
   "outputs": [],
   "source": [
    "import matplotlib.pyplot as plt\n",
    "\n",
    "def print_from_graph(G):\n",
    "    sub_graphs = [G.subgraph(c).copy() for c in nx.connected_components(G)] #nx.connected_component_subgraphs(Gcombined)\n",
    "    all_to_print = []\n",
    "    for sub_graph in sub_graphs:   \n",
    "        if len(list(sub_graph.nodes())) == 2:\n",
    "            cycle = list(sub_graph.edges())\n",
    "        else:\n",
    "            cycle = list(nx.find_cycle(sub_graph))\n",
    "        to_print = []\n",
    "        for i in range(0,len(cycle),2):\n",
    "            to_print.append(cycle[i][1])\n",
    "        all_to_print.append(to_print)\n",
    "    print(\"\".join([str(c) for c in all_to_print]))\n",
    "    return set([tuple(c) for c in all_to_print])\n",
    "    \n",
    "def get_color(sub_graph,edge):\n",
    "    data = sub_graph.get_edge_data(edge[0],edge[1])\n",
    "    return data['color']"
   ]
  },
  {
   "cell_type": "markdown",
   "metadata": {
    "slideshow": {
     "slide_type": "subslide"
    }
   },
   "source": [
    "**Exercise 8**: Check to see if a cycle alternates between red and blue\n",
    "\n",
    "For this exercise, blocks is defined as referenced in the textbook.\n",
    "\n",
    "Input: G - A genome graph\n",
    "\n",
    "Output: None,None if this is not a red/blue alternating cycle otherwise return the cycle and the colors"
   ]
  },
  {
   "cell_type": "code",
   "execution_count": 16,
   "metadata": {
    "slideshow": {
     "slide_type": "subslide"
    }
   },
   "outputs": [
    {
     "name": "stdout",
     "output_type": "stream",
     "text": [
      "[[1, -3], [-3, -4], [-4, -1], [-1, 4], [4, 2], [2, 1]]\n",
      "['blue', 'red', 'blue', 'red', 'blue', 'red']\n"
     ]
    }
   ],
   "source": [
    "def red_blue_cycle_check(sub_graph,cycle):\n",
    "    checked_cycle = None\n",
    "    colors = []\n",
    "    return checked_cycle,colors\n",
    "\n",
    "G_P4_P5 = combine(genome_to_graph([P4]),genome_to_graph([P5]))\n",
    "# Below is an example for how you can find all the cycles\n",
    "test_cycles = list(nx.simple_cycles(G_P4_P5.to_directed()))\n",
    "edge_cycles = [] # just a cycle listed as edges\n",
    "for cycle in test_cycles:\n",
    "    edge_cycle = []\n",
    "    a = cycle[0]\n",
    "    for b in cycle[1:]:\n",
    "        edge_cycle.append([a,b])\n",
    "        a = b\n",
    "    edge_cycle.append([b,cycle[0]])\n",
    "    edge_cycles.append(edge_cycle)\n",
    "# Running the code on all cycles\n",
    "for edge_cycle in edge_cycles:\n",
    "    #print(edge_cycle)\n",
    "    checked_cycle, colors = red_blue_cycle_check(G_P4_P5,edge_cycle)\n",
    "    #print(colors)\n",
    "    \n",
    "test_edge_cycle = [[1, -3], [-3, -4], [-4, -1], [-1, 4], [4, 2], [2, 1]]\n",
    "checked_cycle, colors = red_blue_cycle_check(G_P4_P5,test_edge_cycle)\n",
    "print(checked_cycle)\n",
    "print(colors)"
   ]
  },
  {
   "cell_type": "code",
   "execution_count": 17,
   "metadata": {
    "slideshow": {
     "slide_type": "skip"
    }
   },
   "outputs": [],
   "source": [
    "# More predefined functions for you to use\n",
    "def two_break_on_genome_graph(G,i1,i2,i3,i4,color='red'):\n",
    "    G.remove_edge(i1,i2)\n",
    "    G.remove_edge(i3,i4)\n",
    "    if i1 != -i4:\n",
    "        G.add_edge(i1,i4,color=color)\n",
    "    if i2 != -i3:\n",
    "        G.add_edge(i2,i3,color=color)"
   ]
  },
  {
   "cell_type": "markdown",
   "metadata": {
    "slideshow": {
     "slide_type": "subslide"
    }
   },
   "source": [
    "**Exercise 9**: 2-Break Sorting Problem\n",
    "\n",
    "Find a shortest transformation of one genome into another by 2-breaks.\n",
    "\n",
    "Input: Two genomes with circular chromosomes on the same set of synteny blocks (i.e., the usual)\n",
    "\n",
    "Output: The sequence of genomes resulting from applying a shortest sequence of 2-breaks transforming one genome into the other."
   ]
  },
  {
   "cell_type": "code",
   "execution_count": 18,
   "metadata": {
    "slideshow": {
     "slide_type": "subslide"
    }
   },
   "outputs": [
    {
     "name": "stdout",
     "output_type": "stream",
     "text": [
      "[1, -2, -3, 4]\n",
      "[[1, -2], [-2, 3], [3, -4], [-4, -3], [-3, -1], [-1, 4], [4, 2], [2, 1]]\n",
      "[1, -2, -3][4]\n"
     ]
    },
    {
     "data": {
      "text/plain": [
       "[{(1, -2, -3, 4)}, {(1, -2, -3), (4,)}]"
      ]
     },
     "execution_count": 18,
     "metadata": {},
     "output_type": "execute_result"
    },
    {
     "data": {
      "image/png": "[encoded data removed]",
      "text/plain": [
       "<Figure size 1440x1440 with 4 Axes>"
      ]
     },
     "metadata": {},
     "output_type": "display_data"
    }
   ],
   "source": [
    "def shortest_rearrangement_scenario(P,Q):\n",
    "    G_P = genome_to_graph(P)\n",
    "    G_Q = genome_to_graph(Q)\n",
    "    distance = two_break_distance(G_P,G_Q)\n",
    "    Gcombined = combine(G_P,G_Q)\n",
    "    fig = plt.figure(figsize=(20, 20));\n",
    "    steps = [print_from_graph(G_P)]\n",
    "    c=1\n",
    "    plt.subplot(distance+1, 2, c); c+=1\n",
    "    show_combined(Gcombined,show_grey=True)\n",
    "    plt.subplot(distance+1, 2, c); c+=1\n",
    "    show(G_P,P_G=Gcombined)\n",
    "    first = True\n",
    "    return steps\n",
    "        \n",
    "steps = shortest_rearrangement_scenario([pd.Series([1,-2,-3,4])],[pd.Series([1,2,-4,-3])])\n",
    "steps"
   ]
  },
  {
   "cell_type": "code",
   "execution_count": 19,
   "metadata": {
    "lines_to_next_cell": 0,
    "slideshow": {
     "slide_type": "skip"
    }
   },
   "outputs": [],
   "source": [
    "# Don't forget to push!"
   ]
  },
  {
   "cell_type": "code",
   "execution_count": null,
   "metadata": {
    "lines_to_next_cell": 2
   },
   "outputs": [],
   "source": []
  },
  {
   "cell_type": "markdown",
   "metadata": {},
   "source": [
    "\n",
    "\n",
    "\n",
    "\n",
    "\n",
    "\n",
    "\n",
    "\n",
    "\n",
    "\n",
    "\n",
    "\n",
    "\n",
    "\n",
    "\n",
    "\n",
    "\n",
    "\n",
    "\n",
    "\n"
   ]
  }
 ],
 "metadata": {
  "celltoolbar": "Slideshow",
  "jupytext": {
   "encoding": "# -*- coding: utf-8 -*-",
   "formats": "ipynb,md,py"
  },
  "kernelspec": {
   "display_name": "Python 3",
   "language": "python",
   "name": "python3"
  },
  "language_info": {
   "codemirror_mode": {
    "name": "ipython",
    "version": 3
   },
   "file_extension": ".py",
   "mimetype": "text/x-python",
   "name": "python",
   "nbconvert_exporter": "python",
   "pygments_lexer": "ipython3",
   "version": "3.7.3"
  }
 },
 "nbformat": 4,
 "nbformat_minor": 4
}
